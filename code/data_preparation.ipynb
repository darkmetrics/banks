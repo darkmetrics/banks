{
 "cells": [
  {
   "cell_type": "code",
   "execution_count": 1,
   "metadata": {},
   "outputs": [],
   "source": [
    "import numpy as np\n",
    "import pandas as pd\n",
    "import matplotlib.pyplot as plt\n",
    "import seaborn as sns\n",
    "from pathlib import Path\n",
    "\n",
    "import warnings\n",
    "warnings.simplefilter('ignore')"
   ]
  },
  {
   "cell_type": "markdown",
   "metadata": {},
   "source": [
    "Необязательная фигня (нужна, если надо менять код в импортируемых модулях в процессе работы над ноутбуком)."
   ]
  },
  {
   "cell_type": "code",
   "execution_count": 2,
   "metadata": {},
   "outputs": [],
   "source": [
    "%load_ext autoreload\n",
    "%autoreload 2"
   ]
  },
  {
   "cell_type": "markdown",
   "metadata": {},
   "source": [
    "### 1. Парсер."
   ]
  },
  {
   "cell_type": "markdown",
   "metadata": {},
   "source": [
    "Пример использования: нужна 101 форма, сохраняем архивы в заданной директории в папке 101_zipped, сами файлы сохраняются в заданной директории в папке 101. \n",
    "\n",
    "**Важные моменты**.\n",
    "1. Поскольку эти файлы весят несколько гигабайт, я бы не рискнул загружать их в ту же папку, где хранится код для Github. Иначе, когда вы захотите закинуть свой код на гитхаб, вам придется ждать кучу времени, пока данные (больше 10 гб) передадутся.\n",
    "2. Если какие-то файлы раньше были в папках, которые мы хотим стереть и которые вместе с данными создаем заново, все эти файлы надо закрыть до запуска скрипта! По умолчанию, если в папке, куда мы распаковываем данные, были подпапки с теми же названиями, что и названия папок, которые мы получим при распаковке - старые одноименные папки стираются. \n",
    "3. Сами формы 101 и 102 суммарно весят около **10 гб**. С учетом того, что они будут распакованы в два .csv файла, для скачивания и обработки форм нужно иметь не менее **15 гб** свободного места на диске.\n",
    "4. **Путь**, по которому хранится файл, **должен состоять только из английских букв и слов**. Иначе некоторые Питоновские встроенные программы не работают, поскольку они не работают с кириллицей."
   ]
  },
  {
   "cell_type": "code",
   "execution_count": 3,
   "metadata": {},
   "outputs": [],
   "source": [
    "from preprocessing import load_bank_statements, get_bank_names"
   ]
  },
  {
   "cell_type": "markdown",
   "metadata": {},
   "source": [
    "#### 1.1 Введем путь, по которому мы будем сохранять данные."
   ]
  },
  {
   "cell_type": "code",
   "execution_count": 4,
   "metadata": {},
   "outputs": [
    {
     "name": "stdout",
     "output_type": "stream",
     "text": [
      "D:\\Users\\Vladimir\\Desktop\\FMFI_2\\bank project data\n",
      "Путь, по которому мы будем сохранять архивы и файлы dbf: D:\\Users\\Vladimir\\Desktop\\FMFI_2\\bank project data.\n"
     ]
    }
   ],
   "source": [
    "path = Path(str(input()))\n",
    "print(f'Путь, по которому мы будем сохранять архивы и файлы dbf: {path}.')"
   ]
  },
  {
   "cell_type": "markdown",
   "metadata": {},
   "source": [
    "#### 1.2. Загрузим 101 и 102 формы."
   ]
  },
  {
   "cell_type": "code",
   "execution_count": 5,
   "metadata": {},
   "outputs": [
    {
     "name": "stdout",
     "output_type": "stream",
     "text": [
      "Downloading and unpacking files from www.cbr.ru, please be patient...\n"
     ]
    },
    {
     "name": "stderr",
     "output_type": "stream",
     "text": [
      "100%|█████████████████████████████████████| 212/212 [00:37<00:00,  5.60it/s]\n"
     ]
    },
    {
     "name": "stdout",
     "output_type": "stream",
     "text": [
      "Congratulations! Finished.\n",
      "Wall time: 1min 3s\n"
     ]
    }
   ],
   "source": [
    "%%time\n",
    "load_bank_statements(form_number=101, filepath=path)"
   ]
  },
  {
   "cell_type": "code",
   "execution_count": 6,
   "metadata": {},
   "outputs": [
    {
     "name": "stdout",
     "output_type": "stream",
     "text": [
      "Downloading and unpacking files from www.cbr.ru, please be patient...\n"
     ]
    },
    {
     "name": "stderr",
     "output_type": "stream",
     "text": [
      "100%|███████████████████████████████████████| 71/71 [00:04<00:00, 14.31it/s]\n"
     ]
    },
    {
     "name": "stdout",
     "output_type": "stream",
     "text": [
      "Congratulations! Finished.\n"
     ]
    }
   ],
   "source": [
    "load_bank_statements(form_number=102, filepath=path)"
   ]
  },
  {
   "cell_type": "markdown",
   "metadata": {},
   "source": [
    "#### 1.3. Считаем и объединим все файлы с именами."
   ]
  },
  {
   "cell_type": "markdown",
   "metadata": {},
   "source": [
    "Сделаем это для 101 и 102 формы, результат сравним. По идее, REGN - уникальные числовые индикаторы для названий банков - должны совпадать для всех форм (101, 102 и так далее) - еще один вопрос к Помориной.\n",
    "\n",
    "Я записал путь для чтения названий банков из папки ``path/'101'``, так как такую запись позволяет библиотека Pathlib. Она есть в Питоне по умолчанию и очень удобна для работы с путями до файлов или папок."
   ]
  },
  {
   "cell_type": "code",
   "execution_count": 7,
   "metadata": {},
   "outputs": [],
   "source": [
    "out = get_bank_names(filepath=path/'101', form_number=101)"
   ]
  },
  {
   "cell_type": "code",
   "execution_count": 8,
   "metadata": {},
   "outputs": [
    {
     "data": {
      "text/html": [
       "<div>\n",
       "<style scoped>\n",
       "    .dataframe tbody tr th:only-of-type {\n",
       "        vertical-align: middle;\n",
       "    }\n",
       "\n",
       "    .dataframe tbody tr th {\n",
       "        vertical-align: top;\n",
       "    }\n",
       "\n",
       "    .dataframe thead th {\n",
       "        text-align: right;\n",
       "    }\n",
       "</style>\n",
       "<table border=\"1\" class=\"dataframe\">\n",
       "  <thead>\n",
       "    <tr style=\"text-align: right;\">\n",
       "      <th></th>\n",
       "      <th>REGN</th>\n",
       "      <th>NAME_B</th>\n",
       "    </tr>\n",
       "  </thead>\n",
       "  <tbody>\n",
       "    <tr>\n",
       "      <th>0</th>\n",
       "      <td>1</td>\n",
       "      <td>ЗАО ЮНИКРЕДИТ БАНК</td>\n",
       "    </tr>\n",
       "    <tr>\n",
       "      <th>1</th>\n",
       "      <td>3</td>\n",
       "      <td>МАКБ \"ПРЕМЬЕР\" ЗАО</td>\n",
       "    </tr>\n",
       "    <tr>\n",
       "      <th>2</th>\n",
       "      <td>21</td>\n",
       "      <td>ООО \"ПРИМТЕРКОМБАНК\"</td>\n",
       "    </tr>\n",
       "    <tr>\n",
       "      <th>3</th>\n",
       "      <td>52</td>\n",
       "      <td>ОАО \"ЭНЕРГОМАШБАНК\"</td>\n",
       "    </tr>\n",
       "    <tr>\n",
       "      <th>4</th>\n",
       "      <td>55</td>\n",
       "      <td>ОАО МАБ \"ТЕМПБАНК\"</td>\n",
       "    </tr>\n",
       "  </tbody>\n",
       "</table>\n",
       "</div>"
      ],
      "text/plain": [
       "   REGN                NAME_B\n",
       "0     1    ЗАО ЮНИКРЕДИТ БАНК\n",
       "1     3    МАКБ \"ПРЕМЬЕР\" ЗАО\n",
       "2    21  ООО \"ПРИМТЕРКОМБАНК\"\n",
       "3    52   ОАО \"ЭНЕРГОМАШБАНК\"\n",
       "4    55    ОАО МАБ \"ТЕМПБАНК\""
      ]
     },
     "execution_count": 8,
     "metadata": {},
     "output_type": "execute_result"
    }
   ],
   "source": [
    "out.head(5)"
   ]
  },
  {
   "cell_type": "code",
   "execution_count": 9,
   "metadata": {},
   "outputs": [],
   "source": [
    "out102 = get_bank_names(filepath=path/'102', form_number=102)"
   ]
  },
  {
   "cell_type": "code",
   "execution_count": 10,
   "metadata": {},
   "outputs": [
    {
     "data": {
      "text/html": [
       "<div>\n",
       "<style scoped>\n",
       "    .dataframe tbody tr th:only-of-type {\n",
       "        vertical-align: middle;\n",
       "    }\n",
       "\n",
       "    .dataframe tbody tr th {\n",
       "        vertical-align: top;\n",
       "    }\n",
       "\n",
       "    .dataframe thead th {\n",
       "        text-align: right;\n",
       "    }\n",
       "</style>\n",
       "<table border=\"1\" class=\"dataframe\">\n",
       "  <thead>\n",
       "    <tr style=\"text-align: right;\">\n",
       "      <th></th>\n",
       "      <th>REGN</th>\n",
       "      <th>NAME_B</th>\n",
       "    </tr>\n",
       "  </thead>\n",
       "  <tbody>\n",
       "    <tr>\n",
       "      <th>0</th>\n",
       "      <td>1</td>\n",
       "      <td>ЗАО ЮНИКРЕДИТ БАНК</td>\n",
       "    </tr>\n",
       "    <tr>\n",
       "      <th>1</th>\n",
       "      <td>3</td>\n",
       "      <td>МАКБ \"ПРЕМЬЕР\" ЗАО</td>\n",
       "    </tr>\n",
       "    <tr>\n",
       "      <th>2</th>\n",
       "      <td>21</td>\n",
       "      <td>ООО \"ПРИМТЕРКОМБАНК\"</td>\n",
       "    </tr>\n",
       "    <tr>\n",
       "      <th>3</th>\n",
       "      <td>52</td>\n",
       "      <td>ОАО \"ЭНЕРГОМАШБАНК\"</td>\n",
       "    </tr>\n",
       "    <tr>\n",
       "      <th>4</th>\n",
       "      <td>55</td>\n",
       "      <td>ОАО МАБ \"ТЕМПБАНК\"</td>\n",
       "    </tr>\n",
       "  </tbody>\n",
       "</table>\n",
       "</div>"
      ],
      "text/plain": [
       "   REGN                NAME_B\n",
       "0     1    ЗАО ЮНИКРЕДИТ БАНК\n",
       "1     3    МАКБ \"ПРЕМЬЕР\" ЗАО\n",
       "2    21  ООО \"ПРИМТЕРКОМБАНК\"\n",
       "3    52   ОАО \"ЭНЕРГОМАШБАНК\"\n",
       "4    55    ОАО МАБ \"ТЕМПБАНК\""
      ]
     },
     "execution_count": 10,
     "metadata": {},
     "output_type": "execute_result"
    }
   ],
   "source": [
    "out102.head(5)"
   ]
  },
  {
   "cell_type": "code",
   "execution_count": 11,
   "metadata": {},
   "outputs": [
    {
     "data": {
      "text/plain": [
       "((1143, 2), (1137, 2))"
      ]
     },
     "execution_count": 11,
     "metadata": {},
     "output_type": "execute_result"
    }
   ],
   "source": [
    "out.shape, out102.shape"
   ]
  },
  {
   "cell_type": "markdown",
   "metadata": {},
   "source": [
    "Не все банки, которые есть в форме 101, попали в форму 102. Возможно и обратное: если в 102 форме меньше банков, это не значит, что в ней нет названий, не попавших в форму 101. Посмотрим на банки, которые попали только в одну из двух форм:"
   ]
  },
  {
   "cell_type": "code",
   "execution_count": 12,
   "metadata": {},
   "outputs": [
    {
     "data": {
      "text/html": [
       "<div>\n",
       "<style scoped>\n",
       "    .dataframe tbody tr th:only-of-type {\n",
       "        vertical-align: middle;\n",
       "    }\n",
       "\n",
       "    .dataframe tbody tr th {\n",
       "        vertical-align: top;\n",
       "    }\n",
       "\n",
       "    .dataframe thead th {\n",
       "        text-align: right;\n",
       "    }\n",
       "</style>\n",
       "<table border=\"1\" class=\"dataframe\">\n",
       "  <thead>\n",
       "    <tr style=\"text-align: right;\">\n",
       "      <th></th>\n",
       "      <th>REGN</th>\n",
       "      <th>NAME_B</th>\n",
       "    </tr>\n",
       "  </thead>\n",
       "  <tbody>\n",
       "    <tr>\n",
       "      <th>712</th>\n",
       "      <td>1668</td>\n",
       "      <td>МАБЭС \"Сахалин-Вест\" ОАО</td>\n",
       "    </tr>\n",
       "    <tr>\n",
       "      <th>749</th>\n",
       "      <td>3156</td>\n",
       "      <td>КБИ БАНК ООО</td>\n",
       "    </tr>\n",
       "    <tr>\n",
       "      <th>834</th>\n",
       "      <td>2980</td>\n",
       "      <td>КБ \"ЛИБРА\" ООО</td>\n",
       "    </tr>\n",
       "    <tr>\n",
       "      <th>910</th>\n",
       "      <td>2220</td>\n",
       "      <td>ЗАО \"МЕГА БАНК\"</td>\n",
       "    </tr>\n",
       "    <tr>\n",
       "      <th>1103</th>\n",
       "      <td>2786</td>\n",
       "      <td>ОАО Новосибирский муниципальный банк</td>\n",
       "    </tr>\n",
       "    <tr>\n",
       "      <th>1116</th>\n",
       "      <td>3521</td>\n",
       "      <td>НКО \"ЮТИКПЭЙ\" (ООО)</td>\n",
       "    </tr>\n",
       "  </tbody>\n",
       "</table>\n",
       "</div>"
      ],
      "text/plain": [
       "      REGN                                NAME_B\n",
       "712   1668              МАБЭС \"Сахалин-Вест\" ОАО\n",
       "749   3156                          КБИ БАНК ООО\n",
       "834   2980                        КБ \"ЛИБРА\" ООО\n",
       "910   2220                       ЗАО \"МЕГА БАНК\"\n",
       "1103  2786  ОАО Новосибирский муниципальный банк\n",
       "1116  3521                   НКО \"ЮТИКПЭЙ\" (ООО)"
      ]
     },
     "execution_count": 12,
     "metadata": {},
     "output_type": "execute_result"
    },
    {
     "name": "stdout",
     "output_type": "stream",
     "text": [
      "Количество банков, не попавших в обе формы: 6\n"
     ]
    }
   ],
   "source": [
    "mismatch = pd.concat([out, out102]).drop_duplicates(subset='REGN', keep=False)\n",
    "mismatch\n",
    "print(f'Количество банков, не попавших в обе формы: {mismatch.shape[0]}')"
   ]
  },
  {
   "cell_type": "markdown",
   "metadata": {},
   "source": [
    "Теперь уже за исследователем решение, что делать. Но поскольку этих банков не очень много, и они не слишком похожи на системно значимые, для модели дефолта оптимальная стратегия будет просто выкинуть их из выборки.\n",
    "\n",
    "**Важно!** Также, чтобы не было путаницы с названиями, в дальнейшей работе надо будет использовать для работы и с формой 101, и с формой 102 один и тот же датафрейм с названиями банков - вполне возможно, название какого-то банка из формы 101 забито большими буквами в стобце `NAME_B` формы 102, может возникнуть ненужная путаница."
   ]
  },
  {
   "cell_type": "markdown",
   "metadata": {},
   "source": [
    "**Заметки по поводу агрегируемых файлов.**\n",
    "1. Для сбора имен я считывал все файлы из 101 формы, в названии которых есть `N1`, для формы 102 ищутся файлы с `NP1` в названии. Но также для 2004-2008 в форме 101 есть файлы с `N`, в которых тоже содержатся имена банков - видимо, это для древнего формата отчетности. Аналогично, для формы 102 такие файлы содержат в названии `NP`. Вопрос: стоит ли учитывать более древние файлы? В связи с чем долгое время публиковались оба формата одновременно? Марина Александровна сказала разобраться с этим самостоятельно. Поскольку `N`, `NP1` в последние годы не публикуются, я решил использовать более современные файлы.\n",
    "2. Аналогичный вопрос по самим отчетам - долгое время публиковалось сразу по 6 файлов за 1 месяц или квартал, то есть старый и новый форматы отчетности. В связи с чем это делалось? Стоит ли это учитывать, если да, то как? Я решил использовать более современные файлы с `B1` и `_P1` в названиях, которые публикуются с 2007 года по настоящее время."
   ]
  },
  {
   "cell_type": "markdown",
   "metadata": {},
   "source": [
    "#### 1.4. Считаем и объединим файлы с отчетностью.\n",
    "Осталось считать сами файлы с отчетностью. Особенности считывания:\n",
    "1. При считывании даты делаются индексом в табличке.\n",
    "2. Есть ряд странных счетов в форме 101, расшифровку которых в документах ЦБ я найти не смог. Эти счета: ITGAP', '304.1', '408.1', '408.2', '474.1', '1XXXX', '2XXXX', '3XXXX', '4XXXX', '5XXXX', '6XXXX','7XXXX', '8XXXX', '9XXXX'. По умолчанию функция ``read_form`` удаляет эти счета. Это делается, чтобы столбец с номером счета можно было преобразовать в формат `integer`. Такое преобразование позволяет существенно оптимизировать скорость обработки файла и объем памяти, требуемой для хранения файла. За удаление ненужных параметров отвечает опция ``remove_unknown_accs.``\n",
    "3. Опция ``to_int`` позволяет конвертировать столбец с номерами счетов в целочисленный формат.\n",
    "4. До 2015 года в 102 форме не ставили столбец с датой. Это учтено, создается дата по названию папки."
   ]
  },
  {
   "cell_type": "code",
   "execution_count": 13,
   "metadata": {},
   "outputs": [],
   "source": [
    "from preprocessing import read_form"
   ]
  },
  {
   "cell_type": "code",
   "execution_count": 14,
   "metadata": {},
   "outputs": [
    {
     "name": "stderr",
     "output_type": "stream",
     "text": [
      "\r",
      "  0%|                                               | 0/177 [00:00<?, ?it/s]"
     ]
    },
    {
     "name": "stdout",
     "output_type": "stream",
     "text": [
      "Reading .dbf files from your PC, please wait...\n"
     ]
    },
    {
     "name": "stderr",
     "output_type": "stream",
     "text": [
      "100%|█████████████████████████████████████| 177/177 [00:48<00:00,  3.66it/s]\n"
     ]
    },
    {
     "name": "stdout",
     "output_type": "stream",
     "text": [
      "Opened files. Merging them...\n",
      "Done.\n",
      "Wall time: 2min 49s\n"
     ]
    }
   ],
   "source": [
    "%%time\n",
    "test = read_form(path/'101', form_number=101)"
   ]
  },
  {
   "cell_type": "code",
   "execution_count": 17,
   "metadata": {},
   "outputs": [
    {
     "data": {
      "text/html": [
       "<div>\n",
       "<style scoped>\n",
       "    .dataframe tbody tr th:only-of-type {\n",
       "        vertical-align: middle;\n",
       "    }\n",
       "\n",
       "    .dataframe tbody tr th {\n",
       "        vertical-align: top;\n",
       "    }\n",
       "\n",
       "    .dataframe thead th {\n",
       "        text-align: right;\n",
       "    }\n",
       "</style>\n",
       "<table border=\"1\" class=\"dataframe\">\n",
       "  <thead>\n",
       "    <tr style=\"text-align: right;\">\n",
       "      <th></th>\n",
       "      <th>REGN</th>\n",
       "      <th>PLAN</th>\n",
       "      <th>NUM_SC</th>\n",
       "      <th>A_P</th>\n",
       "      <th>VR</th>\n",
       "      <th>VV</th>\n",
       "      <th>VITG</th>\n",
       "      <th>ORA</th>\n",
       "      <th>OVA</th>\n",
       "      <th>OITGA</th>\n",
       "      <th>ORP</th>\n",
       "      <th>OVP</th>\n",
       "      <th>OITGP</th>\n",
       "      <th>IR</th>\n",
       "      <th>IV</th>\n",
       "      <th>IITG</th>\n",
       "      <th>PRIZ</th>\n",
       "    </tr>\n",
       "    <tr>\n",
       "      <th>DT</th>\n",
       "      <th></th>\n",
       "      <th></th>\n",
       "      <th></th>\n",
       "      <th></th>\n",
       "      <th></th>\n",
       "      <th></th>\n",
       "      <th></th>\n",
       "      <th></th>\n",
       "      <th></th>\n",
       "      <th></th>\n",
       "      <th></th>\n",
       "      <th></th>\n",
       "      <th></th>\n",
       "      <th></th>\n",
       "      <th></th>\n",
       "      <th></th>\n",
       "      <th></th>\n",
       "    </tr>\n",
       "  </thead>\n",
       "  <tbody>\n",
       "    <tr>\n",
       "      <th>2007-01-01</th>\n",
       "      <td>1</td>\n",
       "      <td>А</td>\n",
       "      <td>10206</td>\n",
       "      <td>2</td>\n",
       "      <td>4540424.0</td>\n",
       "      <td>0.0</td>\n",
       "      <td>4540424.0</td>\n",
       "      <td>720888.0</td>\n",
       "      <td>0.0</td>\n",
       "      <td>720888.0</td>\n",
       "      <td>3107579.0</td>\n",
       "      <td>0.0</td>\n",
       "      <td>3107579.0</td>\n",
       "      <td>6927115.0</td>\n",
       "      <td>0.0</td>\n",
       "      <td>6927115.0</td>\n",
       "      <td>1</td>\n",
       "    </tr>\n",
       "    <tr>\n",
       "      <th>2007-01-01</th>\n",
       "      <td>2721</td>\n",
       "      <td>А</td>\n",
       "      <td>47411</td>\n",
       "      <td>2</td>\n",
       "      <td>6339.0</td>\n",
       "      <td>5913.0</td>\n",
       "      <td>12252.0</td>\n",
       "      <td>2935.0</td>\n",
       "      <td>726.0</td>\n",
       "      <td>3661.0</td>\n",
       "      <td>2329.0</td>\n",
       "      <td>2328.0</td>\n",
       "      <td>4657.0</td>\n",
       "      <td>5733.0</td>\n",
       "      <td>7515.0</td>\n",
       "      <td>13248.0</td>\n",
       "      <td>1</td>\n",
       "    </tr>\n",
       "    <tr>\n",
       "      <th>2007-01-01</th>\n",
       "      <td>2721</td>\n",
       "      <td>А</td>\n",
       "      <td>47408</td>\n",
       "      <td>1</td>\n",
       "      <td>0.0</td>\n",
       "      <td>0.0</td>\n",
       "      <td>0.0</td>\n",
       "      <td>11788.0</td>\n",
       "      <td>51990.0</td>\n",
       "      <td>63778.0</td>\n",
       "      <td>11788.0</td>\n",
       "      <td>51990.0</td>\n",
       "      <td>63778.0</td>\n",
       "      <td>0.0</td>\n",
       "      <td>0.0</td>\n",
       "      <td>0.0</td>\n",
       "      <td>1</td>\n",
       "    </tr>\n",
       "    <tr>\n",
       "      <th>2007-01-01</th>\n",
       "      <td>2721</td>\n",
       "      <td>А</td>\n",
       "      <td>47407</td>\n",
       "      <td>2</td>\n",
       "      <td>0.0</td>\n",
       "      <td>0.0</td>\n",
       "      <td>0.0</td>\n",
       "      <td>45580.0</td>\n",
       "      <td>18218.0</td>\n",
       "      <td>63798.0</td>\n",
       "      <td>45580.0</td>\n",
       "      <td>18218.0</td>\n",
       "      <td>63798.0</td>\n",
       "      <td>0.0</td>\n",
       "      <td>0.0</td>\n",
       "      <td>0.0</td>\n",
       "      <td>1</td>\n",
       "    </tr>\n",
       "    <tr>\n",
       "      <th>2007-01-01</th>\n",
       "      <td>2721</td>\n",
       "      <td>А</td>\n",
       "      <td>47405</td>\n",
       "      <td>2</td>\n",
       "      <td>0.0</td>\n",
       "      <td>0.0</td>\n",
       "      <td>0.0</td>\n",
       "      <td>0.0</td>\n",
       "      <td>4859.0</td>\n",
       "      <td>4859.0</td>\n",
       "      <td>0.0</td>\n",
       "      <td>4859.0</td>\n",
       "      <td>4859.0</td>\n",
       "      <td>0.0</td>\n",
       "      <td>0.0</td>\n",
       "      <td>0.0</td>\n",
       "      <td>1</td>\n",
       "    </tr>\n",
       "    <tr>\n",
       "      <th>...</th>\n",
       "      <td>...</td>\n",
       "      <td>...</td>\n",
       "      <td>...</td>\n",
       "      <td>...</td>\n",
       "      <td>...</td>\n",
       "      <td>...</td>\n",
       "      <td>...</td>\n",
       "      <td>...</td>\n",
       "      <td>...</td>\n",
       "      <td>...</td>\n",
       "      <td>...</td>\n",
       "      <td>...</td>\n",
       "      <td>...</td>\n",
       "      <td>...</td>\n",
       "      <td>...</td>\n",
       "      <td>...</td>\n",
       "      <td>...</td>\n",
       "    </tr>\n",
       "    <tr>\n",
       "      <th>2021-09-01</th>\n",
       "      <td>1557</td>\n",
       "      <td>А</td>\n",
       "      <td>47702</td>\n",
       "      <td>2</td>\n",
       "      <td>1966.0</td>\n",
       "      <td>0.0</td>\n",
       "      <td>1966.0</td>\n",
       "      <td>44.0</td>\n",
       "      <td>0.0</td>\n",
       "      <td>44.0</td>\n",
       "      <td>57.0</td>\n",
       "      <td>0.0</td>\n",
       "      <td>57.0</td>\n",
       "      <td>1979.0</td>\n",
       "      <td>0.0</td>\n",
       "      <td>1979.0</td>\n",
       "      <td>1</td>\n",
       "    </tr>\n",
       "    <tr>\n",
       "      <th>2021-09-01</th>\n",
       "      <td>1557</td>\n",
       "      <td>А</td>\n",
       "      <td>47466</td>\n",
       "      <td>2</td>\n",
       "      <td>23759.0</td>\n",
       "      <td>0.0</td>\n",
       "      <td>23759.0</td>\n",
       "      <td>18274.0</td>\n",
       "      <td>0.0</td>\n",
       "      <td>18274.0</td>\n",
       "      <td>22258.0</td>\n",
       "      <td>0.0</td>\n",
       "      <td>22258.0</td>\n",
       "      <td>27743.0</td>\n",
       "      <td>0.0</td>\n",
       "      <td>27743.0</td>\n",
       "      <td>1</td>\n",
       "    </tr>\n",
       "    <tr>\n",
       "      <th>2021-09-01</th>\n",
       "      <td>1557</td>\n",
       "      <td>А</td>\n",
       "      <td>47462</td>\n",
       "      <td>2</td>\n",
       "      <td>0.0</td>\n",
       "      <td>0.0</td>\n",
       "      <td>0.0</td>\n",
       "      <td>263844.0</td>\n",
       "      <td>0.0</td>\n",
       "      <td>263844.0</td>\n",
       "      <td>263844.0</td>\n",
       "      <td>0.0</td>\n",
       "      <td>263844.0</td>\n",
       "      <td>0.0</td>\n",
       "      <td>0.0</td>\n",
       "      <td>0.0</td>\n",
       "      <td>1</td>\n",
       "    </tr>\n",
       "    <tr>\n",
       "      <th>2021-09-01</th>\n",
       "      <td>1557</td>\n",
       "      <td>А</td>\n",
       "      <td>47452</td>\n",
       "      <td>2</td>\n",
       "      <td>13034.0</td>\n",
       "      <td>0.0</td>\n",
       "      <td>13034.0</td>\n",
       "      <td>7073.0</td>\n",
       "      <td>0.0</td>\n",
       "      <td>7073.0</td>\n",
       "      <td>6589.0</td>\n",
       "      <td>0.0</td>\n",
       "      <td>6589.0</td>\n",
       "      <td>12550.0</td>\n",
       "      <td>0.0</td>\n",
       "      <td>12550.0</td>\n",
       "      <td>1</td>\n",
       "    </tr>\n",
       "    <tr>\n",
       "      <th>2021-09-01</th>\n",
       "      <td>1557</td>\n",
       "      <td>А</td>\n",
       "      <td>60352</td>\n",
       "      <td>2</td>\n",
       "      <td>5.0</td>\n",
       "      <td>0.0</td>\n",
       "      <td>5.0</td>\n",
       "      <td>165.0</td>\n",
       "      <td>0.0</td>\n",
       "      <td>165.0</td>\n",
       "      <td>228.0</td>\n",
       "      <td>0.0</td>\n",
       "      <td>228.0</td>\n",
       "      <td>68.0</td>\n",
       "      <td>0.0</td>\n",
       "      <td>68.0</td>\n",
       "      <td>1</td>\n",
       "    </tr>\n",
       "  </tbody>\n",
       "</table>\n",
       "<p>22335039 rows × 17 columns</p>\n",
       "</div>"
      ],
      "text/plain": [
       "            REGN PLAN  NUM_SC A_P         VR      VV       VITG       ORA  \\\n",
       "DT                                                                          \n",
       "2007-01-01     1    А   10206   2  4540424.0     0.0  4540424.0  720888.0   \n",
       "2007-01-01  2721    А   47411   2     6339.0  5913.0    12252.0    2935.0   \n",
       "2007-01-01  2721    А   47408   1        0.0     0.0        0.0   11788.0   \n",
       "2007-01-01  2721    А   47407   2        0.0     0.0        0.0   45580.0   \n",
       "2007-01-01  2721    А   47405   2        0.0     0.0        0.0       0.0   \n",
       "...          ...  ...     ...  ..        ...     ...        ...       ...   \n",
       "2021-09-01  1557    А   47702   2     1966.0     0.0     1966.0      44.0   \n",
       "2021-09-01  1557    А   47466   2    23759.0     0.0    23759.0   18274.0   \n",
       "2021-09-01  1557    А   47462   2        0.0     0.0        0.0  263844.0   \n",
       "2021-09-01  1557    А   47452   2    13034.0     0.0    13034.0    7073.0   \n",
       "2021-09-01  1557    А   60352   2        5.0     0.0        5.0     165.0   \n",
       "\n",
       "                OVA     OITGA        ORP      OVP      OITGP         IR  \\\n",
       "DT                                                                        \n",
       "2007-01-01      0.0  720888.0  3107579.0      0.0  3107579.0  6927115.0   \n",
       "2007-01-01    726.0    3661.0     2329.0   2328.0     4657.0     5733.0   \n",
       "2007-01-01  51990.0   63778.0    11788.0  51990.0    63778.0        0.0   \n",
       "2007-01-01  18218.0   63798.0    45580.0  18218.0    63798.0        0.0   \n",
       "2007-01-01   4859.0    4859.0        0.0   4859.0     4859.0        0.0   \n",
       "...             ...       ...        ...      ...        ...        ...   \n",
       "2021-09-01      0.0      44.0       57.0      0.0       57.0     1979.0   \n",
       "2021-09-01      0.0   18274.0    22258.0      0.0    22258.0    27743.0   \n",
       "2021-09-01      0.0  263844.0   263844.0      0.0   263844.0        0.0   \n",
       "2021-09-01      0.0    7073.0     6589.0      0.0     6589.0    12550.0   \n",
       "2021-09-01      0.0     165.0      228.0      0.0      228.0       68.0   \n",
       "\n",
       "                IV       IITG  PRIZ  \n",
       "DT                                   \n",
       "2007-01-01     0.0  6927115.0     1  \n",
       "2007-01-01  7515.0    13248.0     1  \n",
       "2007-01-01     0.0        0.0     1  \n",
       "2007-01-01     0.0        0.0     1  \n",
       "2007-01-01     0.0        0.0     1  \n",
       "...            ...        ...   ...  \n",
       "2021-09-01     0.0     1979.0     1  \n",
       "2021-09-01     0.0    27743.0     1  \n",
       "2021-09-01     0.0        0.0     1  \n",
       "2021-09-01     0.0    12550.0     1  \n",
       "2021-09-01     0.0       68.0     1  \n",
       "\n",
       "[22335039 rows x 17 columns]"
      ]
     },
     "execution_count": 17,
     "metadata": {},
     "output_type": "execute_result"
    }
   ],
   "source": [
    "test"
   ]
  },
  {
   "cell_type": "markdown",
   "metadata": {},
   "source": [
    "Посмотрим на столбцы и типы данных в объединенной 101 форме."
   ]
  },
  {
   "cell_type": "code",
   "execution_count": 16,
   "metadata": {},
   "outputs": [
    {
     "name": "stdout",
     "output_type": "stream",
     "text": [
      "<class 'pandas.core.frame.DataFrame'>\n",
      "DatetimeIndex: 22335039 entries, 2007-01-01 to 2021-09-01\n",
      "Data columns (total 17 columns):\n",
      " #   Column  Dtype  \n",
      "---  ------  -----  \n",
      " 0   REGN    int64  \n",
      " 1   PLAN    object \n",
      " 2   NUM_SC  int32  \n",
      " 3   A_P     object \n",
      " 4   VR      float64\n",
      " 5   VV      float64\n",
      " 6   VITG    float64\n",
      " 7   ORA     float64\n",
      " 8   OVA     float64\n",
      " 9   OITGA   float64\n",
      " 10  ORP     float64\n",
      " 11  OVP     float64\n",
      " 12  OITGP   float64\n",
      " 13  IR      float64\n",
      " 14  IV      float64\n",
      " 15  IITG    float64\n",
      " 16  PRIZ    int64  \n",
      "dtypes: float64(12), int32(1), int64(2), object(2)\n",
      "memory usage: 2.9+ GB\n"
     ]
    }
   ],
   "source": [
    "test.info()"
   ]
  },
  {
   "cell_type": "markdown",
   "metadata": {},
   "source": [
    "Теперь 102 форма."
   ]
  },
  {
   "cell_type": "code",
   "execution_count": 18,
   "metadata": {},
   "outputs": [
    {
     "name": "stderr",
     "output_type": "stream",
     "text": [
      "100%|████████████████████████████████████| 59/59 [00:00<00:00, 11794.67it/s]"
     ]
    },
    {
     "name": "stdout",
     "output_type": "stream",
     "text": [
      "Reading .dbf files from your PC, please wait...\n"
     ]
    },
    {
     "name": "stderr",
     "output_type": "stream",
     "text": [
      "\n"
     ]
    },
    {
     "name": "stdout",
     "output_type": "stream",
     "text": [
      "Opened files. Merging them...\n",
      "Done.\n",
      "Wall time: 1min 50s\n"
     ]
    }
   ],
   "source": [
    "%%time\n",
    "test102 = read_form(path/'102', 102)"
   ]
  },
  {
   "cell_type": "code",
   "execution_count": 19,
   "metadata": {},
   "outputs": [
    {
     "data": {
      "text/html": [
       "<div>\n",
       "<style scoped>\n",
       "    .dataframe tbody tr th:only-of-type {\n",
       "        vertical-align: middle;\n",
       "    }\n",
       "\n",
       "    .dataframe tbody tr th {\n",
       "        vertical-align: top;\n",
       "    }\n",
       "\n",
       "    .dataframe thead th {\n",
       "        text-align: right;\n",
       "    }\n",
       "</style>\n",
       "<table border=\"1\" class=\"dataframe\">\n",
       "  <thead>\n",
       "    <tr style=\"text-align: right;\">\n",
       "      <th></th>\n",
       "      <th>REGN</th>\n",
       "      <th>CODE</th>\n",
       "      <th>SIM_R</th>\n",
       "      <th>SIM_V</th>\n",
       "      <th>SIM_ITOGO</th>\n",
       "    </tr>\n",
       "    <tr>\n",
       "      <th>DT</th>\n",
       "      <th></th>\n",
       "      <th></th>\n",
       "      <th></th>\n",
       "      <th></th>\n",
       "      <th></th>\n",
       "    </tr>\n",
       "  </thead>\n",
       "  <tbody>\n",
       "    <tr>\n",
       "      <th>2007-01-01</th>\n",
       "      <td>1</td>\n",
       "      <td>10000</td>\n",
       "      <td>81264287.0</td>\n",
       "      <td>10621859.0</td>\n",
       "      <td>91886146.0</td>\n",
       "    </tr>\n",
       "    <tr>\n",
       "      <th>2007-01-01</th>\n",
       "      <td>2838</td>\n",
       "      <td>21201</td>\n",
       "      <td>0.0</td>\n",
       "      <td>0.0</td>\n",
       "      <td>0.0</td>\n",
       "    </tr>\n",
       "    <tr>\n",
       "      <th>2007-01-01</th>\n",
       "      <td>2838</td>\n",
       "      <td>21104</td>\n",
       "      <td>0.0</td>\n",
       "      <td>0.0</td>\n",
       "      <td>0.0</td>\n",
       "    </tr>\n",
       "    <tr>\n",
       "      <th>2007-01-01</th>\n",
       "      <td>2838</td>\n",
       "      <td>21103</td>\n",
       "      <td>0.0</td>\n",
       "      <td>0.0</td>\n",
       "      <td>0.0</td>\n",
       "    </tr>\n",
       "    <tr>\n",
       "      <th>2007-01-01</th>\n",
       "      <td>2838</td>\n",
       "      <td>21102</td>\n",
       "      <td>14.0</td>\n",
       "      <td>0.0</td>\n",
       "      <td>14.0</td>\n",
       "    </tr>\n",
       "    <tr>\n",
       "      <th>...</th>\n",
       "      <td>...</td>\n",
       "      <td>...</td>\n",
       "      <td>...</td>\n",
       "      <td>...</td>\n",
       "      <td>...</td>\n",
       "    </tr>\n",
       "    <tr>\n",
       "      <th>2021-07-01</th>\n",
       "      <td>1927</td>\n",
       "      <td>41302</td>\n",
       "      <td>0.0</td>\n",
       "      <td>0.0</td>\n",
       "      <td>0.0</td>\n",
       "    </tr>\n",
       "    <tr>\n",
       "      <th>2021-07-01</th>\n",
       "      <td>1927</td>\n",
       "      <td>41303</td>\n",
       "      <td>0.0</td>\n",
       "      <td>0.0</td>\n",
       "      <td>0.0</td>\n",
       "    </tr>\n",
       "    <tr>\n",
       "      <th>2021-07-01</th>\n",
       "      <td>1927</td>\n",
       "      <td>41400</td>\n",
       "      <td>0.0</td>\n",
       "      <td>NaN</td>\n",
       "      <td>0.0</td>\n",
       "    </tr>\n",
       "    <tr>\n",
       "      <th>2021-07-01</th>\n",
       "      <td>1927</td>\n",
       "      <td>41205</td>\n",
       "      <td>0.0</td>\n",
       "      <td>0.0</td>\n",
       "      <td>0.0</td>\n",
       "    </tr>\n",
       "    <tr>\n",
       "      <th>2021-07-01</th>\n",
       "      <td>3540</td>\n",
       "      <td>81202</td>\n",
       "      <td>NaN</td>\n",
       "      <td>NaN</td>\n",
       "      <td>0.0</td>\n",
       "    </tr>\n",
       "  </tbody>\n",
       "</table>\n",
       "<p>28585086 rows × 5 columns</p>\n",
       "</div>"
      ],
      "text/plain": [
       "            REGN   CODE       SIM_R       SIM_V   SIM_ITOGO\n",
       "DT                                                         \n",
       "2007-01-01     1  10000  81264287.0  10621859.0  91886146.0\n",
       "2007-01-01  2838  21201         0.0         0.0         0.0\n",
       "2007-01-01  2838  21104         0.0         0.0         0.0\n",
       "2007-01-01  2838  21103         0.0         0.0         0.0\n",
       "2007-01-01  2838  21102        14.0         0.0        14.0\n",
       "...          ...    ...         ...         ...         ...\n",
       "2021-07-01  1927  41302         0.0         0.0         0.0\n",
       "2021-07-01  1927  41303         0.0         0.0         0.0\n",
       "2021-07-01  1927  41400         0.0         NaN         0.0\n",
       "2021-07-01  1927  41205         0.0         0.0         0.0\n",
       "2021-07-01  3540  81202         NaN         NaN         0.0\n",
       "\n",
       "[28585086 rows x 5 columns]"
      ]
     },
     "execution_count": 19,
     "metadata": {},
     "output_type": "execute_result"
    }
   ],
   "source": [
    "test102"
   ]
  },
  {
   "cell_type": "code",
   "execution_count": 20,
   "metadata": {},
   "outputs": [
    {
     "name": "stdout",
     "output_type": "stream",
     "text": [
      "<class 'pandas.core.frame.DataFrame'>\n",
      "DatetimeIndex: 28585086 entries, 2007-01-01 to 2021-07-01\n",
      "Data columns (total 5 columns):\n",
      " #   Column     Dtype  \n",
      "---  ------     -----  \n",
      " 0   REGN       int64  \n",
      " 1   CODE       int32  \n",
      " 2   SIM_R      float64\n",
      " 3   SIM_V      float64\n",
      " 4   SIM_ITOGO  float64\n",
      "dtypes: float64(3), int32(1), int64(1)\n",
      "memory usage: 1.2 GB\n"
     ]
    }
   ],
   "source": [
    "test102.info()"
   ]
  },
  {
   "cell_type": "markdown",
   "metadata": {},
   "source": [
    "#### 1.5 Сохраним объединенные таблицы с отчетностью.\n",
    "Сохраним оба файла в папку с данными. Сохранять в ``csv`` бесполезно - это займет кучу времени. Надо сохранять в формате ``HDF``, он работает гораздо быстрее."
   ]
  },
  {
   "cell_type": "code",
   "execution_count": 27,
   "metadata": {},
   "outputs": [
    {
     "name": "stdout",
     "output_type": "stream",
     "text": [
      "Wall time: 33.8 s\n"
     ]
    }
   ],
   "source": [
    "%%time\n",
    "test.to_hdf(path/'101.h5', key='101', mode='w')\n",
    "test102.to_hdf(path/'102.h5', key='102', mode='w')"
   ]
  },
  {
   "cell_type": "markdown",
   "metadata": {},
   "source": [
    "### 2. Группировка.\n",
    "Теперь попробуем работать с группировкой. \n",
    "Для группировки посчитаем \n",
    "- розничные кредиты физическим лицам, включая просроченные, \n",
    "- и кредиты юридическим лица на балансе банков по [методике КУАП](https://kuap.ru/methodics/). \n",
    "\n",
    "При проверке будем учитывать, что 101 форма в тысячах рублей (**Проверить что со 102 насчет размерности**).\n",
    "\n",
    "Загрузим функцию ``group``, которая отвечает за группировку. Есть два варианта, как передать ей схему для группировки: в виде словаря или в виде датафрейма.\n",
    "\n",
    "Предлагаю, чтобы не портить код вставками гигантских словарей для группировки по счетам, сохранять\n",
    "- словари для группировки в файле parameters.py, как это сделал я со словарем для примера - ``example_dict``\n",
    "- или же, если информация для группировки счетов хранится в виде датафреймов, сохранять эти датафреймы в excel или csv в папке ``data``\n",
    "\n",
    "**Вариант 1. Словарь для группировки**."
   ]
  },
  {
   "cell_type": "code",
   "execution_count": 5,
   "metadata": {},
   "outputs": [],
   "source": [
    "form101 = pd.read_hdf(path/'101.h5',key='101')"
   ]
  },
  {
   "cell_type": "code",
   "execution_count": 14,
   "metadata": {},
   "outputs": [],
   "source": [
    "from preprocessing import group\n",
    "from parameters import example_dict"
   ]
  },
  {
   "cell_type": "code",
   "execution_count": 15,
   "metadata": {},
   "outputs": [
    {
     "name": "stdout",
     "output_type": "stream",
     "text": [
      "\n",
      "Первая пара \"новый счет: список старых счетов\" для группировочного словаря:\n",
      "Кредиты физическим лицам:[45502, 45508, 45509]...\n",
      "Вторая пара \"новый счет: список старых счетов\" для группировочного словаря:\n",
      "Кредиты юридическим лицам:[45101, 45103, 45109]...\n",
      "\n"
     ]
    }
   ],
   "source": [
    "print(f\"\"\"\n",
    "Первая пара \"новый счет: список старых счетов\" для группировочного словаря:\n",
    "{list(example_dict.keys())[0]}:{list(example_dict.values())[0][0:3]}...\n",
    "Вторая пара \"новый счет: список старых счетов\" для группировочного словаря:\n",
    "{list(example_dict.keys())[1]}:{list(example_dict.values())[1][0:3]}...\n",
    "\"\"\")"
   ]
  },
  {
   "cell_type": "code",
   "execution_count": 26,
   "metadata": {},
   "outputs": [
    {
     "name": "stdout",
     "output_type": "stream",
     "text": [
      "Grouping and aggregating data. Please be patient...\n",
      "Finished.\n",
      "Wall time: 12.7 s\n"
     ]
    }
   ],
   "source": [
    "%%time\n",
    "credits = group(data=form101, aggschema=example_dict, form=101)"
   ]
  },
  {
   "cell_type": "code",
   "execution_count": 27,
   "metadata": {},
   "outputs": [
    {
     "data": {
      "text/html": [
       "<div>\n",
       "<style scoped>\n",
       "    .dataframe tbody tr th:only-of-type {\n",
       "        vertical-align: middle;\n",
       "    }\n",
       "\n",
       "    .dataframe tbody tr th {\n",
       "        vertical-align: top;\n",
       "    }\n",
       "\n",
       "    .dataframe thead th {\n",
       "        text-align: right;\n",
       "    }\n",
       "</style>\n",
       "<table border=\"1\" class=\"dataframe\">\n",
       "  <thead>\n",
       "    <tr style=\"text-align: right;\">\n",
       "      <th></th>\n",
       "      <th>REGN</th>\n",
       "      <th>new_code</th>\n",
       "      <th>IITG</th>\n",
       "    </tr>\n",
       "    <tr>\n",
       "      <th>DT</th>\n",
       "      <th></th>\n",
       "      <th></th>\n",
       "      <th></th>\n",
       "    </tr>\n",
       "  </thead>\n",
       "  <tbody>\n",
       "    <tr>\n",
       "      <th>2007-01-01</th>\n",
       "      <td>1</td>\n",
       "      <td>Кредиты физическим лицам</td>\n",
       "      <td>22332830.0</td>\n",
       "    </tr>\n",
       "    <tr>\n",
       "      <th>2007-01-01</th>\n",
       "      <td>1</td>\n",
       "      <td>Кредиты юридическим лицам</td>\n",
       "      <td>125305798.0</td>\n",
       "    </tr>\n",
       "    <tr>\n",
       "      <th>2007-02-01</th>\n",
       "      <td>1</td>\n",
       "      <td>Кредиты физическим лицам</td>\n",
       "      <td>23046669.0</td>\n",
       "    </tr>\n",
       "    <tr>\n",
       "      <th>2007-02-01</th>\n",
       "      <td>1</td>\n",
       "      <td>Кредиты юридическим лицам</td>\n",
       "      <td>126756486.0</td>\n",
       "    </tr>\n",
       "    <tr>\n",
       "      <th>2007-03-01</th>\n",
       "      <td>1</td>\n",
       "      <td>Кредиты физическим лицам</td>\n",
       "      <td>23806028.0</td>\n",
       "    </tr>\n",
       "  </tbody>\n",
       "</table>\n",
       "</div>"
      ],
      "text/plain": [
       "            REGN                   new_code         IITG\n",
       "DT                                                      \n",
       "2007-01-01     1   Кредиты физическим лицам   22332830.0\n",
       "2007-01-01     1  Кредиты юридическим лицам  125305798.0\n",
       "2007-02-01     1   Кредиты физическим лицам   23046669.0\n",
       "2007-02-01     1  Кредиты юридическим лицам  126756486.0\n",
       "2007-03-01     1   Кредиты физическим лицам   23806028.0"
      ]
     },
     "execution_count": 27,
     "metadata": {},
     "output_type": "execute_result"
    }
   ],
   "source": [
    "credits.head()"
   ]
  },
  {
   "cell_type": "code",
   "execution_count": 31,
   "metadata": {},
   "outputs": [
    {
     "data": {
      "image/png": "[encoded data removed]",
      "text/plain": [
       "<Figure size 720x288 with 1 Axes>"
      ]
     },
     "metadata": {
      "needs_background": "light"
     },
     "output_type": "display_data"
    }
   ],
   "source": [
    "fiz = credits.groupby([credits.index, credits.new_code]).agg({'IITG':'sum'}).reset_index()\n",
    "fiz = fiz[['DT', 'new_code', 'IITG']]\n",
    "fiz.IITG = fiz.IITG/(10**9)\n",
    "fiz = fiz[fiz['new_code']=='Кредиты физическим лицам']\n",
    "\n",
    "fig, ax = plt.subplots(figsize=(10, 4))\n",
    "ax.plot(fiz.DT, fiz.IITG)\n",
    "ax.set_title('Динамика розничного кредитного портфеля')\n",
    "ax.set_xlabel('Дата')\n",
    "ax.set_ylabel('трлн. руб.')\n",
    "fig.show();"
   ]
  },
  {
   "cell_type": "markdown",
   "metadata": {},
   "source": [
    "Что ж, здесь вполне четко видно три кредитных цикла в розничном кредитовании России. Заметим, что первое наблюдение явно похоже на выброс - в январе 2007 года банки только начали публиковать отчетность в новом формате, возможно, стоит просто выкинуть этот месяц из выборки.\n",
    "\n",
    "Сравним с тем, что показывает ЦБ в агрегированной статистике банковского сектора за август. ЦБ показало кредиты физлицам на 23.08 трлн руб в августе, на 22.67 трлн. руб. в июле. А у нас?"
   ]
  },
  {
   "cell_type": "code",
   "execution_count": 29,
   "metadata": {},
   "outputs": [
    {
     "data": {
      "text/html": [
       "<div>\n",
       "<style scoped>\n",
       "    .dataframe tbody tr th:only-of-type {\n",
       "        vertical-align: middle;\n",
       "    }\n",
       "\n",
       "    .dataframe tbody tr th {\n",
       "        vertical-align: top;\n",
       "    }\n",
       "\n",
       "    .dataframe thead th {\n",
       "        text-align: right;\n",
       "    }\n",
       "</style>\n",
       "<table border=\"1\" class=\"dataframe\">\n",
       "  <thead>\n",
       "    <tr style=\"text-align: right;\">\n",
       "      <th></th>\n",
       "      <th>DT</th>\n",
       "      <th>new_code</th>\n",
       "      <th>IITG</th>\n",
       "    </tr>\n",
       "  </thead>\n",
       "  <tbody>\n",
       "    <tr>\n",
       "      <th>348</th>\n",
       "      <td>2021-07-01</td>\n",
       "      <td>Кредиты физическим лицам</td>\n",
       "      <td>22.196474</td>\n",
       "    </tr>\n",
       "    <tr>\n",
       "      <th>350</th>\n",
       "      <td>2021-08-01</td>\n",
       "      <td>Кредиты физическим лицам</td>\n",
       "      <td>22.583117</td>\n",
       "    </tr>\n",
       "    <tr>\n",
       "      <th>352</th>\n",
       "      <td>2021-09-01</td>\n",
       "      <td>Кредиты физическим лицам</td>\n",
       "      <td>23.025961</td>\n",
       "    </tr>\n",
       "  </tbody>\n",
       "</table>\n",
       "</div>"
      ],
      "text/plain": [
       "            DT                  new_code       IITG\n",
       "348 2021-07-01  Кредиты физическим лицам  22.196474\n",
       "350 2021-08-01  Кредиты физическим лицам  22.583117\n",
       "352 2021-09-01  Кредиты физическим лицам  23.025961"
      ]
     },
     "execution_count": 29,
     "metadata": {},
     "output_type": "execute_result"
    }
   ],
   "source": [
    "fiz.iloc[-3:]"
   ]
  },
  {
   "cell_type": "markdown",
   "metadata": {},
   "source": [
    "Наши расчеты стабильно меньше на 2.2%."
   ]
  },
  {
   "cell_type": "markdown",
   "metadata": {},
   "source": [
    "**Вариант 2. Датафрейм для группировки.**\n",
    "\n",
    "Сделаем из нашего датафрейма словарь и пихнем его в функцию."
   ]
  },
  {
   "cell_type": "code",
   "execution_count": 32,
   "metadata": {},
   "outputs": [
    {
     "data": {
      "text/html": [
       "<div>\n",
       "<style scoped>\n",
       "    .dataframe tbody tr th:only-of-type {\n",
       "        vertical-align: middle;\n",
       "    }\n",
       "\n",
       "    .dataframe tbody tr th {\n",
       "        vertical-align: top;\n",
       "    }\n",
       "\n",
       "    .dataframe thead th {\n",
       "        text-align: right;\n",
       "    }\n",
       "</style>\n",
       "<table border=\"1\" class=\"dataframe\">\n",
       "  <thead>\n",
       "    <tr style=\"text-align: right;\">\n",
       "      <th></th>\n",
       "      <th>new_code</th>\n",
       "      <th>NUM_SC</th>\n",
       "    </tr>\n",
       "  </thead>\n",
       "  <tbody>\n",
       "    <tr>\n",
       "      <th>0</th>\n",
       "      <td>Кредиты физическим лицам</td>\n",
       "      <td>45502</td>\n",
       "    </tr>\n",
       "    <tr>\n",
       "      <th>1</th>\n",
       "      <td>Кредиты физическим лицам</td>\n",
       "      <td>45508</td>\n",
       "    </tr>\n",
       "    <tr>\n",
       "      <th>2</th>\n",
       "      <td>Кредиты физическим лицам</td>\n",
       "      <td>45509</td>\n",
       "    </tr>\n",
       "    <tr>\n",
       "      <th>3</th>\n",
       "      <td>Кредиты физическим лицам</td>\n",
       "      <td>45701</td>\n",
       "    </tr>\n",
       "    <tr>\n",
       "      <th>4</th>\n",
       "      <td>Кредиты физическим лицам</td>\n",
       "      <td>45707</td>\n",
       "    </tr>\n",
       "  </tbody>\n",
       "</table>\n",
       "</div>"
      ],
      "text/plain": [
       "                   new_code  NUM_SC\n",
       "0  Кредиты физическим лицам   45502\n",
       "1  Кредиты физическим лицам   45508\n",
       "2  Кредиты физическим лицам   45509\n",
       "3  Кредиты физическим лицам   45701\n",
       "4  Кредиты физическим лицам   45707"
      ]
     },
     "execution_count": 32,
     "metadata": {},
     "output_type": "execute_result"
    }
   ],
   "source": [
    "newdict = {y:x[0] for x in example_dict.items() for y in x[1]}\n",
    "aggdf = pd.DataFrame({'new_code': newdict.values(),\n",
    "                      'NUM_SC': newdict.keys()})\n",
    "aggdf.head()"
   ]
  },
  {
   "cell_type": "code",
   "execution_count": 33,
   "metadata": {},
   "outputs": [
    {
     "name": "stdout",
     "output_type": "stream",
     "text": [
      "Grouping and aggregating data. Please be patient...\n",
      "Finished.\n",
      "Wall time: 12.7 s\n"
     ]
    }
   ],
   "source": [
    "%%time\n",
    "credits_2 = group(data=form101, aggschema=aggdf, form=101)"
   ]
  },
  {
   "cell_type": "markdown",
   "metadata": {},
   "source": [
    "Проверим, что результаты совпадают."
   ]
  },
  {
   "cell_type": "code",
   "execution_count": 34,
   "metadata": {},
   "outputs": [],
   "source": [
    "from pandas._testing import assert_frame_equal\n",
    "assert_frame_equal(credits, credits_2)"
   ]
  },
  {
   "cell_type": "markdown",
   "metadata": {},
   "source": [
    "Все совпало. Это победа!"
   ]
  },
  {
   "cell_type": "code",
   "execution_count": null,
   "metadata": {},
   "outputs": [],
   "source": []
  }
 ],
 "metadata": {
  "interpreter": {
   "hash": "375a37fb521e36c07c38c448a6fcdd4596d876fc9735a8de6b2f81c77f1ecb20"
  },
  "kernelspec": {
   "display_name": "Python 3",
   "language": "python",
   "name": "python3"
  },
  "language_info": {
   "codemirror_mode": {
    "name": "ipython",
    "version": 3
   },
   "file_extension": ".py",
   "mimetype": "text/x-python",
   "name": "python",
   "nbconvert_exporter": "python",
   "pygments_lexer": "ipython3",
   "version": "3.8.8"
  }
 },
 "nbformat": 4,
 "nbformat_minor": 4
}
