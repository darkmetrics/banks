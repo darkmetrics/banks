{
 "cells": [
  {
   "cell_type": "markdown",
   "id": "3a14ad06",
   "metadata": {},
   "source": [
    "[![Open In Colab](https://colab.research.google.com/assets/colab-badge.svg)](https://colab.research.google.com/github/darkmetrics/banks/blob/main/code/demonstration.ipynb)"
   ]
  },
  {
   "cell_type": "markdown",
   "id": "c69a9426",
   "metadata": {},
   "source": [
    "## Прогнозирование вероятности дефолта для российских банков.\n",
    "\n",
    "**Авторы**:\n",
    "* **Волкова Анастасия**\n",
    "* **Дубленский Иван**\n",
    "* **Лозовой Владимир**\n",
    "* **Тельман Куан**"
   ]
  },
  {
   "cell_type": "markdown",
   "id": "21b8af3b",
   "metadata": {},
   "source": [
    "### 1. Загрузка данных и первое знакомство с ними."
   ]
  },
  {
   "cell_type": "code",
   "execution_count": 57,
   "id": "e5934b17",
   "metadata": {},
   "outputs": [],
   "source": [
    "import numpy as np\n",
    "import pandas as pd\n",
    "import matplotlib.pyplot as plt \n",
    "import seaborn as sns\n",
    "\n",
    "# включение множественного вывода для Google Colab\n",
    "from IPython.core.interactiveshell import InteractiveShell\n",
    "InteractiveShell.ast_node_interactivity = \"all\""
   ]
  },
  {
   "cell_type": "markdown",
   "id": "7f47b406",
   "metadata": {},
   "source": [
    "Слава богу, `pandas` умеет читать данные с интернет-страниц. Важно, что на Гитхабе на страничке файла с данными надо нажать кнопку `raw`, и тогда `url`-ссылка на файл с данными изменится, в тексте ссылки появится слово `raw`. Именно такую ссылку и надо использовать для чтения данных."
   ]
  },
  {
   "cell_type": "code",
   "execution_count": 58,
   "id": "deb9cca3",
   "metadata": {},
   "outputs": [
    {
     "name": "stdout",
     "output_type": "stream",
     "text": [
      "Head of table with bank metrics:\n",
      "\n"
     ]
    },
    {
     "data": {
      "text/html": [
       "<div>\n",
       "<style scoped>\n",
       "    .dataframe tbody tr th:only-of-type {\n",
       "        vertical-align: middle;\n",
       "    }\n",
       "\n",
       "    .dataframe tbody tr th {\n",
       "        vertical-align: top;\n",
       "    }\n",
       "\n",
       "    .dataframe thead th {\n",
       "        text-align: right;\n",
       "    }\n",
       "</style>\n",
       "<table border=\"1\" class=\"dataframe\">\n",
       "  <thead>\n",
       "    <tr style=\"text-align: right;\">\n",
       "      <th></th>\n",
       "      <th>REGN</th>\n",
       "      <th>Year</th>\n",
       "      <th>Month</th>\n",
       "      <th>NetIncome</th>\n",
       "      <th>NetSecurityIncome</th>\n",
       "      <th>NetDerivativeIncome</th>\n",
       "      <th>NetFeeIncome</th>\n",
       "      <th>NetInvestmentIncome</th>\n",
       "      <th>NetInterestIncome</th>\n",
       "      <th>Assets</th>\n",
       "      <th>...</th>\n",
       "      <th>InterbankShareInLiabs</th>\n",
       "      <th>CreditsRetail_Me</th>\n",
       "      <th>ownership_state</th>\n",
       "      <th>form_public</th>\n",
       "      <th>region_notmoscow</th>\n",
       "      <th>Moodys</th>\n",
       "      <th>ExpertRA</th>\n",
       "      <th>DefaultIn365Days</th>\n",
       "      <th>DefaultIn730Days</th>\n",
       "      <th>DefaultIn10000Days</th>\n",
       "    </tr>\n",
       "    <tr>\n",
       "      <th>date</th>\n",
       "      <th></th>\n",
       "      <th></th>\n",
       "      <th></th>\n",
       "      <th></th>\n",
       "      <th></th>\n",
       "      <th></th>\n",
       "      <th></th>\n",
       "      <th></th>\n",
       "      <th></th>\n",
       "      <th></th>\n",
       "      <th></th>\n",
       "      <th></th>\n",
       "      <th></th>\n",
       "      <th></th>\n",
       "      <th></th>\n",
       "      <th></th>\n",
       "      <th></th>\n",
       "      <th></th>\n",
       "      <th></th>\n",
       "      <th></th>\n",
       "      <th></th>\n",
       "    </tr>\n",
       "  </thead>\n",
       "  <tbody>\n",
       "    <tr>\n",
       "      <th>2015-01-01</th>\n",
       "      <td>1</td>\n",
       "      <td>2015</td>\n",
       "      <td>1</td>\n",
       "      <td>0.007337</td>\n",
       "      <td>-0.080195</td>\n",
       "      <td>1.821275</td>\n",
       "      <td>1.003520</td>\n",
       "      <td>1.127056e-07</td>\n",
       "      <td>3.267442</td>\n",
       "      <td>1.209364e+09</td>\n",
       "      <td>...</td>\n",
       "      <td>0.105845</td>\n",
       "      <td>147875391.0</td>\n",
       "      <td>0</td>\n",
       "      <td>0</td>\n",
       "      <td>0</td>\n",
       "      <td>no</td>\n",
       "      <td>no</td>\n",
       "      <td>0</td>\n",
       "      <td>0</td>\n",
       "      <td>0</td>\n",
       "    </tr>\n",
       "    <tr>\n",
       "      <th>2015-02-01</th>\n",
       "      <td>1</td>\n",
       "      <td>2015</td>\n",
       "      <td>2</td>\n",
       "      <td>0.006679</td>\n",
       "      <td>-0.080195</td>\n",
       "      <td>1.821275</td>\n",
       "      <td>1.003520</td>\n",
       "      <td>1.127056e-07</td>\n",
       "      <td>3.267442</td>\n",
       "      <td>1.328361e+09</td>\n",
       "      <td>...</td>\n",
       "      <td>0.112639</td>\n",
       "      <td>145009568.0</td>\n",
       "      <td>0</td>\n",
       "      <td>0</td>\n",
       "      <td>0</td>\n",
       "      <td>no</td>\n",
       "      <td>no</td>\n",
       "      <td>0</td>\n",
       "      <td>0</td>\n",
       "      <td>0</td>\n",
       "    </tr>\n",
       "    <tr>\n",
       "      <th>2015-03-01</th>\n",
       "      <td>1</td>\n",
       "      <td>2015</td>\n",
       "      <td>3</td>\n",
       "      <td>0.007374</td>\n",
       "      <td>-0.080195</td>\n",
       "      <td>1.821275</td>\n",
       "      <td>1.003520</td>\n",
       "      <td>1.127056e-07</td>\n",
       "      <td>3.267442</td>\n",
       "      <td>1.203223e+09</td>\n",
       "      <td>...</td>\n",
       "      <td>0.119042</td>\n",
       "      <td>139987699.0</td>\n",
       "      <td>0</td>\n",
       "      <td>0</td>\n",
       "      <td>0</td>\n",
       "      <td>no</td>\n",
       "      <td>no</td>\n",
       "      <td>0</td>\n",
       "      <td>0</td>\n",
       "      <td>0</td>\n",
       "    </tr>\n",
       "    <tr>\n",
       "      <th>2015-04-01</th>\n",
       "      <td>1</td>\n",
       "      <td>2015</td>\n",
       "      <td>4</td>\n",
       "      <td>0.002215</td>\n",
       "      <td>-0.075207</td>\n",
       "      <td>1.304973</td>\n",
       "      <td>0.607162</td>\n",
       "      <td>-0.000000e+00</td>\n",
       "      <td>1.858185</td>\n",
       "      <td>1.167734e+09</td>\n",
       "      <td>...</td>\n",
       "      <td>0.096728</td>\n",
       "      <td>135048179.0</td>\n",
       "      <td>0</td>\n",
       "      <td>0</td>\n",
       "      <td>0</td>\n",
       "      <td>no</td>\n",
       "      <td>no</td>\n",
       "      <td>0</td>\n",
       "      <td>0</td>\n",
       "      <td>0</td>\n",
       "    </tr>\n",
       "    <tr>\n",
       "      <th>2015-05-01</th>\n",
       "      <td>1</td>\n",
       "      <td>2015</td>\n",
       "      <td>5</td>\n",
       "      <td>0.002413</td>\n",
       "      <td>-0.075207</td>\n",
       "      <td>1.304973</td>\n",
       "      <td>0.607162</td>\n",
       "      <td>-0.000000e+00</td>\n",
       "      <td>1.858185</td>\n",
       "      <td>1.072174e+09</td>\n",
       "      <td>...</td>\n",
       "      <td>0.122466</td>\n",
       "      <td>130841858.0</td>\n",
       "      <td>0</td>\n",
       "      <td>0</td>\n",
       "      <td>0</td>\n",
       "      <td>no</td>\n",
       "      <td>no</td>\n",
       "      <td>0</td>\n",
       "      <td>0</td>\n",
       "      <td>0</td>\n",
       "    </tr>\n",
       "  </tbody>\n",
       "</table>\n",
       "<p>5 rows × 108 columns</p>\n",
       "</div>"
      ],
      "text/plain": [
       "            REGN  Year  Month  NetIncome  NetSecurityIncome  \\\n",
       "date                                                          \n",
       "2015-01-01     1  2015      1   0.007337          -0.080195   \n",
       "2015-02-01     1  2015      2   0.006679          -0.080195   \n",
       "2015-03-01     1  2015      3   0.007374          -0.080195   \n",
       "2015-04-01     1  2015      4   0.002215          -0.075207   \n",
       "2015-05-01     1  2015      5   0.002413          -0.075207   \n",
       "\n",
       "            NetDerivativeIncome  NetFeeIncome  NetInvestmentIncome  \\\n",
       "date                                                                 \n",
       "2015-01-01             1.821275      1.003520         1.127056e-07   \n",
       "2015-02-01             1.821275      1.003520         1.127056e-07   \n",
       "2015-03-01             1.821275      1.003520         1.127056e-07   \n",
       "2015-04-01             1.304973      0.607162        -0.000000e+00   \n",
       "2015-05-01             1.304973      0.607162        -0.000000e+00   \n",
       "\n",
       "            NetInterestIncome        Assets  ...  InterbankShareInLiabs  \\\n",
       "date                                         ...                          \n",
       "2015-01-01           3.267442  1.209364e+09  ...               0.105845   \n",
       "2015-02-01           3.267442  1.328361e+09  ...               0.112639   \n",
       "2015-03-01           3.267442  1.203223e+09  ...               0.119042   \n",
       "2015-04-01           1.858185  1.167734e+09  ...               0.096728   \n",
       "2015-05-01           1.858185  1.072174e+09  ...               0.122466   \n",
       "\n",
       "            CreditsRetail_Me  ownership_state  form_public  region_notmoscow  \\\n",
       "date                                                                           \n",
       "2015-01-01       147875391.0                0            0                 0   \n",
       "2015-02-01       145009568.0                0            0                 0   \n",
       "2015-03-01       139987699.0                0            0                 0   \n",
       "2015-04-01       135048179.0                0            0                 0   \n",
       "2015-05-01       130841858.0                0            0                 0   \n",
       "\n",
       "            Moodys  ExpertRA  DefaultIn365Days  DefaultIn730Days  \\\n",
       "date                                                               \n",
       "2015-01-01      no        no                 0                 0   \n",
       "2015-02-01      no        no                 0                 0   \n",
       "2015-03-01      no        no                 0                 0   \n",
       "2015-04-01      no        no                 0                 0   \n",
       "2015-05-01      no        no                 0                 0   \n",
       "\n",
       "            DefaultIn10000Days  \n",
       "date                            \n",
       "2015-01-01                   0  \n",
       "2015-02-01                   0  \n",
       "2015-03-01                   0  \n",
       "2015-04-01                   0  \n",
       "2015-05-01                   0  \n",
       "\n",
       "[5 rows x 108 columns]"
      ]
     },
     "execution_count": 58,
     "metadata": {},
     "output_type": "execute_result"
    },
    {
     "name": "stdout",
     "output_type": "stream",
     "text": [
      "\n",
      "Head of table with bank defaults:\n",
      "\n"
     ]
    },
    {
     "data": {
      "text/html": [
       "<div>\n",
       "<style scoped>\n",
       "    .dataframe tbody tr th:only-of-type {\n",
       "        vertical-align: middle;\n",
       "    }\n",
       "\n",
       "    .dataframe tbody tr th {\n",
       "        vertical-align: top;\n",
       "    }\n",
       "\n",
       "    .dataframe thead th {\n",
       "        text-align: right;\n",
       "    }\n",
       "</style>\n",
       "<table border=\"1\" class=\"dataframe\">\n",
       "  <thead>\n",
       "    <tr style=\"text-align: right;\">\n",
       "      <th></th>\n",
       "      <th>name</th>\n",
       "      <th>REGN</th>\n",
       "      <th>type</th>\n",
       "      <th>region</th>\n",
       "    </tr>\n",
       "    <tr>\n",
       "      <th>date</th>\n",
       "      <th></th>\n",
       "      <th></th>\n",
       "      <th></th>\n",
       "      <th></th>\n",
       "    </tr>\n",
       "  </thead>\n",
       "  <tbody>\n",
       "    <tr>\n",
       "      <th>2021-09-17</th>\n",
       "      <td>Платина</td>\n",
       "      <td>2347</td>\n",
       "      <td>отозв.</td>\n",
       "      <td>Москва</td>\n",
       "    </tr>\n",
       "    <tr>\n",
       "      <th>2021-08-06</th>\n",
       "      <td>КС Банк</td>\n",
       "      <td>1752</td>\n",
       "      <td>отозв.</td>\n",
       "      <td>Саранск (Республика Мордовия)</td>\n",
       "    </tr>\n",
       "    <tr>\n",
       "      <th>2021-07-23</th>\n",
       "      <td>Руна-Банк</td>\n",
       "      <td>3207</td>\n",
       "      <td>отозв.</td>\n",
       "      <td>Москва</td>\n",
       "    </tr>\n",
       "    <tr>\n",
       "      <th>2021-07-23</th>\n",
       "      <td>Русское Финансовое Общество</td>\n",
       "      <td>3427</td>\n",
       "      <td>отозв.</td>\n",
       "      <td>Москва</td>\n",
       "    </tr>\n",
       "    <tr>\n",
       "      <th>2021-06-25</th>\n",
       "      <td>Актив Банк</td>\n",
       "      <td>2529</td>\n",
       "      <td>отозв.</td>\n",
       "      <td>Саранск (Республика Мордовия)</td>\n",
       "    </tr>\n",
       "  </tbody>\n",
       "</table>\n",
       "</div>"
      ],
      "text/plain": [
       "                                   name  REGN    type  \\\n",
       "date                                                    \n",
       "2021-09-17                      Платина  2347  отозв.   \n",
       "2021-08-06                      КС Банк  1752  отозв.   \n",
       "2021-07-23                    Руна-Банк  3207  отозв.   \n",
       "2021-07-23  Русское Финансовое Общество  3427  отозв.   \n",
       "2021-06-25                   Актив Банк  2529  отозв.   \n",
       "\n",
       "                                   region  \n",
       "date                                       \n",
       "2021-09-17                         Москва  \n",
       "2021-08-06  Саранск (Республика Мордовия)  \n",
       "2021-07-23                         Москва  \n",
       "2021-07-23                         Москва  \n",
       "2021-06-25  Саранск (Республика Мордовия)  "
      ]
     },
     "execution_count": 58,
     "metadata": {},
     "output_type": "execute_result"
    }
   ],
   "source": [
    "url = \"https://raw.githubusercontent.com/darkmetrics/banks/main/data/metrics.csv\"\n",
    "url2 = \"https://raw.githubusercontent.com/darkmetrics/banks/main/data/defaults.csv\"\n",
    "data = pd.read_csv(url, parse_dates=True, index_col='date')\n",
    "defaults = pd.read_csv(url2, parse_dates=True, index_col='date')\n",
    "\n",
    "print('Head of table with bank metrics:\\n')\n",
    "data.head(5)\n",
    "print('\\nHead of table with bank defaults:\\n')\n",
    "defaults.head(5)"
   ]
  },
  {
   "cell_type": "markdown",
   "id": "eb7510a7",
   "metadata": {},
   "source": [
    "Сначала выберем нужные столбцы из метрик."
   ]
  },
  {
   "cell_type": "code",
   "execution_count": 59,
   "id": "a6a411d3",
   "metadata": {},
   "outputs": [
    {
     "data": {
      "text/plain": [
       "36"
      ]
     },
     "execution_count": 59,
     "metadata": {},
     "output_type": "execute_result"
    }
   ],
   "source": [
    "cols = ['REGN','Assets','personal_page','app','CapitalAdequacy_norm','LiquidityMonth_norm',\n",
    "        'LiquidityDay_norm','LiquidityLong_norm','CreditsToInsidersCoefficient_norm',\n",
    "        'ROE','ROA','ReservesChange', 'EquityToImmobilizedAssets', \n",
    "        'CreditsReturnCorporates','DepositsInterestCorporates','CreditsReturnRetail','DepositsInterestRetail',\n",
    "        'CostOfRisk', 'InterbankShareInLiabs','ownership_state','form_public','region_notmoscow',\n",
    "        'Moodys','ExpertRA',\n",
    "        # эти столбцы для расчета дополнительных метрик - сами по себе они не нужны\n",
    "        'Credits_Me','Deposits_Me', 'CreditsCorporates_Me', 'CreditsRetail_Me',\n",
    "        'IncomeRetail_Me','IncomeCorporates_Me','ExpenditureRetail_Me','ExpenditureCorporates_Me',\n",
    "        'ExpendituresReserves_Me', 'DepositsRetail_Me','DepositsCorporates_Me']\n",
    "len(cols)"
   ]
  },
  {
   "cell_type": "code",
   "execution_count": 60,
   "id": "02731158",
   "metadata": {},
   "outputs": [],
   "source": [
    "data = data[cols]"
   ]
  },
  {
   "cell_type": "markdown",
   "id": "8343f814",
   "metadata": {},
   "source": [
    "Посмотрим на содержимое таблички: типы данных, количество пропусков."
   ]
  },
  {
   "cell_type": "code",
   "execution_count": 61,
   "id": "a21ef30d",
   "metadata": {},
   "outputs": [
    {
     "name": "stdout",
     "output_type": "stream",
     "text": [
      "<class 'pandas.core.frame.DataFrame'>\n",
      "DatetimeIndex: 40885 entries, 2015-01-01 to 2016-12-01\n",
      "Data columns (total 36 columns):\n",
      " #   Column                             Non-Null Count  Dtype  \n",
      "---  ------                             --------------  -----  \n",
      " 0   REGN                               40885 non-null  int64  \n",
      " 1   Assets                             40885 non-null  float64\n",
      " 2   personal_page                      40885 non-null  float64\n",
      " 3   app                                40885 non-null  float64\n",
      " 4   CapitalAdequacy_norm               40885 non-null  float64\n",
      " 5   LiquidityMonth_norm                40885 non-null  float64\n",
      " 6   LiquidityDay_norm                  40885 non-null  float64\n",
      " 7   LiquidityLong_norm                 40885 non-null  float64\n",
      " 8   CreditsToInsidersCoefficient_norm  40885 non-null  float64\n",
      " 9   ROE                                40885 non-null  float64\n",
      " 10  ROA                                40885 non-null  float64\n",
      " 11  ReservesChange                     40885 non-null  float64\n",
      " 12  EquityToImmobilizedAssets          40831 non-null  float64\n",
      " 13  CreditsReturnCorporates            38190 non-null  float64\n",
      " 14  DepositsInterestCorporates         38670 non-null  float64\n",
      " 15  CreditsReturnRetail                37346 non-null  float64\n",
      " 16  DepositsInterestRetail             37462 non-null  float64\n",
      " 17  CostOfRisk                         40885 non-null  float64\n",
      " 18  InterbankShareInLiabs              40885 non-null  float64\n",
      " 19  ownership_state                    40885 non-null  int64  \n",
      " 20  form_public                        40885 non-null  int64  \n",
      " 21  region_notmoscow                   40885 non-null  int64  \n",
      " 22  Moodys                             40885 non-null  object \n",
      " 23  ExpertRA                           40885 non-null  object \n",
      " 24  Credits_Me                         40885 non-null  float64\n",
      " 25  Deposits_Me                        40885 non-null  float64\n",
      " 26  Liabilities                        40885 non-null  float64\n",
      " 27  CreditsCorporates_Me               40885 non-null  float64\n",
      " 28  CreditsRetail_Me                   40885 non-null  float64\n",
      " 29  IncomeRetail_Me                    40885 non-null  float64\n",
      " 30  IncomeCorporates_Me                40885 non-null  float64\n",
      " 31  ExpenditureRetail_Me               40885 non-null  float64\n",
      " 32  ExpenditureCorporates_Me           40885 non-null  float64\n",
      " 33  ExpendituresReserves_Me            40885 non-null  float64\n",
      " 34  DepositsRetail_Me                  40885 non-null  float64\n",
      " 35  DepositsCorporates_Me              40885 non-null  float64\n",
      "dtypes: float64(30), int64(4), object(2)\n",
      "memory usage: 11.5+ MB\n"
     ]
    }
   ],
   "source": [
    "data.info()"
   ]
  },
  {
   "cell_type": "markdown",
   "id": "6139a2c5",
   "metadata": {},
   "source": [
    "И заменим некоторые названия столбцов в данных - с исходными названиями трудновато будет работать."
   ]
  },
  {
   "cell_type": "code",
   "execution_count": 62,
   "id": "55d6318f",
   "metadata": {},
   "outputs": [],
   "source": [
    "new_names = {'CapitalAdequacy_norm':'n_1_0',\n",
    "             'LiquidityMonth_norm':'n3',\n",
    "             'LiquidityDay_norm':'n2',\n",
    "             'LiquidityLong_norm':'n4',\n",
    "             'CreditsToInsidersCoefficient_norm':'n_10_1',\n",
    "             'ReservesChange':'reserv_chng',\n",
    "             'EquityToImmobilizedAssets':'equity_immobil',\n",
    "             'CreditsReturnCorporates':'corp_loan',\n",
    "             'DepositsInterestCorporates':'corp_depo',\n",
    "             'CreditsReturnRetail':'retail_loan',\n",
    "             'DepositsInterestRetail':'retail_depo',\n",
    "             'CostOfRisk':'cor',\n",
    "             'InterbankShareInLiabs':'mbk_share', \n",
    "             'ownership_state':'owner', \n",
    "             'form_public':'public',\n",
    "             'region_notmoscow':'notmoscow',\n",
    "             'CreditsCorporates_Me':'corp_loan_abs',\n",
    "             'CreditsRetail_Me':'retail_loans_abs',\n",
    "             'DepositsRetail_Me':'retail_depo_abs',\n",
    "             'DepositsCorporates_Me':'corp_depo_abs',\n",
    "             'IncomeRetail_Me':'retail_inc',\n",
    "             'IncomeCorporates_Me':'corp_inc',\n",
    "             'ExpenditureRetail_Me':'retail_cost',\n",
    "             'ExpenditureCorporates_Me':'corp_cost',\n",
    "             'ExpendituresReserves_Me':'reserv_cost'}\n",
    "\n",
    "data.rename(columns=new_names, inplace=True)\n",
    "data.columns = [x.lower().replace('_me', '') for x in data.columns]"
   ]
  },
  {
   "cell_type": "code",
   "execution_count": 63,
   "id": "c8005cbb",
   "metadata": {},
   "outputs": [
    {
     "name": "stdout",
     "output_type": "stream",
     "text": [
      "<class 'pandas.core.frame.DataFrame'>\n",
      "DatetimeIndex: 2205 entries, 2021-09-17 to 2015-12-25\n",
      "Data columns (total 4 columns):\n",
      " #   Column  Non-Null Count  Dtype \n",
      "---  ------  --------------  ----- \n",
      " 0   name    2205 non-null   object\n",
      " 1   REGN    2205 non-null   int64 \n",
      " 2   type    2205 non-null   object\n",
      " 3   region  2205 non-null   object\n",
      "dtypes: int64(1), object(3)\n",
      "memory usage: 86.1+ KB\n"
     ]
    }
   ],
   "source": [
    "defaults.info()"
   ]
  },
  {
   "cell_type": "markdown",
   "id": "6e0936ab",
   "metadata": {},
   "source": [
    "Теперь посмотрим, совпадают ли даты для наборов данных с дефолтами и с метриками."
   ]
  },
  {
   "cell_type": "code",
   "execution_count": 64,
   "id": "497d28a8",
   "metadata": {},
   "outputs": [
    {
     "name": "stdout",
     "output_type": "stream",
     "text": [
      "Самая ранняя дата в метриках: 2015-01-01 00:00:00\n",
      "Самая ранняя дата в дефолтах: 1991-01-22 00:00:00\n"
     ]
    }
   ],
   "source": [
    "print(f\"Самая ранняя дата в метриках: {data.index.min()}\")\n",
    "print(f\"Самая ранняя дата в дефолтах: {defaults.index.min()}\")"
   ]
  },
  {
   "cell_type": "markdown",
   "id": "c2ce7b6b",
   "metadata": {},
   "source": [
    "Так не годится, отберем данные о дефолтах с 2015 года."
   ]
  },
  {
   "cell_type": "code",
   "execution_count": 65,
   "id": "486d5950",
   "metadata": {},
   "outputs": [
    {
     "data": {
      "text/html": [
       "<div>\n",
       "<style scoped>\n",
       "    .dataframe tbody tr th:only-of-type {\n",
       "        vertical-align: middle;\n",
       "    }\n",
       "\n",
       "    .dataframe tbody tr th {\n",
       "        vertical-align: top;\n",
       "    }\n",
       "\n",
       "    .dataframe thead th {\n",
       "        text-align: right;\n",
       "    }\n",
       "</style>\n",
       "<table border=\"1\" class=\"dataframe\">\n",
       "  <thead>\n",
       "    <tr style=\"text-align: right;\">\n",
       "      <th></th>\n",
       "      <th>name</th>\n",
       "      <th>REGN</th>\n",
       "      <th>type</th>\n",
       "      <th>region</th>\n",
       "    </tr>\n",
       "    <tr>\n",
       "      <th>date</th>\n",
       "      <th></th>\n",
       "      <th></th>\n",
       "      <th></th>\n",
       "      <th></th>\n",
       "    </tr>\n",
       "  </thead>\n",
       "  <tbody>\n",
       "    <tr>\n",
       "      <th>2021-09-17</th>\n",
       "      <td>Платина</td>\n",
       "      <td>2347</td>\n",
       "      <td>отозв.</td>\n",
       "      <td>Москва</td>\n",
       "    </tr>\n",
       "    <tr>\n",
       "      <th>2021-08-06</th>\n",
       "      <td>КС Банк</td>\n",
       "      <td>1752</td>\n",
       "      <td>отозв.</td>\n",
       "      <td>Саранск (Республика Мордовия)</td>\n",
       "    </tr>\n",
       "    <tr>\n",
       "      <th>2021-07-23</th>\n",
       "      <td>Руна-Банк</td>\n",
       "      <td>3207</td>\n",
       "      <td>отозв.</td>\n",
       "      <td>Москва</td>\n",
       "    </tr>\n",
       "  </tbody>\n",
       "</table>\n",
       "</div>"
      ],
      "text/plain": [
       "                 name  REGN    type                         region\n",
       "date                                                              \n",
       "2021-09-17    Платина  2347  отозв.                         Москва\n",
       "2021-08-06    КС Банк  1752  отозв.  Саранск (Республика Мордовия)\n",
       "2021-07-23  Руна-Банк  3207  отозв.                         Москва"
      ]
     },
     "execution_count": 65,
     "metadata": {},
     "output_type": "execute_result"
    }
   ],
   "source": [
    "defaults = defaults[defaults.index.year>=2015]\n",
    "defaults.head(3)"
   ]
  },
  {
   "cell_type": "markdown",
   "id": "4bb331de",
   "metadata": {},
   "source": [
    "### 2. Предобработка данных и создание новых признаков."
   ]
  },
  {
   "cell_type": "markdown",
   "id": "12277f76",
   "metadata": {},
   "source": [
    "#### 2.1 Числовые признаки.\n",
    "\n",
    "Для начала нам надо заполнить пропуски в данных. Посмотрим, в каких столбцах есть пропуски и сколько их:"
   ]
  },
  {
   "cell_type": "code",
   "execution_count": 66,
   "id": "3d8d62fa",
   "metadata": {},
   "outputs": [
    {
     "name": "stdout",
     "output_type": "stream",
     "text": [
      "Доля пропусков от общего числа наблюдений\n"
     ]
    },
    {
     "data": {
      "image/png": "[encoded data removed]",
      "text/plain": [
       "<Figure size 576x288 with 1 Axes>"
      ]
     },
     "metadata": {
      "needs_background": "light"
     },
     "output_type": "display_data"
    }
   ],
   "source": [
    "print('Доля пропусков от общего числа наблюдений')\n",
    "nans = data.isna().sum()[data.isna().sum()!=0]/len(data)\n",
    "plt.figure(figsize=(8, 4))\n",
    "plt.bar(nans.index, nans.values*100,  color='steelblue');\n",
    "plt.xlabel('Название столбца');\n",
    "plt.ylabel('Доля пропусков, %');\n",
    "plt.title('Доля пропусков в % от наблюдений');"
   ]
  },
  {
   "cell_type": "markdown",
   "id": "121ce9b2",
   "metadata": {},
   "source": [
    "Теперь нам надо выбрать стратегию, как заполнять пропуски. Заметно, что больше всего пропусков для столбцов со ставками - эти пропуски мы точно будем заполнять, наблюдения с пропусками в других столбцах выкинем. \n",
    "\n",
    "Наверно, оптимальный вариант - это заполнить пропущенные ставки значениями, средними по банковской системе на дату пропуска. Поэтому сначала рассчитаем средние ставки по банковской системе. Также сразу посчитаем совокупные активы банковской системы - этот показатель нам тоже пригодится."
   ]
  },
  {
   "cell_type": "code",
   "execution_count": 67,
   "id": "ae258700",
   "metadata": {},
   "outputs": [],
   "source": [
    "avg_cols = ['assets','corp_loan_abs', 'retail_loans_abs',\n",
    "            'retail_inc','corp_inc','retail_cost', \n",
    "            'corp_cost', 'retail_depo_abs','corp_depo_abs']\n",
    "\n",
    "group_dict = dict(zip(avg_cols, ['sum']*len(avg_cols)))\n",
    "avg = data.groupby(data.index).agg(group_dict).reset_index()\n",
    "avg.index = avg['date']\n",
    "# посчитаем собственно средние ставки\n",
    "avg['avg_corp_loan'] = avg['corp_inc']/avg['corp_loan_abs']\n",
    "avg['avg_retail_loan'] = avg['retail_inc']/avg['retail_loans_abs']\n",
    "avg['avg_corp_depo'] = avg['corp_cost']/avg['corp_depo_abs']\n",
    "avg['avg_retail_depo'] = avg['retail_cost']/avg['retail_depo_abs']"
   ]
  },
  {
   "cell_type": "markdown",
   "id": "f37bb3a7",
   "metadata": {},
   "source": [
    "Нарисуем средние ставки по кредитам и депозитам, это само по себе любопытно и информативно."
   ]
  },
  {
   "cell_type": "code",
   "execution_count": 68,
   "id": "90b4832f",
   "metadata": {},
   "outputs": [
    {
     "data": {
      "image/png": "[encoded data removed]",
      "text/plain": [
       "<Figure size 1008x432 with 1 Axes>"
      ]
     },
     "metadata": {
      "needs_background": "light"
     },
     "output_type": "display_data"
    }
   ],
   "source": [
    "fig, ax = plt.subplots(figsize=(14, 6))\n",
    "ax.plot(avg.avg_corp_loan*100, color='red', label='Корпоративные кредиты')\n",
    "ax.plot(avg.avg_corp_depo*100, color='green', label='Корпоративные депозиты')\n",
    "ax.plot(avg.avg_retail_loan*100, color='darkorange', label='Розничные кредиты')\n",
    "ax.plot(avg.avg_retail_depo*100, color='steelblue', label='Розничные депозиты')\n",
    "ax.set_xlabel('Дата')\n",
    "ax.set_ylabel('Ставка, %')\n",
    "ax.set_title('Средние ставки по банковским продуктам, %')\n",
    "ax.legend()\n",
    "ax.grid(True)\n",
    "fig.show();"
   ]
  },
  {
   "cell_type": "markdown",
   "id": "83882b37",
   "metadata": {},
   "source": [
    "Странновато, конечно, ну да ладно. Теперь приклеим сгруппированный набор данных к основному, чтобы посчитать отклонения от средних ставок по разным продуктам для каждого банка."
   ]
  },
  {
   "cell_type": "code",
   "execution_count": 72,
   "id": "b6bd63c2",
   "metadata": {},
   "outputs": [
    {
     "data": {
      "text/html": [
       "<div>\n",
       "<style scoped>\n",
       "    .dataframe tbody tr th:only-of-type {\n",
       "        vertical-align: middle;\n",
       "    }\n",
       "\n",
       "    .dataframe tbody tr th {\n",
       "        vertical-align: top;\n",
       "    }\n",
       "\n",
       "    .dataframe thead th {\n",
       "        text-align: right;\n",
       "    }\n",
       "</style>\n",
       "<table border=\"1\" class=\"dataframe\">\n",
       "  <thead>\n",
       "    <tr style=\"text-align: right;\">\n",
       "      <th></th>\n",
       "      <th>regn</th>\n",
       "      <th>assets</th>\n",
       "      <th>personal_page</th>\n",
       "      <th>app</th>\n",
       "      <th>n_1_0</th>\n",
       "      <th>n3</th>\n",
       "      <th>n2</th>\n",
       "      <th>n4</th>\n",
       "      <th>n_10_1</th>\n",
       "      <th>roe</th>\n",
       "      <th>...</th>\n",
       "      <th>retail_cost</th>\n",
       "      <th>corp_cost</th>\n",
       "      <th>reserv_cost</th>\n",
       "      <th>retail_depo_abs</th>\n",
       "      <th>corp_depo_abs</th>\n",
       "      <th>total_assets</th>\n",
       "      <th>avg_corp_loan</th>\n",
       "      <th>avg_retail_loan</th>\n",
       "      <th>avg_corp_depo</th>\n",
       "      <th>avg_retail_depo</th>\n",
       "    </tr>\n",
       "    <tr>\n",
       "      <th>date</th>\n",
       "      <th></th>\n",
       "      <th></th>\n",
       "      <th></th>\n",
       "      <th></th>\n",
       "      <th></th>\n",
       "      <th></th>\n",
       "      <th></th>\n",
       "      <th></th>\n",
       "      <th></th>\n",
       "      <th></th>\n",
       "      <th></th>\n",
       "      <th></th>\n",
       "      <th></th>\n",
       "      <th></th>\n",
       "      <th></th>\n",
       "      <th></th>\n",
       "      <th></th>\n",
       "      <th></th>\n",
       "      <th></th>\n",
       "      <th></th>\n",
       "      <th></th>\n",
       "    </tr>\n",
       "  </thead>\n",
       "  <tbody>\n",
       "    <tr>\n",
       "      <th>2015-01-01</th>\n",
       "      <td>1</td>\n",
       "      <td>1.209364e+09</td>\n",
       "      <td>1.0</td>\n",
       "      <td>1.0</td>\n",
       "      <td>12.675</td>\n",
       "      <td>1.250657e-07</td>\n",
       "      <td>8.057125e-08</td>\n",
       "      <td>78.985</td>\n",
       "      <td>0.180</td>\n",
       "      <td>-0.068259</td>\n",
       "      <td>...</td>\n",
       "      <td>-1979864.0</td>\n",
       "      <td>-17376616.0</td>\n",
       "      <td>-32171550.0</td>\n",
       "      <td>-4.416043e+08</td>\n",
       "      <td>-103183444.0</td>\n",
       "      <td>8.925370e+10</td>\n",
       "      <td>0.088485</td>\n",
       "      <td>0.154507</td>\n",
       "      <td>0.039069</td>\n",
       "      <td>0.072715</td>\n",
       "    </tr>\n",
       "    <tr>\n",
       "      <th>2015-01-01</th>\n",
       "      <td>1000</td>\n",
       "      <td>8.119045e+09</td>\n",
       "      <td>1.0</td>\n",
       "      <td>1.0</td>\n",
       "      <td>13.620</td>\n",
       "      <td>1.123654e-08</td>\n",
       "      <td>5.142231e-09</td>\n",
       "      <td>57.880</td>\n",
       "      <td>0.015</td>\n",
       "      <td>-0.021110</td>\n",
       "      <td>...</td>\n",
       "      <td>-957887.0</td>\n",
       "      <td>-128826630.0</td>\n",
       "      <td>-147445136.0</td>\n",
       "      <td>-2.219172e+09</td>\n",
       "      <td>-20919606.0</td>\n",
       "      <td>8.925370e+10</td>\n",
       "      <td>0.088485</td>\n",
       "      <td>0.154507</td>\n",
       "      <td>0.039069</td>\n",
       "      <td>0.072715</td>\n",
       "    </tr>\n",
       "    <tr>\n",
       "      <th>2015-01-01</th>\n",
       "      <td>1002</td>\n",
       "      <td>1.584751e+06</td>\n",
       "      <td>0.0</td>\n",
       "      <td>0.0</td>\n",
       "      <td>19.870</td>\n",
       "      <td>5.894301e-05</td>\n",
       "      <td>5.097331e-05</td>\n",
       "      <td>6.170</td>\n",
       "      <td>1.250</td>\n",
       "      <td>-0.057453</td>\n",
       "      <td>...</td>\n",
       "      <td>-60566.0</td>\n",
       "      <td>-8295.0</td>\n",
       "      <td>-67241.0</td>\n",
       "      <td>-9.648800e+04</td>\n",
       "      <td>-593647.0</td>\n",
       "      <td>8.925370e+10</td>\n",
       "      <td>0.088485</td>\n",
       "      <td>0.154507</td>\n",
       "      <td>0.039069</td>\n",
       "      <td>0.072715</td>\n",
       "    </tr>\n",
       "  </tbody>\n",
       "</table>\n",
       "<p>3 rows × 41 columns</p>\n",
       "</div>"
      ],
      "text/plain": [
       "            regn        assets  personal_page  app   n_1_0            n3  \\\n",
       "date                                                                       \n",
       "2015-01-01     1  1.209364e+09            1.0  1.0  12.675  1.250657e-07   \n",
       "2015-01-01  1000  8.119045e+09            1.0  1.0  13.620  1.123654e-08   \n",
       "2015-01-01  1002  1.584751e+06            0.0  0.0  19.870  5.894301e-05   \n",
       "\n",
       "                      n2      n4  n_10_1       roe  ...  retail_cost  \\\n",
       "date                                                ...                \n",
       "2015-01-01  8.057125e-08  78.985   0.180 -0.068259  ...   -1979864.0   \n",
       "2015-01-01  5.142231e-09  57.880   0.015 -0.021110  ...    -957887.0   \n",
       "2015-01-01  5.097331e-05   6.170   1.250 -0.057453  ...     -60566.0   \n",
       "\n",
       "              corp_cost  reserv_cost  retail_depo_abs  corp_depo_abs  \\\n",
       "date                                                                   \n",
       "2015-01-01  -17376616.0  -32171550.0    -4.416043e+08   -103183444.0   \n",
       "2015-01-01 -128826630.0 -147445136.0    -2.219172e+09    -20919606.0   \n",
       "2015-01-01      -8295.0     -67241.0    -9.648800e+04      -593647.0   \n",
       "\n",
       "            total_assets  avg_corp_loan  avg_retail_loan  avg_corp_depo  \\\n",
       "date                                                                      \n",
       "2015-01-01  8.925370e+10       0.088485         0.154507       0.039069   \n",
       "2015-01-01  8.925370e+10       0.088485         0.154507       0.039069   \n",
       "2015-01-01  8.925370e+10       0.088485         0.154507       0.039069   \n",
       "\n",
       "            avg_retail_depo  \n",
       "date                         \n",
       "2015-01-01         0.072715  \n",
       "2015-01-01         0.072715  \n",
       "2015-01-01         0.072715  \n",
       "\n",
       "[3 rows x 41 columns]"
      ]
     },
     "execution_count": 72,
     "metadata": {},
     "output_type": "execute_result"
    }
   ],
   "source": [
    "avg.rename(columns={'assets':'total_assets'}, inplace=True)\n",
    "\n",
    "data = pd.merge(left=data, \n",
    "                right=avg[['total_assets', 'avg_corp_loan', 'avg_retail_loan', \n",
    "                           'avg_corp_depo','avg_retail_depo']],\n",
    "                how='left',\n",
    "                left_index=True, right_index=True)"
   ]
  },
  {
   "cell_type": "markdown",
   "id": "3700f82e",
   "metadata": {},
   "source": [
    "Посчитаем \n",
    "1. Разницу между ставками конкретного банка и средними по системе ставками для\n",
    "  * Корпоративных кредитов\n",
    "  * Корпоративных депозитов\n",
    "  * Розничных кредитов\n",
    "  * Розничных депозитов\n",
    "2. Отношение кредитов к депозитам (Loan-Deposit Ratio)\n",
    "3. Доли кредитов в пассивах:\n",
    "  * Долю всего кредитного портфеля в пассивах\n",
    "  * Долю корпоративных кредитов в пассивах\n",
    "  * Долю розничных кредитов в пассивах\n",
    "4. Отношение активов банка к активам всей банковской системы на соответствующую дату\n",
    "5. Дисперсию\n",
    "  * Активов банка\n",
    "  * Кредитного портфеля банка\n",
    "  * Корпоративного кредитного портфеля банка"
   ]
  },
  {
   "cell_type": "code",
   "execution_count": 74,
   "id": "de783c82",
   "metadata": {},
   "outputs": [
    {
     "data": {
      "text/plain": [
       "Index(['regn', 'assets', 'personal_page', 'app', 'n_1_0', 'n3', 'n2', 'n4',\n",
       "       'n_10_1', 'roe', 'roa', 'reserv_chng', 'equity_immobil', 'corp_loan',\n",
       "       'corp_depo', 'retail_loan', 'retail_depo', 'cor', 'mbk_share', 'owner',\n",
       "       'public', 'notmoscow', 'moodys', 'expertra', 'credits_me',\n",
       "       'deposits_me', 'liabilities', 'corp_loan_abs', 'retail_loans_abs',\n",
       "       'retail_inc', 'corp_inc', 'retail_cost', 'corp_cost', 'reserv_cost',\n",
       "       'retail_depo_abs', 'corp_depo_abs', 'total_assets', 'avg_corp_loan',\n",
       "       'avg_retail_loan', 'avg_corp_depo', 'avg_retail_depo'],\n",
       "      dtype='object')"
      ]
     },
     "execution_count": 74,
     "metadata": {},
     "output_type": "execute_result"
    }
   ],
   "source": [
    "data.columns"
   ]
  },
  {
   "cell_type": "code",
   "execution_count": null,
   "id": "3973fcb3",
   "metadata": {},
   "outputs": [],
   "source": [
    "# 1 дифференциалы процентных ставок\n",
    "data['corp_loan_spread'] = data['avg_corp_loan']-data['corp_loan']\n",
    "data['retail_loan_spread'] = data['avg_retail_loan']-data['retail_loan']\n",
    "data['corp_depo_spread'] = data['avg_corp_depo']-data['corp_depo']\n",
    "data['corp_loan_spread'] = data['avg_retail_loan']-data['retail_depo']\n",
    "# 2 loan-deposit ratio\n",
    "data['ldr'] = data['credits']/data['deposits']\n",
    "# 3 доли кредитов в пассивах\n",
    "data['loan_share'] = data['credits']/data['assets']\n",
    "pass\n",
    "pass\n",
    "# 4 доля активов банка в активах всей банковской системы\n",
    "data['size'] = data['assets']/data['total_assets']"
   ]
  },
  {
   "cell_type": "code",
   "execution_count": null,
   "id": "e0a3c2a4",
   "metadata": {},
   "outputs": [],
   "source": []
  },
  {
   "cell_type": "code",
   "execution_count": null,
   "id": "7112ccb5",
   "metadata": {},
   "outputs": [],
   "source": []
  },
  {
   "cell_type": "code",
   "execution_count": null,
   "id": "ca1e338d",
   "metadata": {},
   "outputs": [],
   "source": []
  },
  {
   "cell_type": "code",
   "execution_count": null,
   "id": "15900e92",
   "metadata": {},
   "outputs": [],
   "source": []
  },
  {
   "cell_type": "code",
   "execution_count": null,
   "id": "ebe168cb",
   "metadata": {},
   "outputs": [],
   "source": []
  },
  {
   "cell_type": "code",
   "execution_count": null,
   "id": "75a750dd",
   "metadata": {},
   "outputs": [],
   "source": []
  },
  {
   "cell_type": "code",
   "execution_count": null,
   "id": "59731167",
   "metadata": {},
   "outputs": [],
   "source": []
  },
  {
   "cell_type": "markdown",
   "id": "02bf2150",
   "metadata": {},
   "source": [
    "#### 2.2 Категориальные признаки.\n",
    "\n",
    "Посмотрим, что из себя представляют два строковых признака, которые у нас есть:"
   ]
  },
  {
   "cell_type": "code",
   "execution_count": 56,
   "id": "6655e727",
   "metadata": {},
   "outputs": [
    {
     "data": {
      "image/png": "[encoded data removed]",
      "text/plain": [
       "<Figure size 1296x360 with 2 Axes>"
      ]
     },
     "metadata": {
      "needs_background": "light"
     },
     "output_type": "display_data"
    }
   ],
   "source": [
    "fig, ax = plt.subplots(nrows=1, ncols=2, figsize=(18, 5))\n",
    "fig.subplots_adjust(top=0.8)\n",
    "\n",
    "ax[0].bar(data.moodys.value_counts().index, \n",
    "          (data.moodys.value_counts()/len(data)*100).values, color='darkorange')\n",
    "ax[0].set_title(\"Рейтинг  Moody's\")\n",
    "ax[0].set_xlabel('Категория рейтинга')\n",
    "ax[0].set_ylabel('Доля наблюдений, %')\n",
    "ax[0].grid(True)\n",
    "\n",
    "ax[1].bar(data.expertra.value_counts().index, \n",
    "          (data.expertra.value_counts()/len(data)*100).values, color='green')\n",
    "ax[1].set_title(\"Рейтинг  Эксперт РА\")\n",
    "ax[1].set_xlabel('Категория рейтинга')\n",
    "ax[1].set_ylabel('Доля наблюдений, %')\n",
    "ax[1].grid(True)\n",
    "\n",
    "fig.suptitle('Распределение наблюдений по рейтингам\\n различных рейтинговых агентств', \n",
    "             y=0.98, fontsize=14)\n",
    "fig.show();"
   ]
  },
  {
   "cell_type": "markdown",
   "id": "828c359b",
   "metadata": {},
   "source": [
    "Посмотрим на распределения всех числовых признаков:"
   ]
  }
 ],
 "metadata": {
  "kernelspec": {
   "display_name": "Python 3 (ipykernel)",
   "language": "python",
   "name": "python3"
  },
  "language_info": {
   "codemirror_mode": {
    "name": "ipython",
    "version": 3
   },
   "file_extension": ".py",
   "mimetype": "text/x-python",
   "name": "python",
   "nbconvert_exporter": "python",
   "pygments_lexer": "ipython3",
   "version": "3.8.8"
  }
 },
 "nbformat": 4,
 "nbformat_minor": 5
}
