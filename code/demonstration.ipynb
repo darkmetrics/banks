{
 "cells": [
  {
   "cell_type": "markdown",
   "id": "ff789d1d",
   "metadata": {},
   "source": [
    "[![Open In Colab](https://colab.research.google.com/assets/colab-badge.svg)](https://colab.research.google.com/github/darkmetrics/banks/blob/main/code/demonstration.ipynb)"
   ]
  },
  {
   "cell_type": "markdown",
   "id": "4f5c084c",
   "metadata": {},
   "source": [
    "## Прогнозирование вероятности дефолта для российских банков.\n",
    "\n",
    "**Авторы**:\n",
    "* **Волкова Анастасия**\n",
    "* **Дубленский Иван**\n",
    "* **Лозовой Владимир**\n",
    "* **Тельман Куан**"
   ]
  },
  {
   "cell_type": "markdown",
   "id": "2c34a0fa",
   "metadata": {},
   "source": [
    "### 1. Загрузка данных и первое знакомство с ними."
   ]
  },
  {
   "cell_type": "code",
   "execution_count": 1,
   "id": "e6443f1d",
   "metadata": {},
   "outputs": [],
   "source": [
    "import numpy as np\n",
    "import pandas as pd\n",
    "import statsmodels.api as sm\n",
    "import matplotlib.pyplot as plt \n",
    "import seaborn as sns\n",
    "\n",
    "# включение множественного вывода для Google Colab\n",
    "from IPython.core.interactiveshell import InteractiveShell\n",
    "InteractiveShell.ast_node_interactivity = \"all\""
   ]
  },
  {
   "cell_type": "markdown",
   "id": "d0e823bd",
   "metadata": {},
   "source": [
    "Слава богу, `pandas` умеет читать данные с интернет-страниц. Важно, что на Гитхабе на страничке файла с данными надо нажать кнопку `raw`, и тогда `url`-ссылка на файл с данными изменится, в тексте ссылки появится слово `raw`. Именно такую ссылку и надо использовать для чтения данных."
   ]
  },
  {
   "cell_type": "code",
   "execution_count": 2,
   "id": "a6686a85",
   "metadata": {},
   "outputs": [
    {
     "name": "stdout",
     "output_type": "stream",
     "text": [
      "Head of table with bank metrics:\n",
      "\n"
     ]
    },
    {
     "data": {
      "text/html": [
       "<div>\n",
       "<style scoped>\n",
       "    .dataframe tbody tr th:only-of-type {\n",
       "        vertical-align: middle;\n",
       "    }\n",
       "\n",
       "    .dataframe tbody tr th {\n",
       "        vertical-align: top;\n",
       "    }\n",
       "\n",
       "    .dataframe thead th {\n",
       "        text-align: right;\n",
       "    }\n",
       "</style>\n",
       "<table border=\"1\" class=\"dataframe\">\n",
       "  <thead>\n",
       "    <tr style=\"text-align: right;\">\n",
       "      <th></th>\n",
       "      <th>REGN</th>\n",
       "      <th>Year</th>\n",
       "      <th>Month</th>\n",
       "      <th>NetIncome</th>\n",
       "      <th>NetSecurityIncome</th>\n",
       "      <th>NetDerivativeIncome</th>\n",
       "      <th>NetFeeIncome</th>\n",
       "      <th>NetInvestmentIncome</th>\n",
       "      <th>NetInterestIncome</th>\n",
       "      <th>Assets</th>\n",
       "      <th>...</th>\n",
       "      <th>InterbankShareInLiabs</th>\n",
       "      <th>CreditsRetail_Me</th>\n",
       "      <th>ownership_state</th>\n",
       "      <th>form_public</th>\n",
       "      <th>region_notmoscow</th>\n",
       "      <th>Moodys</th>\n",
       "      <th>ExpertRA</th>\n",
       "      <th>DefaultIn365Days</th>\n",
       "      <th>DefaultIn730Days</th>\n",
       "      <th>DefaultIn10000Days</th>\n",
       "    </tr>\n",
       "    <tr>\n",
       "      <th>date</th>\n",
       "      <th></th>\n",
       "      <th></th>\n",
       "      <th></th>\n",
       "      <th></th>\n",
       "      <th></th>\n",
       "      <th></th>\n",
       "      <th></th>\n",
       "      <th></th>\n",
       "      <th></th>\n",
       "      <th></th>\n",
       "      <th></th>\n",
       "      <th></th>\n",
       "      <th></th>\n",
       "      <th></th>\n",
       "      <th></th>\n",
       "      <th></th>\n",
       "      <th></th>\n",
       "      <th></th>\n",
       "      <th></th>\n",
       "      <th></th>\n",
       "      <th></th>\n",
       "    </tr>\n",
       "  </thead>\n",
       "  <tbody>\n",
       "    <tr>\n",
       "      <th>2015-01-01</th>\n",
       "      <td>1</td>\n",
       "      <td>2015</td>\n",
       "      <td>1</td>\n",
       "      <td>0.007337</td>\n",
       "      <td>-0.080195</td>\n",
       "      <td>1.821275</td>\n",
       "      <td>1.003520</td>\n",
       "      <td>1.127056e-07</td>\n",
       "      <td>3.267442</td>\n",
       "      <td>1.209364e+09</td>\n",
       "      <td>...</td>\n",
       "      <td>0.105845</td>\n",
       "      <td>147875391.0</td>\n",
       "      <td>0</td>\n",
       "      <td>0</td>\n",
       "      <td>0</td>\n",
       "      <td>no</td>\n",
       "      <td>no</td>\n",
       "      <td>0</td>\n",
       "      <td>0</td>\n",
       "      <td>0</td>\n",
       "    </tr>\n",
       "    <tr>\n",
       "      <th>2015-02-01</th>\n",
       "      <td>1</td>\n",
       "      <td>2015</td>\n",
       "      <td>2</td>\n",
       "      <td>0.006679</td>\n",
       "      <td>-0.080195</td>\n",
       "      <td>1.821275</td>\n",
       "      <td>1.003520</td>\n",
       "      <td>1.127056e-07</td>\n",
       "      <td>3.267442</td>\n",
       "      <td>1.328361e+09</td>\n",
       "      <td>...</td>\n",
       "      <td>0.112639</td>\n",
       "      <td>145009568.0</td>\n",
       "      <td>0</td>\n",
       "      <td>0</td>\n",
       "      <td>0</td>\n",
       "      <td>no</td>\n",
       "      <td>no</td>\n",
       "      <td>0</td>\n",
       "      <td>0</td>\n",
       "      <td>0</td>\n",
       "    </tr>\n",
       "    <tr>\n",
       "      <th>2015-03-01</th>\n",
       "      <td>1</td>\n",
       "      <td>2015</td>\n",
       "      <td>3</td>\n",
       "      <td>0.007374</td>\n",
       "      <td>-0.080195</td>\n",
       "      <td>1.821275</td>\n",
       "      <td>1.003520</td>\n",
       "      <td>1.127056e-07</td>\n",
       "      <td>3.267442</td>\n",
       "      <td>1.203223e+09</td>\n",
       "      <td>...</td>\n",
       "      <td>0.119042</td>\n",
       "      <td>139987699.0</td>\n",
       "      <td>0</td>\n",
       "      <td>0</td>\n",
       "      <td>0</td>\n",
       "      <td>no</td>\n",
       "      <td>no</td>\n",
       "      <td>0</td>\n",
       "      <td>0</td>\n",
       "      <td>0</td>\n",
       "    </tr>\n",
       "    <tr>\n",
       "      <th>2015-04-01</th>\n",
       "      <td>1</td>\n",
       "      <td>2015</td>\n",
       "      <td>4</td>\n",
       "      <td>0.002215</td>\n",
       "      <td>-0.075207</td>\n",
       "      <td>1.304973</td>\n",
       "      <td>0.607162</td>\n",
       "      <td>-0.000000e+00</td>\n",
       "      <td>1.858185</td>\n",
       "      <td>1.167734e+09</td>\n",
       "      <td>...</td>\n",
       "      <td>0.096728</td>\n",
       "      <td>135048179.0</td>\n",
       "      <td>0</td>\n",
       "      <td>0</td>\n",
       "      <td>0</td>\n",
       "      <td>no</td>\n",
       "      <td>no</td>\n",
       "      <td>0</td>\n",
       "      <td>0</td>\n",
       "      <td>0</td>\n",
       "    </tr>\n",
       "    <tr>\n",
       "      <th>2015-05-01</th>\n",
       "      <td>1</td>\n",
       "      <td>2015</td>\n",
       "      <td>5</td>\n",
       "      <td>0.002413</td>\n",
       "      <td>-0.075207</td>\n",
       "      <td>1.304973</td>\n",
       "      <td>0.607162</td>\n",
       "      <td>-0.000000e+00</td>\n",
       "      <td>1.858185</td>\n",
       "      <td>1.072174e+09</td>\n",
       "      <td>...</td>\n",
       "      <td>0.122466</td>\n",
       "      <td>130841858.0</td>\n",
       "      <td>0</td>\n",
       "      <td>0</td>\n",
       "      <td>0</td>\n",
       "      <td>no</td>\n",
       "      <td>no</td>\n",
       "      <td>0</td>\n",
       "      <td>0</td>\n",
       "      <td>0</td>\n",
       "    </tr>\n",
       "  </tbody>\n",
       "</table>\n",
       "<p>5 rows × 108 columns</p>\n",
       "</div>"
      ],
      "text/plain": [
       "            REGN  Year  Month  NetIncome  NetSecurityIncome  \\\n",
       "date                                                          \n",
       "2015-01-01     1  2015      1   0.007337          -0.080195   \n",
       "2015-02-01     1  2015      2   0.006679          -0.080195   \n",
       "2015-03-01     1  2015      3   0.007374          -0.080195   \n",
       "2015-04-01     1  2015      4   0.002215          -0.075207   \n",
       "2015-05-01     1  2015      5   0.002413          -0.075207   \n",
       "\n",
       "            NetDerivativeIncome  NetFeeIncome  NetInvestmentIncome  \\\n",
       "date                                                                 \n",
       "2015-01-01             1.821275      1.003520         1.127056e-07   \n",
       "2015-02-01             1.821275      1.003520         1.127056e-07   \n",
       "2015-03-01             1.821275      1.003520         1.127056e-07   \n",
       "2015-04-01             1.304973      0.607162        -0.000000e+00   \n",
       "2015-05-01             1.304973      0.607162        -0.000000e+00   \n",
       "\n",
       "            NetInterestIncome        Assets  ...  InterbankShareInLiabs  \\\n",
       "date                                         ...                          \n",
       "2015-01-01           3.267442  1.209364e+09  ...               0.105845   \n",
       "2015-02-01           3.267442  1.328361e+09  ...               0.112639   \n",
       "2015-03-01           3.267442  1.203223e+09  ...               0.119042   \n",
       "2015-04-01           1.858185  1.167734e+09  ...               0.096728   \n",
       "2015-05-01           1.858185  1.072174e+09  ...               0.122466   \n",
       "\n",
       "            CreditsRetail_Me  ownership_state  form_public  region_notmoscow  \\\n",
       "date                                                                           \n",
       "2015-01-01       147875391.0                0            0                 0   \n",
       "2015-02-01       145009568.0                0            0                 0   \n",
       "2015-03-01       139987699.0                0            0                 0   \n",
       "2015-04-01       135048179.0                0            0                 0   \n",
       "2015-05-01       130841858.0                0            0                 0   \n",
       "\n",
       "            Moodys  ExpertRA  DefaultIn365Days  DefaultIn730Days  \\\n",
       "date                                                               \n",
       "2015-01-01      no        no                 0                 0   \n",
       "2015-02-01      no        no                 0                 0   \n",
       "2015-03-01      no        no                 0                 0   \n",
       "2015-04-01      no        no                 0                 0   \n",
       "2015-05-01      no        no                 0                 0   \n",
       "\n",
       "            DefaultIn10000Days  \n",
       "date                            \n",
       "2015-01-01                   0  \n",
       "2015-02-01                   0  \n",
       "2015-03-01                   0  \n",
       "2015-04-01                   0  \n",
       "2015-05-01                   0  \n",
       "\n",
       "[5 rows x 108 columns]"
      ]
     },
     "execution_count": 2,
     "metadata": {},
     "output_type": "execute_result"
    },
    {
     "name": "stdout",
     "output_type": "stream",
     "text": [
      "\n",
      "Head of table with bank defaults:\n",
      "\n"
     ]
    },
    {
     "data": {
      "text/html": [
       "<div>\n",
       "<style scoped>\n",
       "    .dataframe tbody tr th:only-of-type {\n",
       "        vertical-align: middle;\n",
       "    }\n",
       "\n",
       "    .dataframe tbody tr th {\n",
       "        vertical-align: top;\n",
       "    }\n",
       "\n",
       "    .dataframe thead th {\n",
       "        text-align: right;\n",
       "    }\n",
       "</style>\n",
       "<table border=\"1\" class=\"dataframe\">\n",
       "  <thead>\n",
       "    <tr style=\"text-align: right;\">\n",
       "      <th></th>\n",
       "      <th>name</th>\n",
       "      <th>REGN</th>\n",
       "      <th>type</th>\n",
       "      <th>region</th>\n",
       "    </tr>\n",
       "    <tr>\n",
       "      <th>date</th>\n",
       "      <th></th>\n",
       "      <th></th>\n",
       "      <th></th>\n",
       "      <th></th>\n",
       "    </tr>\n",
       "  </thead>\n",
       "  <tbody>\n",
       "    <tr>\n",
       "      <th>2021-09-17</th>\n",
       "      <td>Платина</td>\n",
       "      <td>2347</td>\n",
       "      <td>отозв.</td>\n",
       "      <td>Москва</td>\n",
       "    </tr>\n",
       "    <tr>\n",
       "      <th>2021-08-06</th>\n",
       "      <td>КС Банк</td>\n",
       "      <td>1752</td>\n",
       "      <td>отозв.</td>\n",
       "      <td>Саранск (Республика Мордовия)</td>\n",
       "    </tr>\n",
       "    <tr>\n",
       "      <th>2021-07-23</th>\n",
       "      <td>Руна-Банк</td>\n",
       "      <td>3207</td>\n",
       "      <td>отозв.</td>\n",
       "      <td>Москва</td>\n",
       "    </tr>\n",
       "    <tr>\n",
       "      <th>2021-07-23</th>\n",
       "      <td>Русское Финансовое Общество</td>\n",
       "      <td>3427</td>\n",
       "      <td>отозв.</td>\n",
       "      <td>Москва</td>\n",
       "    </tr>\n",
       "    <tr>\n",
       "      <th>2021-06-25</th>\n",
       "      <td>Актив Банк</td>\n",
       "      <td>2529</td>\n",
       "      <td>отозв.</td>\n",
       "      <td>Саранск (Республика Мордовия)</td>\n",
       "    </tr>\n",
       "  </tbody>\n",
       "</table>\n",
       "</div>"
      ],
      "text/plain": [
       "                                   name  REGN    type  \\\n",
       "date                                                    \n",
       "2021-09-17                      Платина  2347  отозв.   \n",
       "2021-08-06                      КС Банк  1752  отозв.   \n",
       "2021-07-23                    Руна-Банк  3207  отозв.   \n",
       "2021-07-23  Русское Финансовое Общество  3427  отозв.   \n",
       "2021-06-25                   Актив Банк  2529  отозв.   \n",
       "\n",
       "                                   region  \n",
       "date                                       \n",
       "2021-09-17                         Москва  \n",
       "2021-08-06  Саранск (Республика Мордовия)  \n",
       "2021-07-23                         Москва  \n",
       "2021-07-23                         Москва  \n",
       "2021-06-25  Саранск (Республика Мордовия)  "
      ]
     },
     "execution_count": 2,
     "metadata": {},
     "output_type": "execute_result"
    }
   ],
   "source": [
    "url = \"https://raw.githubusercontent.com/darkmetrics/banks/main/data/metrics.csv\"\n",
    "url2 = \"https://raw.githubusercontent.com/darkmetrics/banks/main/data/defaults.csv\"\n",
    "data = pd.read_csv(url, parse_dates=True, index_col='date')\n",
    "defaults = pd.read_csv(url2, parse_dates=True, index_col='date')\n",
    "\n",
    "print('Head of table with bank metrics:\\n')\n",
    "data.head(5)\n",
    "print('\\nHead of table with bank defaults:\\n')\n",
    "defaults.head(5)"
   ]
  },
  {
   "cell_type": "markdown",
   "id": "3e8adbce",
   "metadata": {},
   "source": [
    "Сначала выберем нужные столбцы из метрик."
   ]
  },
  {
   "cell_type": "code",
   "execution_count": 3,
   "id": "1337f06c",
   "metadata": {},
   "outputs": [
    {
     "data": {
      "text/plain": [
       "35"
      ]
     },
     "execution_count": 3,
     "metadata": {},
     "output_type": "execute_result"
    }
   ],
   "source": [
    "cols = ['REGN','Assets','personal_page','app','CapitalAdequacy_norm','LiquidityMonth_norm',\n",
    "        'LiquidityDay_norm','LiquidityLong_norm','CreditsToInsidersCoefficient_norm',\n",
    "        'ROE','ROA','ReservesChange', 'EquityToImmobilizedAssets', \n",
    "        'CreditsReturnCorporates','DepositsInterestCorporates','CreditsReturnRetail','DepositsInterestRetail',\n",
    "        'CostOfRisk', 'InterbankShareInLiabs','ownership_state','form_public','region_notmoscow',\n",
    "        'Moodys','ExpertRA',\n",
    "        # эти столбцы для расчета дополнительных метрик - сами по себе они не нужны\n",
    "        'Credits_Me','Deposits_Me', 'CreditsCorporates_Me', 'CreditsRetail_Me',\n",
    "        'IncomeRetail_Me','IncomeCorporates_Me','ExpenditureRetail_Me','ExpenditureCorporates_Me',\n",
    "        'ExpendituresReserves_Me', 'DepositsRetail_Me','DepositsCorporates_Me']\n",
    "len(cols)"
   ]
  },
  {
   "cell_type": "code",
   "execution_count": 4,
   "id": "72aa08f5",
   "metadata": {},
   "outputs": [],
   "source": [
    "data = data[cols]"
   ]
  },
  {
   "cell_type": "markdown",
   "id": "2908b0ed",
   "metadata": {},
   "source": [
    "Посмотрим на содержимое таблички: типы данных, количество пропусков."
   ]
  },
  {
   "cell_type": "code",
   "execution_count": 5,
   "id": "59fe3381",
   "metadata": {},
   "outputs": [
    {
     "name": "stdout",
     "output_type": "stream",
     "text": [
      "<class 'pandas.core.frame.DataFrame'>\n",
      "DatetimeIndex: 40885 entries, 2015-01-01 to 2016-12-01\n",
      "Data columns (total 35 columns):\n",
      " #   Column                             Non-Null Count  Dtype  \n",
      "---  ------                             --------------  -----  \n",
      " 0   REGN                               40885 non-null  int64  \n",
      " 1   Assets                             40885 non-null  float64\n",
      " 2   personal_page                      40885 non-null  float64\n",
      " 3   app                                40885 non-null  float64\n",
      " 4   CapitalAdequacy_norm               40885 non-null  float64\n",
      " 5   LiquidityMonth_norm                40885 non-null  float64\n",
      " 6   LiquidityDay_norm                  40885 non-null  float64\n",
      " 7   LiquidityLong_norm                 40885 non-null  float64\n",
      " 8   CreditsToInsidersCoefficient_norm  40885 non-null  float64\n",
      " 9   ROE                                40885 non-null  float64\n",
      " 10  ROA                                40885 non-null  float64\n",
      " 11  ReservesChange                     40885 non-null  float64\n",
      " 12  EquityToImmobilizedAssets          40831 non-null  float64\n",
      " 13  CreditsReturnCorporates            38190 non-null  float64\n",
      " 14  DepositsInterestCorporates         38670 non-null  float64\n",
      " 15  CreditsReturnRetail                37346 non-null  float64\n",
      " 16  DepositsInterestRetail             37462 non-null  float64\n",
      " 17  CostOfRisk                         40885 non-null  float64\n",
      " 18  InterbankShareInLiabs              40885 non-null  float64\n",
      " 19  ownership_state                    40885 non-null  int64  \n",
      " 20  form_public                        40885 non-null  int64  \n",
      " 21  region_notmoscow                   40885 non-null  int64  \n",
      " 22  Moodys                             40885 non-null  object \n",
      " 23  ExpertRA                           40885 non-null  object \n",
      " 24  Credits_Me                         40885 non-null  float64\n",
      " 25  Deposits_Me                        40885 non-null  float64\n",
      " 26  CreditsCorporates_Me               40885 non-null  float64\n",
      " 27  CreditsRetail_Me                   40885 non-null  float64\n",
      " 28  IncomeRetail_Me                    40885 non-null  float64\n",
      " 29  IncomeCorporates_Me                40885 non-null  float64\n",
      " 30  ExpenditureRetail_Me               40885 non-null  float64\n",
      " 31  ExpenditureCorporates_Me           40885 non-null  float64\n",
      " 32  ExpendituresReserves_Me            40885 non-null  float64\n",
      " 33  DepositsRetail_Me                  40885 non-null  float64\n",
      " 34  DepositsCorporates_Me              40885 non-null  float64\n",
      "dtypes: float64(29), int64(4), object(2)\n",
      "memory usage: 11.2+ MB\n"
     ]
    }
   ],
   "source": [
    "data.info()"
   ]
  },
  {
   "cell_type": "markdown",
   "id": "60492da1",
   "metadata": {},
   "source": [
    "И заменим некоторые названия столбцов в данных - с исходными названиями трудновато будет работать."
   ]
  },
  {
   "cell_type": "code",
   "execution_count": 6,
   "id": "3c91e420",
   "metadata": {},
   "outputs": [],
   "source": [
    "new_names = {'CapitalAdequacy_norm':'n_1_0',\n",
    "             'LiquidityMonth_norm':'n3',\n",
    "             'LiquidityDay_norm':'n2',\n",
    "             'LiquidityLong_norm':'n4',\n",
    "             'CreditsToInsidersCoefficient_norm':'n_10_1',\n",
    "             'ReservesChange':'reserv_chng',\n",
    "             'EquityToImmobilizedAssets':'equity_immobil',\n",
    "             'CreditsReturnCorporates':'corp_loan',\n",
    "             'DepositsInterestCorporates':'corp_depo',\n",
    "             'CreditsReturnRetail':'retail_loan',\n",
    "             'DepositsInterestRetail':'retail_depo',\n",
    "             'CostOfRisk':'cor',\n",
    "             'InterbankShareInLiabs':'mbk_share', \n",
    "             'ownership_state':'owner', \n",
    "             'form_public':'public',\n",
    "             'region_notmoscow':'notmoscow',\n",
    "             'CreditsCorporates_Me':'corp_loan_abs',\n",
    "             'CreditsRetail_Me':'retail_loans_abs',\n",
    "             'DepositsRetail_Me':'retail_depo_abs',\n",
    "             'DepositsCorporates_Me':'corp_depo_abs',\n",
    "             'IncomeRetail_Me':'retail_inc',\n",
    "             'IncomeCorporates_Me':'corp_inc',\n",
    "             'ExpenditureRetail_Me':'retail_cost',\n",
    "             'ExpenditureCorporates_Me':'corp_cost',\n",
    "             'ExpendituresReserves_Me':'reserv_cost'}\n",
    "\n",
    "data.rename(columns=new_names, inplace=True)\n",
    "data.columns = [x.lower().replace('_me', '') for x in data.columns]"
   ]
  },
  {
   "cell_type": "markdown",
   "id": "4446d33e",
   "metadata": {},
   "source": [
    "Посмотрим на детальные описания регрессоров:"
   ]
  },
  {
   "cell_type": "code",
   "execution_count": 7,
   "id": "f6cd8df0",
   "metadata": {},
   "outputs": [
    {
     "data": {
      "text/html": [
       "<style type=\"text/css\">\n",
       "#T_13f06_ td:hover {\n",
       "  background-color: #ffffb3;\n",
       "}\n",
       "#T_13f06_ .index_name {\n",
       "  background-color: #cc7000;\n",
       "  color: white;\n",
       "}\n",
       "#T_13f06_ th:not(.index_name) {\n",
       "  background-color: #cc7000;\n",
       "  color: white;\n",
       "}\n",
       "#T_13f06_row0_col0, #T_13f06_row0_col1, #T_13f06_row2_col0, #T_13f06_row2_col1, #T_13f06_row4_col0, #T_13f06_row4_col1, #T_13f06_row6_col0, #T_13f06_row6_col1, #T_13f06_row8_col0, #T_13f06_row8_col1, #T_13f06_row10_col0, #T_13f06_row10_col1, #T_13f06_row12_col0, #T_13f06_row12_col1, #T_13f06_row14_col0, #T_13f06_row14_col1, #T_13f06_row16_col0, #T_13f06_row16_col1, #T_13f06_row18_col0, #T_13f06_row18_col1, #T_13f06_row20_col0, #T_13f06_row20_col1, #T_13f06_row22_col0, #T_13f06_row22_col1, #T_13f06_row24_col0, #T_13f06_row24_col1 {\n",
       "  background-color: #FCD299;\n",
       "  axis: 0;\n",
       "}\n",
       "</style>\n",
       "<table id=\"T_13f06_\">\n",
       "  <thead>\n",
       "    <tr>\n",
       "      <th class=\"blank level0\" >&nbsp;</th>\n",
       "      <th class=\"col_heading level0 col0\" >Краткое название</th>\n",
       "      <th class=\"col_heading level0 col1\" >Содержание</th>\n",
       "    </tr>\n",
       "    <tr>\n",
       "      <th class=\"index_name level0\" >Название</th>\n",
       "      <th class=\"blank col0\" >&nbsp;</th>\n",
       "      <th class=\"blank col1\" >&nbsp;</th>\n",
       "    </tr>\n",
       "  </thead>\n",
       "  <tbody>\n",
       "    <tr>\n",
       "      <th id=\"T_13f06_level0_row0\" class=\"row_heading level0 row0\" >CapitalAdequacy_norm</th>\n",
       "      <td id=\"T_13f06_row0_col0\" class=\"data row0 col0\" >n_1_0</td>\n",
       "      <td id=\"T_13f06_row0_col1\" class=\"data row0 col1\" >Достаточность капитала</td>\n",
       "    </tr>\n",
       "    <tr>\n",
       "      <th id=\"T_13f06_level0_row1\" class=\"row_heading level0 row1\" >LiquidityMonth_norm</th>\n",
       "      <td id=\"T_13f06_row1_col0\" class=\"data row1 col0\" >n3</td>\n",
       "      <td id=\"T_13f06_row1_col1\" class=\"data row1 col1\" >Норматив текущей ликвидности</td>\n",
       "    </tr>\n",
       "    <tr>\n",
       "      <th id=\"T_13f06_level0_row2\" class=\"row_heading level0 row2\" >LiquidityDay_norm</th>\n",
       "      <td id=\"T_13f06_row2_col0\" class=\"data row2 col0\" >n2</td>\n",
       "      <td id=\"T_13f06_row2_col1\" class=\"data row2 col1\" >Норматив мгновенной ликвидности</td>\n",
       "    </tr>\n",
       "    <tr>\n",
       "      <th id=\"T_13f06_level0_row3\" class=\"row_heading level0 row3\" >LiquidityLong_norm</th>\n",
       "      <td id=\"T_13f06_row3_col0\" class=\"data row3 col0\" >n4</td>\n",
       "      <td id=\"T_13f06_row3_col1\" class=\"data row3 col1\" >Норматив долгосрочной ликвидности</td>\n",
       "    </tr>\n",
       "    <tr>\n",
       "      <th id=\"T_13f06_level0_row4\" class=\"row_heading level0 row4\" >CreditsToInsidersCoefficient_norm</th>\n",
       "      <td id=\"T_13f06_row4_col0\" class=\"data row4 col0\" >n_10_1</td>\n",
       "      <td id=\"T_13f06_row4_col1\" class=\"data row4 col1\" >Норматив совокупной величины риска по инсайдерам банка</td>\n",
       "    </tr>\n",
       "    <tr>\n",
       "      <th id=\"T_13f06_level0_row5\" class=\"row_heading level0 row5\" >ReservesChange</th>\n",
       "      <td id=\"T_13f06_row5_col0\" class=\"data row5 col0\" >reserv_chng</td>\n",
       "      <td id=\"T_13f06_row5_col1\" class=\"data row5 col1\" >Изменение резрвов за период</td>\n",
       "    </tr>\n",
       "    <tr>\n",
       "      <th id=\"T_13f06_level0_row6\" class=\"row_heading level0 row6\" >EquityToImmobilizedAssets</th>\n",
       "      <td id=\"T_13f06_row6_col0\" class=\"data row6 col0\" >equity_immobil</td>\n",
       "      <td id=\"T_13f06_row6_col1\" class=\"data row6 col1\" >Отношение капитала к иммобилизованным активам</td>\n",
       "    </tr>\n",
       "    <tr>\n",
       "      <th id=\"T_13f06_level0_row7\" class=\"row_heading level0 row7\" >CreditsReturnCorporates</th>\n",
       "      <td id=\"T_13f06_row7_col0\" class=\"data row7 col0\" >corp_loan</td>\n",
       "      <td id=\"T_13f06_row7_col1\" class=\"data row7 col1\" >Ставки по корпоративным кредитам</td>\n",
       "    </tr>\n",
       "    <tr>\n",
       "      <th id=\"T_13f06_level0_row8\" class=\"row_heading level0 row8\" >DepositsInterestCorporates</th>\n",
       "      <td id=\"T_13f06_row8_col0\" class=\"data row8 col0\" >retail_depo</td>\n",
       "      <td id=\"T_13f06_row8_col1\" class=\"data row8 col1\" >Ставки по депозитам для корпоратов</td>\n",
       "    </tr>\n",
       "    <tr>\n",
       "      <th id=\"T_13f06_level0_row9\" class=\"row_heading level0 row9\" >CreditsReturnRetail</th>\n",
       "      <td id=\"T_13f06_row9_col0\" class=\"data row9 col0\" >retail_loan</td>\n",
       "      <td id=\"T_13f06_row9_col1\" class=\"data row9 col1\" >Ставки по розничным кредитам</td>\n",
       "    </tr>\n",
       "    <tr>\n",
       "      <th id=\"T_13f06_level0_row10\" class=\"row_heading level0 row10\" >DepositsInterestRetail</th>\n",
       "      <td id=\"T_13f06_row10_col0\" class=\"data row10 col0\" >retail_depo</td>\n",
       "      <td id=\"T_13f06_row10_col1\" class=\"data row10 col1\" >Ставки по розничным депозитам</td>\n",
       "    </tr>\n",
       "    <tr>\n",
       "      <th id=\"T_13f06_level0_row11\" class=\"row_heading level0 row11\" >CostOfRisk</th>\n",
       "      <td id=\"T_13f06_row11_col0\" class=\"data row11 col0\" >cor</td>\n",
       "      <td id=\"T_13f06_row11_col1\" class=\"data row11 col1\" >Стоимость риска</td>\n",
       "    </tr>\n",
       "    <tr>\n",
       "      <th id=\"T_13f06_level0_row12\" class=\"row_heading level0 row12\" >InterbankShareInLiabs</th>\n",
       "      <td id=\"T_13f06_row12_col0\" class=\"data row12 col0\" >mbk_share</td>\n",
       "      <td id=\"T_13f06_row12_col1\" class=\"data row12 col1\" >Доля межбанковских кредитов</td>\n",
       "    </tr>\n",
       "    <tr>\n",
       "      <th id=\"T_13f06_level0_row13\" class=\"row_heading level0 row13\" >ownership_state</th>\n",
       "      <td id=\"T_13f06_row13_col0\" class=\"data row13 col0\" >owner</td>\n",
       "      <td id=\"T_13f06_row13_col1\" class=\"data row13 col1\" >Признак государственного банка</td>\n",
       "    </tr>\n",
       "    <tr>\n",
       "      <th id=\"T_13f06_level0_row14\" class=\"row_heading level0 row14\" >orm_public</th>\n",
       "      <td id=\"T_13f06_row14_col0\" class=\"data row14 col0\" >public</td>\n",
       "      <td id=\"T_13f06_row14_col1\" class=\"data row14 col1\" >Признак публичности</td>\n",
       "    </tr>\n",
       "    <tr>\n",
       "      <th id=\"T_13f06_level0_row15\" class=\"row_heading level0 row15\" >region_notmoscow</th>\n",
       "      <td id=\"T_13f06_row15_col0\" class=\"data row15 col0\" >notmoscow</td>\n",
       "      <td id=\"T_13f06_row15_col1\" class=\"data row15 col1\" >Региональные банки</td>\n",
       "    </tr>\n",
       "    <tr>\n",
       "      <th id=\"T_13f06_level0_row16\" class=\"row_heading level0 row16\" >CreditsCorporates_Me</th>\n",
       "      <td id=\"T_13f06_row16_col0\" class=\"data row16 col0\" >corp_loan_abs</td>\n",
       "      <td id=\"T_13f06_row16_col1\" class=\"data row16 col1\" >Корпоративные кредиты</td>\n",
       "    </tr>\n",
       "    <tr>\n",
       "      <th id=\"T_13f06_level0_row17\" class=\"row_heading level0 row17\" >CreditsRetail_Me</th>\n",
       "      <td id=\"T_13f06_row17_col0\" class=\"data row17 col0\" >retail_loans_abs</td>\n",
       "      <td id=\"T_13f06_row17_col1\" class=\"data row17 col1\" >Розничные кредиты</td>\n",
       "    </tr>\n",
       "    <tr>\n",
       "      <th id=\"T_13f06_level0_row18\" class=\"row_heading level0 row18\" >DepositsRetail_Me</th>\n",
       "      <td id=\"T_13f06_row18_col0\" class=\"data row18 col0\" >retail_depo_abs</td>\n",
       "      <td id=\"T_13f06_row18_col1\" class=\"data row18 col1\" >Розничные депозиты</td>\n",
       "    </tr>\n",
       "    <tr>\n",
       "      <th id=\"T_13f06_level0_row19\" class=\"row_heading level0 row19\" >DepositsCorporates_Me</th>\n",
       "      <td id=\"T_13f06_row19_col0\" class=\"data row19 col0\" >corp_depo_abs</td>\n",
       "      <td id=\"T_13f06_row19_col1\" class=\"data row19 col1\" >Корпоративные депозиты</td>\n",
       "    </tr>\n",
       "    <tr>\n",
       "      <th id=\"T_13f06_level0_row20\" class=\"row_heading level0 row20\" >IncomeRetail_Me</th>\n",
       "      <td id=\"T_13f06_row20_col0\" class=\"data row20 col0\" >retail_inc</td>\n",
       "      <td id=\"T_13f06_row20_col1\" class=\"data row20 col1\" >Процентный доход по кредитам выданным физическим лицам</td>\n",
       "    </tr>\n",
       "    <tr>\n",
       "      <th id=\"T_13f06_level0_row21\" class=\"row_heading level0 row21\" >IncomeCorporates_Me</th>\n",
       "      <td id=\"T_13f06_row21_col0\" class=\"data row21 col0\" >corp_inc</td>\n",
       "      <td id=\"T_13f06_row21_col1\" class=\"data row21 col1\" >Процентный доход по кредитам выданным юридическим лицам</td>\n",
       "    </tr>\n",
       "    <tr>\n",
       "      <th id=\"T_13f06_level0_row22\" class=\"row_heading level0 row22\" >ExpenditureRetail_Me</th>\n",
       "      <td id=\"T_13f06_row22_col0\" class=\"data row22 col0\" >retail_cost</td>\n",
       "      <td id=\"T_13f06_row22_col1\" class=\"data row22 col1\" >Процентные расходы по депозитам выданным физическим лицам</td>\n",
       "    </tr>\n",
       "    <tr>\n",
       "      <th id=\"T_13f06_level0_row23\" class=\"row_heading level0 row23\" >ExpenditureCorporates_Me</th>\n",
       "      <td id=\"T_13f06_row23_col0\" class=\"data row23 col0\" >corp_cost</td>\n",
       "      <td id=\"T_13f06_row23_col1\" class=\"data row23 col1\" >Процентные расходы по депозитам выданным юридическим лицам</td>\n",
       "    </tr>\n",
       "    <tr>\n",
       "      <th id=\"T_13f06_level0_row24\" class=\"row_heading level0 row24\" >ExpendituresReserves_Me</th>\n",
       "      <td id=\"T_13f06_row24_col0\" class=\"data row24 col0\" >reserv_cost</td>\n",
       "      <td id=\"T_13f06_row24_col1\" class=\"data row24 col1\" >Расходы на создание резервов</td>\n",
       "    </tr>\n",
       "  </tbody>\n",
       "</table>\n"
      ],
      "text/plain": [
       "<pandas.io.formats.style.Styler at 0x7fe36440c820>"
      ]
     },
     "execution_count": 7,
     "metadata": {},
     "output_type": "execute_result"
    }
   ],
   "source": [
    "meta_url = 'https://raw.githubusercontent.com/darkmetrics/banks/main/data/metadata.csv'\n",
    "meta = pd.DataFrame(pd.read_csv(meta_url, index_col=0))\n",
    "meta.index = meta['Название']\n",
    "meta.drop(columns='Название', inplace=True)\n",
    "m = meta.style.format()\n",
    "cell_hover = {  # for row hover use <tr> instead of <td>\n",
    "    'selector': 'td:hover',\n",
    "    'props': [('background-color', '#ffffb3')]\n",
    "}\n",
    "index_names = {\n",
    "    'selector': '.index_name',\n",
    "    'props': 'background-color: #cc7000; color: white;'\n",
    "}\n",
    "headers = {\n",
    "    'selector': 'th:not(.index_name)',\n",
    "    'props': 'background-color: #cc7000; color: white;'\n",
    "}\n",
    "id = list(range(0, 25, 2))\n",
    "idx = pd.IndexSlice\n",
    "slice_ = idx[idx[meta.index[id]], idx[:]]\n",
    "meta = meta.style.set_properties(**{'background-color': '#FCD299'}, subset=slice_, axis=0)\n",
    "meta.set_table_styles([cell_hover, index_names, headers])"
   ]
  },
  {
   "cell_type": "code",
   "execution_count": 8,
   "id": "aed43d30",
   "metadata": {},
   "outputs": [
    {
     "name": "stdout",
     "output_type": "stream",
     "text": [
      "<class 'pandas.core.frame.DataFrame'>\n",
      "DatetimeIndex: 2205 entries, 2021-09-17 to 2015-12-25\n",
      "Data columns (total 4 columns):\n",
      " #   Column  Non-Null Count  Dtype \n",
      "---  ------  --------------  ----- \n",
      " 0   name    2205 non-null   object\n",
      " 1   REGN    2205 non-null   int64 \n",
      " 2   type    2205 non-null   object\n",
      " 3   region  2205 non-null   object\n",
      "dtypes: int64(1), object(3)\n",
      "memory usage: 86.1+ KB\n"
     ]
    }
   ],
   "source": [
    "defaults.info()"
   ]
  },
  {
   "cell_type": "markdown",
   "id": "14c70d99",
   "metadata": {},
   "source": [
    "Теперь посмотрим, совпадают ли даты для наборов данных с дефолтами и с метриками."
   ]
  },
  {
   "cell_type": "code",
   "execution_count": 9,
   "id": "c2cb607d",
   "metadata": {},
   "outputs": [
    {
     "name": "stdout",
     "output_type": "stream",
     "text": [
      "Самая ранняя дата в метриках: 2015-01-01 00:00:00\n",
      "Самая ранняя дата в дефолтах: 1991-01-22 00:00:00\n"
     ]
    }
   ],
   "source": [
    "print(f\"Самая ранняя дата в метриках: {data.index.min()}\")\n",
    "print(f\"Самая ранняя дата в дефолтах: {defaults.index.min()}\")"
   ]
  },
  {
   "cell_type": "markdown",
   "id": "e850c36a",
   "metadata": {},
   "source": [
    "Так не годится, отберем данные о дефолтах с 2015 года."
   ]
  },
  {
   "cell_type": "code",
   "execution_count": 10,
   "id": "3c6bf7d1",
   "metadata": {},
   "outputs": [
    {
     "data": {
      "text/html": [
       "<div>\n",
       "<style scoped>\n",
       "    .dataframe tbody tr th:only-of-type {\n",
       "        vertical-align: middle;\n",
       "    }\n",
       "\n",
       "    .dataframe tbody tr th {\n",
       "        vertical-align: top;\n",
       "    }\n",
       "\n",
       "    .dataframe thead th {\n",
       "        text-align: right;\n",
       "    }\n",
       "</style>\n",
       "<table border=\"1\" class=\"dataframe\">\n",
       "  <thead>\n",
       "    <tr style=\"text-align: right;\">\n",
       "      <th></th>\n",
       "      <th>name</th>\n",
       "      <th>REGN</th>\n",
       "      <th>type</th>\n",
       "      <th>region</th>\n",
       "    </tr>\n",
       "    <tr>\n",
       "      <th>date</th>\n",
       "      <th></th>\n",
       "      <th></th>\n",
       "      <th></th>\n",
       "      <th></th>\n",
       "    </tr>\n",
       "  </thead>\n",
       "  <tbody>\n",
       "    <tr>\n",
       "      <th>2021-09-17</th>\n",
       "      <td>Платина</td>\n",
       "      <td>2347</td>\n",
       "      <td>отозв.</td>\n",
       "      <td>Москва</td>\n",
       "    </tr>\n",
       "    <tr>\n",
       "      <th>2021-08-06</th>\n",
       "      <td>КС Банк</td>\n",
       "      <td>1752</td>\n",
       "      <td>отозв.</td>\n",
       "      <td>Саранск (Республика Мордовия)</td>\n",
       "    </tr>\n",
       "    <tr>\n",
       "      <th>2021-07-23</th>\n",
       "      <td>Руна-Банк</td>\n",
       "      <td>3207</td>\n",
       "      <td>отозв.</td>\n",
       "      <td>Москва</td>\n",
       "    </tr>\n",
       "  </tbody>\n",
       "</table>\n",
       "</div>"
      ],
      "text/plain": [
       "                 name  REGN    type                         region\n",
       "date                                                              \n",
       "2021-09-17    Платина  2347  отозв.                         Москва\n",
       "2021-08-06    КС Банк  1752  отозв.  Саранск (Республика Мордовия)\n",
       "2021-07-23  Руна-Банк  3207  отозв.                         Москва"
      ]
     },
     "execution_count": 10,
     "metadata": {},
     "output_type": "execute_result"
    }
   ],
   "source": [
    "defaults = defaults[defaults.index.year>=2015]\n",
    "defaults.head(3)"
   ]
  },
  {
   "cell_type": "markdown",
   "id": "592cc601",
   "metadata": {},
   "source": [
    "Теперь надо соединить данные о дефолтах (наша целевая переменная) и данные о финансовых показателях банков."
   ]
  },
  {
   "cell_type": "code",
   "execution_count": 11,
   "id": "58b16262",
   "metadata": {},
   "outputs": [],
   "source": [
    "defaults['default'] = 1\n",
    "defaults.rename(columns={'REGN':'regn'}, inplace=True)\n",
    "# в data у нас все наблюдения приходятся на 1 число\n",
    "defaults['date'] = defaults.index\n",
    "defaults['date'] = defaults['date'].apply(lambda dt: dt.replace(day=1))\n",
    "defaults.index = defaults['date']\n",
    "defaults.drop(columns='date', inplace=True)\n",
    "defaults.sort_index(inplace=True)"
   ]
  },
  {
   "cell_type": "code",
   "execution_count": 12,
   "id": "43941bcf",
   "metadata": {},
   "outputs": [],
   "source": [
    "data = pd.merge(left=data, right=defaults[['default', 'regn']], on=['date', 'regn'], how='left')"
   ]
  },
  {
   "cell_type": "code",
   "execution_count": 13,
   "id": "e3c03aed",
   "metadata": {},
   "outputs": [],
   "source": [
    "data.default.fillna(0, inplace=True)"
   ]
  },
  {
   "cell_type": "markdown",
   "id": "dfc7900a",
   "metadata": {},
   "source": [
    "### 2. Предобработка данных и создание новых признаков."
   ]
  },
  {
   "cell_type": "markdown",
   "id": "b7c43737",
   "metadata": {},
   "source": [
    "#### 2.1 Числовые признаки.\n",
    "\n",
    "Для начала нам надо создать новые признаки на основе старых."
   ]
  },
  {
   "cell_type": "markdown",
   "id": "62a06bd2",
   "metadata": {},
   "source": [
    "Сначала рассчитаем средние ставки по банковской системе. Также сразу посчитаем совокупные активы банковской системы - этот показатель нам тоже пригодится."
   ]
  },
  {
   "cell_type": "code",
   "execution_count": 14,
   "id": "ae6f8f51",
   "metadata": {},
   "outputs": [],
   "source": [
    "avg_cols = ['assets','corp_loan_abs', 'retail_loans_abs',\n",
    "            'retail_inc','corp_inc','retail_cost', \n",
    "            'corp_cost', 'retail_depo_abs','corp_depo_abs']\n",
    "\n",
    "group_dict = dict(zip(avg_cols, ['sum']*len(avg_cols)))\n",
    "avg = data.groupby(data.index).agg(group_dict).reset_index()\n",
    "avg.index = avg['date']\n",
    "# посчитаем собственно средние ставки\n",
    "avg['avg_corp_loan'] = avg['corp_inc']/avg['corp_loan_abs']\n",
    "avg['avg_retail_loan'] = avg['retail_inc']/avg['retail_loans_abs']\n",
    "avg['avg_corp_depo'] = avg['corp_cost']/avg['corp_depo_abs']\n",
    "avg['avg_retail_depo'] = avg['retail_cost']/avg['retail_depo_abs']"
   ]
  },
  {
   "cell_type": "markdown",
   "id": "ac3d06a1",
   "metadata": {},
   "source": [
    "Нарисуем средние ставки по кредитам и депозитам, это само по себе любопытно и информативно."
   ]
  },
  {
   "cell_type": "code",
   "execution_count": 15,
   "id": "a070f520",
   "metadata": {},
   "outputs": [
    {
     "data": {
      "image/png": "[encoded data removed]",
      "text/plain": [
       "<Figure size 1008x432 with 1 Axes>"
      ]
     },
     "metadata": {
      "needs_background": "light"
     },
     "output_type": "display_data"
    }
   ],
   "source": [
    "fig, ax = plt.subplots(figsize=(14, 6))\n",
    "ax.plot(avg.avg_corp_loan*100, color='red', label='Корпоративные кредиты')\n",
    "ax.plot(avg.avg_corp_depo*100, color='green', label='Корпоративные депозиты')\n",
    "ax.plot(avg.avg_retail_loan*100, color='darkorange', label='Розничные кредиты')\n",
    "ax.plot(avg.avg_retail_depo*100, color='steelblue', label='Розничные депозиты')\n",
    "ax.set_xlabel('Дата')\n",
    "ax.set_ylabel('Ставка, %')\n",
    "ax.set_title('Средние ставки по банковским продуктам, %')\n",
    "ax.legend()\n",
    "ax.grid(True)\n",
    "fig.show();"
   ]
  },
  {
   "cell_type": "markdown",
   "id": "87719daa",
   "metadata": {},
   "source": [
    "Странновато, конечно, ну да ладно. Теперь приклеим сгруппированный набор данных к основному, чтобы посчитать отклонения от средних ставок по разным продуктам для каждого банка."
   ]
  },
  {
   "cell_type": "code",
   "execution_count": 16,
   "id": "455d79c1",
   "metadata": {},
   "outputs": [],
   "source": [
    "avg.rename(columns={'assets':'total_assets'}, inplace=True)\n",
    "\n",
    "data = pd.merge(left=data, \n",
    "                right=avg[['total_assets', 'avg_corp_loan', 'avg_retail_loan', \n",
    "                           'avg_corp_depo','avg_retail_depo']],\n",
    "                how='left',\n",
    "                left_index=True, right_index=True)"
   ]
  },
  {
   "cell_type": "markdown",
   "id": "90a3a6b0",
   "metadata": {},
   "source": [
    "Посчитаем \n",
    "1. Разницу между ставками конкретного банка и средними по системе ставками для\n",
    "  * Корпоративных кредитов\n",
    "  * Корпоративных депозитов\n",
    "  * Розничных кредитов\n",
    "  * Розничных депозитов\n",
    "2. Отношение кредитов к депозитам (Loan-Deposit Ratio)\n",
    "3. Доли кредитов в пассивах:\n",
    "  * Долю всего кредитного портфеля в пассивах\n",
    "  * Долю корпоративных кредитов в пассивах\n",
    "  * Долю розничных кредитов в пассивах\n",
    "4. Отношение активов банка к активам всей банковской системы на соответствующую дату\n",
    "5. Дисперсию\n",
    "  * Активов банка\n",
    "  * Кредитного портфеля банка\n",
    "  * Корпоративного кредитного портфеля банка"
   ]
  },
  {
   "cell_type": "code",
   "execution_count": 17,
   "id": "116af860",
   "metadata": {},
   "outputs": [],
   "source": [
    "# 1 дифференциалы процентных ставок\n",
    "data['corp_loan_spread'] = data['avg_corp_loan']-data['corp_loan']\n",
    "data['retail_loan_spread'] = data['avg_retail_loan']-data['retail_loan']\n",
    "data['corp_depo_spread'] = data['avg_corp_depo']-data['corp_depo']\n",
    "data['retail_depo_spread'] = data['avg_retail_depo']-data['retail_depo']\n",
    "# 2 loan-deposit ratio\n",
    "data['ldr'] = data['credits']/data['deposits']\n",
    "# 3 доли кредитов в пассивах\n",
    "data['loan_share'] = data['credits']/data['assets']\n",
    "data['ret_loan_share'] = data['retail_loans_abs']/data['assets']\n",
    "data['corp_loan_share'] = data['corp_loan_abs']/data['assets']\n",
    "# 4 доля активов банка в активах всей банковской системы\n",
    "data['size'] = data['assets']/data['total_assets']"
   ]
  },
  {
   "cell_type": "markdown",
   "id": "699faf61",
   "metadata": {},
   "source": [
    "Заменим значения, которые равны `np.inf` или `-np.inf`, иначе дальше у нас будут проблемы с расчетами."
   ]
  },
  {
   "cell_type": "code",
   "execution_count": 18,
   "id": "690c0bf4",
   "metadata": {},
   "outputs": [],
   "source": [
    "data.replace([-np.inf, np.inf], np.nan, inplace=True)"
   ]
  },
  {
   "cell_type": "markdown",
   "id": "9d8cda15",
   "metadata": {},
   "source": [
    "В отдельной ячейке посчитаем три стандартных отклонения. Будем считать их скользящим окном в 12 наблюдений, так как для балансовых показателей у нас месячные данные. Потом поделим на активы банка итого, чтобы нормализовать значения регрессоров."
   ]
  },
  {
   "cell_type": "code",
   "execution_count": 19,
   "id": "5e88e7bc",
   "metadata": {},
   "outputs": [],
   "source": [
    "data['asset_std'] = data.groupby('regn')['assets'].\\\n",
    "                         transform(lambda x: x.rolling(12, 1).std())\n",
    "data['loan_std'] = data.groupby('regn')['credits'].\\\n",
    "                        transform(lambda x: x.rolling(12, 1).std())\n",
    "data['corp_loan_std'] = data.groupby('regn')['corp_loan_abs'].\\\n",
    "                             transform(lambda x: x.rolling(12, 1).std())"
   ]
  },
  {
   "cell_type": "code",
   "execution_count": 20,
   "id": "a1db3fca",
   "metadata": {},
   "outputs": [],
   "source": [
    "data['asset_std'] = data['asset_std']/data['assets']\n",
    "data['loan_std'] = data['loan_std']/data['assets']\n",
    "data['corp_loan_std'] = data['corp_loan_std']/data['assets']"
   ]
  },
  {
   "cell_type": "markdown",
   "id": "2ddc12d4",
   "metadata": {},
   "source": [
    "Посмотрим, остались ли у нас пропуски, если да, то в каких столбцах."
   ]
  },
  {
   "cell_type": "code",
   "execution_count": 21,
   "id": "804d439f",
   "metadata": {
    "scrolled": true
   },
   "outputs": [
    {
     "data": {
      "image/png": "[encoded data removed]",
      "text/plain": [
       "<Figure size 504x360 with 1 Axes>"
      ]
     },
     "metadata": {
      "needs_background": "light"
     },
     "output_type": "display_data"
    }
   ],
   "source": [
    "nans = data.isna().sum()[data.isna().sum()!=0]/len(data)\n",
    "nans = nans.sort_values()\n",
    "\n",
    "plt.figure(figsize=(7, 5))\n",
    "plt.barh(nans.index, nans.values*100,  color='steelblue');\n",
    "plt.xlabel('Название столбца');\n",
    "plt.ylabel('Доля пропусков, %');\n",
    "plt.title('Доля пропусков в % от наблюдений');"
   ]
  },
  {
   "cell_type": "markdown",
   "id": "d55b0df1",
   "metadata": {},
   "source": [
    "Какие столбцы нам важны?\n",
    "* Все столбцы со `spread` - заполним их средними значениями по системе.\n",
    "* `ldr` - Loan-to-Deposit Ratio.\n",
    "* `cor` - Cost Of Risk.\n",
    "* Столбцы с дисперсиями `var`- заполним их средними значениями по системе.\n",
    "* `equity_immobil`, но в нем мало пропусков, эти наблюдения можно удалить.\n",
    "\n",
    "Наверно, оптимальный вариант - это заполнить пропущенные ставки значениями, средними по банковской системе на дату пропуска. "
   ]
  },
  {
   "cell_type": "code",
   "execution_count": 22,
   "id": "a55e5879",
   "metadata": {},
   "outputs": [],
   "source": [
    "# заполним пропуски в спредах ставок, var и ldr\n",
    "avg_cols = ['corp_loan_spread', 'retail_loan_spread',\n",
    "            'corp_depo_spread', 'retail_depo_spread', \n",
    "            'ldr', 'cor', 'asset_std', 'loan_std', 'corp_loan_std']\n",
    "\n",
    "group_dict = dict(zip(avg_cols, ['median']*len(avg_cols)))\n",
    "\n",
    "avg = data.groupby(data.index).agg(group_dict).reset_index()\n",
    "\n",
    "avg.index = avg['date']\n",
    "avg.drop(columns='date', inplace=True)\n",
    "new_cols = ['avg_' + x for x in avg_cols]\n",
    "avg.rename(columns=dict(zip(avg_cols, new_cols)), inplace=True)\n",
    "# приклеим средние значения по банковской системе к нашему датасету\n",
    "data = pd.merge(left=data, \n",
    "                right=avg,\n",
    "                how='left',\n",
    "                left_index=True, right_index=True)"
   ]
  },
  {
   "cell_type": "code",
   "execution_count": 23,
   "id": "e40cc4d7",
   "metadata": {},
   "outputs": [],
   "source": [
    "# заполним средними значениями пропуски\n",
    "data.corp_loan_spread.fillna(data.avg_corp_loan_spread, inplace=True)\n",
    "data.retail_loan_spread.fillna(data.avg_retail_loan_spread, inplace=True)\n",
    "data.corp_depo_spread.fillna(data.avg_corp_depo_spread, inplace=True)\n",
    "data.retail_depo_spread.fillna(data.avg_retail_depo_spread, inplace=True)\n",
    "data.ldr.fillna(data.avg_ldr, inplace=True)\n",
    "data.cor.fillna(data.avg_cor, inplace=True)\n",
    "data.asset_std.fillna(data.avg_asset_std, inplace=True)\n",
    "data.loan_std.fillna(data.avg_loan_std, inplace=True)\n",
    "data.corp_loan_std.fillna(data.avg_corp_loan_std, inplace=True)"
   ]
  },
  {
   "cell_type": "markdown",
   "id": "de4e6834",
   "metadata": {},
   "source": [
    "Проверим еще раз наличие пропусков:"
   ]
  },
  {
   "cell_type": "code",
   "execution_count": 24,
   "id": "e5ea2f26",
   "metadata": {
    "scrolled": true
   },
   "outputs": [
    {
     "data": {
      "image/png": "[encoded data removed]",
      "text/plain": [
       "<Figure size 576x360 with 1 Axes>"
      ]
     },
     "metadata": {
      "needs_background": "light"
     },
     "output_type": "display_data"
    }
   ],
   "source": [
    "nans = data.isna().sum()[data.isna().sum()!=0]/len(data)\n",
    "nans = nans.sort_values()\n",
    "\n",
    "plt.figure(figsize=(8, 5))\n",
    "sns.barplot(y=nans.index, x=nans.values*100,  color='steelblue');\n",
    "plt.xlabel('Название столбца');\n",
    "plt.ylabel('Доля пропусков, %');\n",
    "plt.title('Доля пропусков в % от наблюдений');"
   ]
  },
  {
   "cell_type": "markdown",
   "id": "fa99b52c",
   "metadata": {},
   "source": [
    "Поменяем знаки у спредов, `roe`, `cor`, `equity_immobil` и Loan-Deposit Ratio:"
   ]
  },
  {
   "cell_type": "code",
   "execution_count": 25,
   "id": "df311940",
   "metadata": {},
   "outputs": [],
   "source": [
    "revert_sign = ['roe', 'cor', 'equity_immobil', 'cor', 'ldr']\n",
    "for colname in revert_sign:\n",
    "    data[colname] = data[colname] * -1"
   ]
  },
  {
   "cell_type": "markdown",
   "id": "56f0232d",
   "metadata": {},
   "source": [
    "Теперь все необходимые признаки получены, можно удалить ненужны столбцы из выборки."
   ]
  },
  {
   "cell_type": "code",
   "execution_count": 26,
   "id": "7343a8a9",
   "metadata": {},
   "outputs": [
    {
     "name": "stdout",
     "output_type": "stream",
     "text": [
      "<class 'pandas.core.frame.DataFrame'>\n",
      "DatetimeIndex: 40917 entries, 2015-01-01 to 2020-12-01\n",
      "Data columns (total 31 columns):\n",
      " #   Column              Non-Null Count  Dtype  \n",
      "---  ------              --------------  -----  \n",
      " 0   regn                40917 non-null  int64  \n",
      " 1   personal_page       40917 non-null  float64\n",
      " 2   app                 40917 non-null  float64\n",
      " 3   n_1_0               40917 non-null  float64\n",
      " 4   n3                  40917 non-null  float64\n",
      " 5   n2                  40917 non-null  float64\n",
      " 6   n4                  40917 non-null  float64\n",
      " 7   n_10_1              40917 non-null  float64\n",
      " 8   roe                 40917 non-null  float64\n",
      " 9   roa                 40917 non-null  float64\n",
      " 10  equity_immobil      40791 non-null  float64\n",
      " 11  cor                 40917 non-null  float64\n",
      " 12  mbk_share           40917 non-null  float64\n",
      " 13  owner               40917 non-null  int64  \n",
      " 14  public              40917 non-null  int64  \n",
      " 15  notmoscow           40917 non-null  int64  \n",
      " 16  moodys              40917 non-null  object \n",
      " 17  expertra            40917 non-null  object \n",
      " 18  default             40917 non-null  float64\n",
      " 19  corp_loan_spread    40917 non-null  float64\n",
      " 20  retail_loan_spread  40917 non-null  float64\n",
      " 21  corp_depo_spread    40917 non-null  float64\n",
      " 22  retail_depo_spread  40917 non-null  float64\n",
      " 23  ldr                 40917 non-null  float64\n",
      " 24  loan_share          40917 non-null  float64\n",
      " 25  ret_loan_share      40917 non-null  float64\n",
      " 26  corp_loan_share     40917 non-null  float64\n",
      " 27  size                40917 non-null  float64\n",
      " 28  asset_std           40917 non-null  float64\n",
      " 29  loan_std            40917 non-null  float64\n",
      " 30  corp_loan_std       40917 non-null  float64\n",
      "dtypes: float64(25), int64(4), object(2)\n",
      "memory usage: 10.0+ MB\n"
     ]
    }
   ],
   "source": [
    "to_drop = ['assets', 'corp_loan', 'corp_depo', 'retail_loan', 'retail_depo',\n",
    "           'credits', 'deposits', 'corp_loan_abs', 'retail_loans_abs',\n",
    "           'retail_depo_abs', 'corp_depo_abs', 'total_assets',\n",
    "           'retail_inc', 'corp_inc', 'retail_cost', 'corp_cost',\n",
    "           'reserv_cost', 'avg_corp_loan', 'avg_retail_loan', 'avg_corp_depo', \n",
    "           'avg_retail_depo', 'reserv_chng',\n",
    "           'avg_corp_loan_spread', 'avg_retail_loan_spread',\n",
    "           'avg_corp_depo_spread','avg_retail_depo_spread',\n",
    "           'avg_ldr','avg_cor','avg_asset_std', 'avg_loan_std', 'avg_corp_loan_std']\n",
    "data = data[[x for x in data.columns if x not in to_drop]]\n",
    "data.info()"
   ]
  },
  {
   "cell_type": "code",
   "execution_count": 27,
   "id": "66adc441",
   "metadata": {},
   "outputs": [],
   "source": [
    "data.dropna(inplace=True)"
   ]
  },
  {
   "cell_type": "markdown",
   "id": "807901ef",
   "metadata": {},
   "source": [
    "#### Визуализация числовых переменных.\n",
    "\n",
    "Для начала разделим выборку на train и test."
   ]
  },
  {
   "cell_type": "code",
   "execution_count": 28,
   "id": "4cdd71bb",
   "metadata": {},
   "outputs": [],
   "source": [
    "from sklearn.model_selection import train_test_split\n",
    "\n",
    "y = data['default']\n",
    "X = data.drop(columns=['regn', 'default'])\n",
    "\n",
    "X_train, X_test, y_train, y_test = train_test_split(X, y, test_size=0.3, random_state=583)"
   ]
  },
  {
   "cell_type": "markdown",
   "id": "4dcebdc3",
   "metadata": {},
   "source": [
    "Посмотрим на динамику целевой переменной - дефолтов, попавших в `train`, по годам:"
   ]
  },
  {
   "cell_type": "code",
   "execution_count": 29,
   "id": "dd149d57",
   "metadata": {},
   "outputs": [
    {
     "data": {
      "image/png": "[encoded data removed]",
      "text/plain": [
       "<Figure size 504x360 with 1 Axes>"
      ]
     },
     "metadata": {
      "needs_background": "light"
     },
     "output_type": "display_data"
    }
   ],
   "source": [
    "y_train.groupby(y_train.index.year).agg('sum').\\\n",
    "                plot(figsize=(7, 5), kind='bar',\n",
    "                     title='Количество дефолтов по годам\\n в обучающей выборке');\n",
    "plt.grid(True);"
   ]
  },
  {
   "cell_type": "markdown",
   "id": "6e465202",
   "metadata": {},
   "source": [
    "Ситуация вполне логичная: после кризиса 2014 года произошла расчистка банковского сектора, многие банки закрывались в 2015-2016 годах, также тяжелая макроэкономическая ситуация сложилась в России в 2018 году."
   ]
  },
  {
   "cell_type": "markdown",
   "id": "45b7358a",
   "metadata": {},
   "source": [
    "#### Визуализация числовых  признаков.\n",
    "\n",
    "Для начала отберем числовые регрессоры из обучающей выборки:"
   ]
  },
  {
   "cell_type": "code",
   "execution_count": 30,
   "id": "2a2b23d1",
   "metadata": {},
   "outputs": [],
   "source": [
    "numeric = X_train.select_dtypes([np.number])\n",
    "numeric_features = numeric.columns"
   ]
  },
  {
   "cell_type": "markdown",
   "id": "77d46fd5",
   "metadata": {},
   "source": [
    "Посмотрим на корреляционную матрицу между регрессорами:"
   ]
  },
  {
   "cell_type": "code",
   "execution_count": 31,
   "id": "72ebfc51",
   "metadata": {},
   "outputs": [
    {
     "data": {
      "text/plain": [
       "<Figure size 1152x720 with 0 Axes>"
      ]
     },
     "execution_count": 31,
     "metadata": {},
     "output_type": "execute_result"
    },
    {
     "data": {
      "image/png": "[encoded data removed]",
      "text/plain": [
       "<Figure size 1152x720 with 2 Axes>"
      ]
     },
     "metadata": {
      "needs_background": "light"
     },
     "output_type": "display_data"
    }
   ],
   "source": [
    "plt.figure(figsize=(16, 10));\n",
    "ax = sns.heatmap(numeric.corr(), annot=True);\n",
    "for t in ax.texts:\n",
    "    if float(t.get_text())>=0.3 or float(t.get_text())<=-0.1:\n",
    "        t.set_text(t.get_text()); #if the value is greater than 0.4 then I set the text \n",
    "    else:\n",
    "        t.set_text(\"\"); # if not it sets an empty text"
   ]
  },
  {
   "cell_type": "markdown",
   "id": "8ccd2b0d",
   "metadata": {},
   "source": [
    "Сильная корреляция наблюдается только \n",
    "* внутри блоков сходных по смыслу индикаторов: \n",
    "  - разных дисперсий балансовых показателей, \n",
    "  - долей разных кредитов в пассивах. \n",
    "* Отдельно стоит выделить высокую корреляцию между `cor` (Сost of Risk) и `retail_loan_spread` (разница между средней ставкой банка по розничным кредитам и средней ставкой по розничным кредитам для всей банковской системы на конкретный месяц.\n",
    "* Еще приличная корреляция есть между нормативом Н4 (норматив долгосрочной ликвидности) и долей кредитов в пассивах.\n",
    "\n",
    "В остальном низкая корреляция между переменными - это либо признак того, что данные собраны криво, либо нам просто повезло. Но это также и хороший знак: не нужно вводить штрафы за высокую корреляцию между регрессорами или отбирать их с помощью VIF.\n",
    "\n",
    "Нарисуем распределения числовых признаков (увы, слишком много признаков и данных, Питон не смог)."
   ]
  },
  {
   "cell_type": "code",
   "execution_count": 32,
   "id": "4f3bf742",
   "metadata": {},
   "outputs": [],
   "source": [
    "#sns.pairplot(numeric, diag_kind='kde');"
   ]
  },
  {
   "cell_type": "markdown",
   "id": "cb0b08e9",
   "metadata": {},
   "source": [
    "### Оценка модели."
   ]
  },
  {
   "cell_type": "markdown",
   "id": "98cce2af",
   "metadata": {},
   "source": [
    "Сначала оценим модель безо всяких категориальных признаков, сделаем прогнозы на обучающей выборке (`train`) и тестовой (никогда не поверите, `test`). Пока что абстрагируемся от дисбаланса классов."
   ]
  },
  {
   "cell_type": "code",
   "execution_count": 51,
   "id": "8a8d1334",
   "metadata": {},
   "outputs": [
    {
     "name": "stderr",
     "output_type": "stream",
     "text": [
      "/home/vladimir/.local/lib/python3.8/site-packages/sklearn/linear_model/_logistic.py:814: ConvergenceWarning: lbfgs failed to converge (status=1):\n",
      "STOP: TOTAL NO. of ITERATIONS REACHED LIMIT.\n",
      "\n",
      "Increase the number of iterations (max_iter) or scale the data as shown in:\n",
      "    https://scikit-learn.org/stable/modules/preprocessing.html\n",
      "Please also refer to the documentation for alternative solver options:\n",
      "    https://scikit-learn.org/stable/modules/linear_model.html#logistic-regression\n",
      "  n_iter_i = _check_optimize_result(\n"
     ]
    },
    {
     "data": {
      "text/plain": [
       "LogisticRegression(random_state=583)"
      ]
     },
     "execution_count": 51,
     "metadata": {},
     "output_type": "execute_result"
    }
   ],
   "source": [
    "from sklearn.linear_model import LogisticRegression\n",
    "from sklearn.preprocessing import StandardScaler\n",
    "\n",
    "scaler = StandardScaler()\n",
    "X_train_scaled = scaler.fit_transform(X_train[numeric_features])\n",
    "X_test_scaled = scaler.transform(X_test[numeric_features])\n",
    "\n",
    "# забыл выкинуть несколько десятков строк с пропусками\n",
    "\n",
    "lr = LogisticRegression(random_state=583)\n",
    "lr.fit(X_train_scaled, y_train)\n",
    "y_pred = lr.predict(X_test_scaled)\n",
    "y_train_pred = lr.predict(X_train_scaled)\n",
    "# получим прогнозы вероятностей для расчета ROC-AUC и так далее\n",
    "y_pred_p = lr.predict_proba(X_test_scaled)\n",
    "y_train_pred_p = lr.predict_proba(X_train_scaled)"
   ]
  },
  {
   "cell_type": "markdown",
   "id": "6de1db51",
   "metadata": {},
   "source": [
    "Теперь нарисуем ROC-AUC, PR-ROC на тестовой и на обучающей выборке. И вообще посмотрим на различные метрики, насколько хороша наша модель."
   ]
  },
  {
   "cell_type": "code",
   "execution_count": 52,
   "id": "7d45d176",
   "metadata": {},
   "outputs": [
    {
     "data": {
      "image/png": "[encoded data removed]",
      "text/plain": [
       "<Figure size 1152x432 with 2 Axes>"
      ]
     },
     "metadata": {
      "needs_background": "light"
     },
     "output_type": "display_data"
    }
   ],
   "source": [
    "from sklearn.metrics import roc_auc_score, precision_recall_curve, roc_curve, auc\n",
    "\n",
    "fpr_train, tpr_train, _ = roc_curve(y_train, y_train_pred_p[:, 1], pos_label=1)\n",
    "roc_auc_train = auc(fpr_train, tpr_train)\n",
    "fpr_test, tpr_test, _ = roc_curve(y_test, y_pred_p[:, 1])\n",
    "roc_auc_test = auc(fpr_train, tpr_train)\n",
    "\n",
    "fig, ax = plt.subplots(nrows=1, ncols=2, figsize=(16, 6))\n",
    "lw = 2\n",
    "\n",
    "ax[0].plot(fpr_train,tpr_train,\n",
    "           color=\"darkorange\",lw=lw,\n",
    "           label=\"ROC curve (area = %0.2f)\" % roc_auc_train)\n",
    "ax[0].plot([0, 1], [0, 1], color=\"navy\", lw=lw, linestyle=\"--\")\n",
    "ax[0].set_xlim([0.0, 1.0])\n",
    "ax[0].set_ylim([0.0, 1.05])\n",
    "ax[0].set_xlabel(\"False Positive Rate\")\n",
    "ax[0].set_ylabel(\"True Positive Rate\")\n",
    "ax[0].set_title(\"ROC-AUC кривая для train\")\n",
    "ax[0].legend(loc=\"lower right\")\n",
    "\n",
    "ax[1].plot(fpr_test,tpr_test,\n",
    "           color=\"darkorange\",lw=lw,\n",
    "           label=\"ROC curve (area = %0.2f)\" % roc_auc_test)\n",
    "ax[1].plot([0, 1], [0, 1], color=\"navy\", lw=lw, linestyle=\"--\")\n",
    "ax[1].set_xlim([0.0, 1.0])\n",
    "ax[1].set_ylim([0.0, 1.05])\n",
    "ax[1].set_xlabel(\"False Positive Rate\")\n",
    "ax[1].set_ylabel(\"True Positive Rate\")\n",
    "ax[1].set_title(\"ROC-AUC кривая для test\")\n",
    "ax[1].legend(loc=\"lower right\")\n",
    "\n",
    "fig.show();"
   ]
  },
  {
   "cell_type": "code",
   "execution_count": 53,
   "id": "66172787",
   "metadata": {},
   "outputs": [
    {
     "name": "stdout",
     "output_type": "stream",
     "text": [
      "Метрики на train:\n",
      "\n",
      "              precision    recall  f1-score   support\n",
      "\n",
      "         0.0       0.99      1.00      0.99     28264\n",
      "         1.0       0.62      0.02      0.03       289\n",
      "\n",
      "    accuracy                           0.99     28553\n",
      "   macro avg       0.81      0.51      0.51     28553\n",
      "weighted avg       0.99      0.99      0.99     28553\n",
      "\n",
      "\n",
      "Метрики на test:\n",
      "\n",
      "              precision    recall  f1-score   support\n",
      "\n",
      "         0.0       0.99      1.00      0.99     12106\n",
      "         1.0       0.67      0.02      0.03       132\n",
      "\n",
      "    accuracy                           0.99     12238\n",
      "   macro avg       0.83      0.51      0.51     12238\n",
      "weighted avg       0.99      0.99      0.98     12238\n",
      "\n"
     ]
    }
   ],
   "source": [
    "from sklearn.metrics import classification_report\n",
    "\n",
    "print('Метрики на train:\\n')\n",
    "print(classification_report(y_train, y_train_pred))\n",
    "print('\\nМетрики на test:\\n')\n",
    "print(classification_report(y_test, y_pred))"
   ]
  },
  {
   "cell_type": "markdown",
   "id": "d739acfb",
   "metadata": {},
   "source": [
    "Посмотрим теперь на значимость признаков. Для этого мы оценим регрессию с помощью библиотеки `statsmodels`:"
   ]
  },
  {
   "cell_type": "code",
   "execution_count": 56,
   "id": "21c03a15",
   "metadata": {},
   "outputs": [
    {
     "data": {
      "text/plain": [
       "(28553, 27)"
      ]
     },
     "execution_count": 56,
     "metadata": {},
     "output_type": "execute_result"
    }
   ],
   "source": [
    "X_train_scaled.shape"
   ]
  },
  {
   "cell_type": "code",
   "execution_count": 57,
   "id": "d414d6f6",
   "metadata": {},
   "outputs": [
    {
     "name": "stdout",
     "output_type": "stream",
     "text": [
      "Optimization terminated successfully.\n",
      "         Current function value: 0.692382\n",
      "         Iterations 5\n",
      "                           Logit Regression Results                           \n",
      "==============================================================================\n",
      "Dep. Variable:                      y   No. Observations:                28553\n",
      "Model:                          Logit   Df Residuals:                    28526\n",
      "Method:                           MLE   Df Model:                           26\n",
      "Date:                Fri, 17 Dec 2021   Pseudo R-squ.:                  -11.24\n",
      "Time:                        17:08:22   Log-Likelihood:                -19770.\n",
      "converged:                       True   LL-Null:                       -1614.9\n",
      "Covariance Type:            nonrobust   LLR p-value:                     1.000\n",
      "======================================================================================\n",
      "                         coef    std err          z      P>|z|      [0.025      0.975]\n",
      "--------------------------------------------------------------------------------------\n",
      "personal_page         -0.0301      0.014     -2.094      0.036      -0.058      -0.002\n",
      "app                   -0.0039      0.015     -0.267      0.789      -0.033       0.025\n",
      "n_1_0                 -0.0312      0.016     -1.917      0.055      -0.063       0.001\n",
      "n3                    -0.0020      0.012     -0.166      0.868      -0.025       0.021\n",
      "n2                    -0.0007      0.012     -0.063      0.950      -0.024       0.023\n",
      "n4                    -0.0534      0.014     -3.945      0.000      -0.080      -0.027\n",
      "n_10_1                -0.0056      0.013     -0.432      0.666      -0.031       0.020\n",
      "roe                   -0.0070      0.012     -0.576      0.565      -0.031       0.017\n",
      "roa                   -0.0115      0.013     -0.856      0.392      -0.038       0.015\n",
      "equity_immobil     -3.125e-05      0.012     -0.003      0.998      -0.023       0.023\n",
      "cor                   -0.0014      0.022     -0.063      0.949      -0.044       0.041\n",
      "mbk_share             -0.0054      0.013     -0.418      0.676      -0.031       0.020\n",
      "owner                 -0.0021      0.012     -0.171      0.864      -0.026       0.022\n",
      "public                 0.0019      0.012      0.154      0.878      -0.023       0.026\n",
      "notmoscow              0.0049      0.013      0.390      0.697      -0.020       0.030\n",
      "corp_loan_spread      -0.0012      0.012     -0.096      0.923      -0.025       0.022\n",
      "retail_loan_spread  2.362e-05      0.022      0.001      0.999      -0.042       0.042\n",
      "corp_depo_spread       0.0017      0.012      0.145      0.885      -0.022       0.025\n",
      "retail_depo_spread     0.0029      0.012      0.240      0.810      -0.021       0.026\n",
      "ldr                    0.0015      0.012      0.122      0.903      -0.022       0.025\n",
      "loan_share            -0.0138      0.270     -0.051      0.959      -0.543       0.516\n",
      "ret_loan_share         0.0257      0.149      0.172      0.863      -0.267       0.318\n",
      "corp_loan_share        0.0575      0.246      0.234      0.815      -0.424       0.539\n",
      "size                   0.0009      0.012      0.073      0.942      -0.023       0.025\n",
      "asset_std             -0.0037      0.014     -0.272      0.786      -0.030       0.023\n",
      "loan_std               0.0375      0.039      0.962      0.336      -0.039       0.114\n",
      "corp_loan_std         -0.0161      0.040     -0.398      0.690      -0.095       0.063\n",
      "======================================================================================\n"
     ]
    }
   ],
   "source": [
    "lr_sm = sm.Logit(y_train.values, pd.DataFrame(data=X_train_scaled, \n",
    "                                              columns=numeric_features))\n",
    "res = lr_sm.fit()\n",
    "print(res.summary())"
   ]
  },
  {
   "cell_type": "markdown",
   "id": "a039ed37",
   "metadata": {},
   "source": [
    "Как показывает нам отчет, на самом деле все не очень хорошо. Модель явно переобучилась под доминирующий класс: \n",
    "* нужен или классификатор помощнее, \n",
    "* или надо применять одну из техник для работы с несбалансированными классами, \n",
    "* или и то и другое.\n",
    "\n",
    "К тому же, стоит добавить категориальные признаки.\n",
    "\n",
    "Поэтому сделаем следующее:\n",
    "1. Пересмотрим понятие дефолта. Банк ведь не мгновенно уходит в дефолт, допустим, мы считаем дефолтным банк, у которого отзывают лицензию в течение полугода. Почему полгода? Потому что квартал - слишком мало данных (ОПУ публикуется только ежеквартально), год - слишком длинный горизонт, да и в выборке у нас всего несколько лет. Новая целевая переменная даст нам 400 дефолтов * 6 месяцев = 2400 наблюдений с дефолтами, что позволит нам создать сбалансированную выборку.\n",
    "2. Применим **undersampling**: разобьем данные с дефолтами на `train` и `test`, например, в пропорции 75% и 25%. Получим 1800 наблюдений с дефолтами в `train` и 600 в `test`. Потом случайным образом выберем 1800 и 600 не-дефолтных наблюдений из оставшейся выборки, добавим к `train`, `test`, создадим `X_train`, `X_test`. Итоговая модель может получиться более сбалансированной с точки зрения классов, а значит, есть шанс, что и точность модели будет повыше.\n",
    "* Данные с не-дефолтами будем брать с 7 месяца 2015, так как занчения некоторых признаков за первые полгода 2015 лучше не использовать (например, дисперсия активов считается скользящим окном за 12 месяцев)."
   ]
  },
  {
   "cell_type": "code",
   "execution_count": 63,
   "id": "c40ca4c1",
   "metadata": {},
   "outputs": [],
   "source": [
    "new_defaults = pd.concat([defaults, defaults.shift(-1, freq='MS'),\n",
    "                          defaults.shift(-2, freq='MS'), defaults.shift(-3, freq='MS'),\n",
    "                          defaults.shift(-4, freq='MS'), defaults.shift(-5, freq='MS')],\n",
    "                         axis=0)\n",
    "new_defaults.sort_index(inplace=True)"
   ]
  },
  {
   "cell_type": "code",
   "execution_count": 71,
   "id": "dfa86656",
   "metadata": {},
   "outputs": [],
   "source": [
    "data = pd.merge(left=data.drop(columns='default'), \n",
    "                right=new_defaults[['default', 'regn']], on=['date', 'regn'], how='left')"
   ]
  },
  {
   "cell_type": "code",
   "execution_count": 72,
   "id": "e8db6792",
   "metadata": {},
   "outputs": [],
   "source": [
    "data.default.fillna(0, inplace=True)"
   ]
  },
  {
   "cell_type": "code",
   "execution_count": 78,
   "id": "29fd0641",
   "metadata": {},
   "outputs": [],
   "source": [
    "# отберем в отдельную табличку данные с дефолтами\n",
    "n_defaults = data[data.default==1].shape[0]\n",
    "closed = data[data.default==1].sample(frac=1, random_state=123)\n",
    "# разобьем на train и test\n",
    "train = closed.iloc[:int(n_defaults*0.75)]\n",
    "test = closed.iloc[(int(n_defaults*0.75)+1):]\n",
    "# теперь наберем не-дефолтные наблюдения из выборки\n",
    "not_closed = data[data.default!=1].sample(n=n_defaults, random_state=123)\n",
    "train = pd.concat([train, not_closed.iloc[:int(n_defaults*0.75)]], axis=0)\n",
    "test = pd.concat([test, not_closed.iloc[(int(n_defaults*0.75)+1):]], axis=0)\n",
    "# перемешаем, так как после склейки табличек дефолты идут в начале\n",
    "train = train.sample(frac=1, random_state=123)\n",
    "test = test.sample(frac=1, random_state=123)\n",
    "X_train = train.drop(columns=['regn', 'default'])\n",
    "X_test = test.drop(columns=['regn', 'default'])\n",
    "y_train = train['default']\n",
    "y_test = test['default']"
   ]
  },
  {
   "cell_type": "markdown",
   "id": "7c8f1ef8",
   "metadata": {},
   "source": [
    "Повторим все наши предыдущие шаги по оцениванию модели и метрик качества."
   ]
  },
  {
   "cell_type": "code",
   "execution_count": 83,
   "id": "8800252f",
   "metadata": {},
   "outputs": [
    {
     "data": {
      "text/plain": [
       "LogisticRegression(random_state=583)"
      ]
     },
     "execution_count": 83,
     "metadata": {},
     "output_type": "execute_result"
    }
   ],
   "source": [
    "scaler = StandardScaler()\n",
    "X_train_scaled = scaler.fit_transform(X_train[numeric_features])\n",
    "X_test_scaled = scaler.transform(X_test[numeric_features])\n",
    "\n",
    "# забыл выкинуть несколько десятков строк с пропусками\n",
    "\n",
    "lr = LogisticRegression(random_state=583)\n",
    "lr.fit(X_train_scaled, y_train)\n",
    "y_pred = lr.predict(X_test_scaled)\n",
    "y_train_pred = lr.predict(X_train_scaled)\n",
    "# получим прогнозы вероятностей для расчета ROC-AUC и так далее\n",
    "y_pred_p = lr.predict_proba(X_test_scaled)\n",
    "y_train_pred_p = lr.predict_proba(X_train_scaled)"
   ]
  },
  {
   "cell_type": "code",
   "execution_count": 86,
   "id": "febeda7f",
   "metadata": {},
   "outputs": [
    {
     "data": {
      "image/png": "[encoded data removed]",
      "text/plain": [
       "<Figure size 1152x432 with 2 Axes>"
      ]
     },
     "metadata": {
      "needs_background": "light"
     },
     "output_type": "display_data"
    }
   ],
   "source": [
    "from sklearn.metrics import roc_auc_score, precision_recall_curve, roc_curve, auc\n",
    "\n",
    "fpr_train, tpr_train, _ = roc_curve(y_train, y_train_pred_p[:, 1], pos_label=1)\n",
    "roc_auc_train = auc(fpr_train, tpr_train)\n",
    "fpr_test, tpr_test, _ = roc_curve(y_test, y_pred_p[:, 1])\n",
    "roc_auc_test = auc(fpr_train, tpr_train)\n",
    "\n",
    "fig, ax = plt.subplots(nrows=1, ncols=2, figsize=(16, 6))\n",
    "lw = 2\n",
    "\n",
    "ax[0].plot(fpr_train,tpr_train,\n",
    "           color=\"darkorange\",lw=lw,\n",
    "           label=\"ROC curve (area = %0.2f)\" % roc_auc_train)\n",
    "ax[0].plot([0, 1], [0, 1], color=\"navy\", lw=lw, linestyle=\"--\")\n",
    "ax[0].set_xlim([0.0, 1.0])\n",
    "ax[0].set_ylim([0.0, 1.05])\n",
    "ax[0].set_xlabel(\"False Positive Rate\")\n",
    "ax[0].set_ylabel(\"True Positive Rate\")\n",
    "ax[0].set_title(\"ROC-AUC кривая для train\\n для сбалансированной выборки\")\n",
    "ax[0].legend(loc=\"lower right\")\n",
    "\n",
    "ax[1].plot(fpr_test,tpr_test,\n",
    "           color=\"darkorange\",lw=lw,\n",
    "           label=\"ROC curve (area = %0.2f)\" % roc_auc_test)\n",
    "ax[1].plot([0, 1], [0, 1], color=\"navy\", lw=lw, linestyle=\"--\")\n",
    "ax[1].set_xlim([0.0, 1.0])\n",
    "ax[1].set_ylim([0.0, 1.05])\n",
    "ax[1].set_xlabel(\"False Positive Rate\")\n",
    "ax[1].set_ylabel(\"True Positive Rate\")\n",
    "ax[1].set_title(\"ROC-AUC кривая для test\\n для сбалансированной выборки\")\n",
    "ax[1].legend(loc=\"lower right\")\n",
    "\n",
    "fig.show();"
   ]
  },
  {
   "cell_type": "code",
   "execution_count": 85,
   "id": "3e7c16a5",
   "metadata": {},
   "outputs": [
    {
     "name": "stdout",
     "output_type": "stream",
     "text": [
      "Метрики на train:\n",
      "\n",
      "              precision    recall  f1-score   support\n",
      "\n",
      "         0.0       0.82      0.66      0.73      2014\n",
      "         1.0       0.72      0.86      0.78      2014\n",
      "\n",
      "    accuracy                           0.76      4028\n",
      "   macro avg       0.77      0.76      0.76      4028\n",
      "weighted avg       0.77      0.76      0.76      4028\n",
      "\n",
      "\n",
      "Метрики на test:\n",
      "\n",
      "              precision    recall  f1-score   support\n",
      "\n",
      "         0.0       0.79      0.64      0.71       671\n",
      "         1.0       0.70      0.83      0.76       671\n",
      "\n",
      "    accuracy                           0.74      1342\n",
      "   macro avg       0.75      0.74      0.73      1342\n",
      "weighted avg       0.75      0.74      0.73      1342\n",
      "\n"
     ]
    }
   ],
   "source": [
    "from sklearn.metrics import classification_report\n",
    "\n",
    "print('Метрики на train:\\n')\n",
    "print(classification_report(y_train, y_train_pred))\n",
    "print('\\nМетрики на test:\\n')\n",
    "print(classification_report(y_test, y_pred))"
   ]
  },
  {
   "cell_type": "markdown",
   "id": "0b021261",
   "metadata": {},
   "source": [
    "Вот это другое дело. Теперь можно посмотреть и на значимость коэффициентов:"
   ]
  },
  {
   "cell_type": "code",
   "execution_count": 87,
   "id": "05be98b0",
   "metadata": {},
   "outputs": [
    {
     "name": "stdout",
     "output_type": "stream",
     "text": [
      "Optimization terminated successfully.\n",
      "         Current function value: 0.486395\n",
      "         Iterations 12\n",
      "                           Logit Regression Results                           \n",
      "==============================================================================\n",
      "Dep. Variable:                      y   No. Observations:                 4028\n",
      "Model:                          Logit   Df Residuals:                     4001\n",
      "Method:                           MLE   Df Model:                           26\n",
      "Date:                Fri, 17 Dec 2021   Pseudo R-squ.:                  0.2983\n",
      "Time:                        18:10:47   Log-Likelihood:                -1959.2\n",
      "converged:                       True   LL-Null:                       -2792.0\n",
      "Covariance Type:            nonrobust   LLR p-value:                     0.000\n",
      "======================================================================================\n",
      "                         coef    std err          z      P>|z|      [0.025      0.975]\n",
      "--------------------------------------------------------------------------------------\n",
      "personal_page         -1.2902      0.060    -21.394      0.000      -1.408      -1.172\n",
      "app                   -0.0852      0.054     -1.579      0.114      -0.191       0.021\n",
      "n_1_0                 -0.7221      0.076     -9.532      0.000      -0.871      -0.574\n",
      "n3                     7.1636      1.718      4.170      0.000       3.797      10.530\n",
      "n2                    -0.0151      0.054     -0.281      0.779      -0.120       0.090\n",
      "n4                    -0.2294      0.048     -4.783      0.000      -0.323      -0.135\n",
      "n_10_1                 0.2710      0.165      1.644      0.100      -0.052       0.594\n",
      "roe                    0.0216      0.067      0.321      0.748      -0.110       0.154\n",
      "roa                   -0.3727      0.071     -5.258      0.000      -0.512      -0.234\n",
      "equity_immobil        -0.6873      0.427     -1.611      0.107      -1.524       0.149\n",
      "cor                   -0.0414      0.055     -0.749      0.454      -0.150       0.067\n",
      "mbk_share             -0.4041      0.045     -8.926      0.000      -0.493      -0.315\n",
      "owner                 -0.1733      0.047     -3.652      0.000      -0.266      -0.080\n",
      "public                 0.1392      0.042      3.284      0.001       0.056       0.222\n",
      "notmoscow              0.1264      0.042      3.022      0.003       0.044       0.208\n",
      "corp_loan_spread      -0.0394      0.063     -0.621      0.535      -0.164       0.085\n",
      "retail_loan_spread    -0.0974      0.034     -2.834      0.005      -0.165      -0.030\n",
      "corp_depo_spread       0.7165      0.282      2.539      0.011       0.163       1.270\n",
      "retail_depo_spread     1.1088      1.077      1.030      0.303      -1.002       3.219\n",
      "ldr                    0.0497      0.046      1.071      0.284      -0.041       0.141\n",
      "loan_share           -11.7389      3.700     -3.173      0.002     -18.990      -4.488\n",
      "ret_loan_share         3.5221      1.178      2.989      0.003       1.213       5.832\n",
      "corp_loan_share       12.0615      3.634      3.319      0.001       4.940      19.183\n",
      "size                   0.0425      0.061      0.691      0.490      -0.078       0.163\n",
      "asset_std              0.0559      0.063      0.888      0.374      -0.067       0.179\n",
      "loan_std               0.8695      0.208      4.176      0.000       0.461       1.278\n",
      "corp_loan_std         -0.8564      0.209     -4.103      0.000      -1.265      -0.447\n",
      "======================================================================================\n"
     ]
    }
   ],
   "source": [
    "lr_sm = sm.Logit(y_train.values, pd.DataFrame(data=X_train_scaled, \n",
    "                                              columns=numeric_features))\n",
    "res = lr_sm.fit()\n",
    "print(res.summary())"
   ]
  },
  {
   "cell_type": "code",
   "execution_count": 113,
   "id": "345ea226",
   "metadata": {},
   "outputs": [],
   "source": [
    "def coefplot(results):\n",
    "    '''\n",
    "    Takes in results of OLS model and returns a plot of \n",
    "    the coefficients with 95% confidence intervals.\n",
    "    Removes intercept, so if uncentered will return error.\n",
    "    '''\n",
    "    # Create dataframe of results summary \n",
    "    coef_df = pd.DataFrame(res.summary().tables[1].data)\n",
    "    # Add column names\n",
    "    coef_df.columns = coef_df.iloc[0]\n",
    "    # Drop the extra row with column labels\n",
    "    coef_df=coef_df.drop(0)\n",
    "    # Set index to variable names \n",
    "    coef_df = coef_df.set_index(coef_df.columns[0])\n",
    "    coef_df = coef_df.astype(float)\n",
    "    # Get errors; (coef - lower bound of conf interval)\n",
    "    errors = coef_df['coef'] - coef_df['[0.025']\n",
    "    # Append errors column to dataframe\n",
    "    coef_df['errors'] = errors\n",
    "    # Drop the constant for plotting\n",
    "    # coef_df = coef_df.drop(['const'])\n",
    "    # Sort values by coef ascending\n",
    "    coef_df = coef_df.sort_values(by=['coef'])\n",
    "    # x-labels\n",
    "    variables = list(coef_df.index.values)\n",
    "    # Add variables column to dataframe\n",
    "    coef_df['variables'] = variables\n",
    "    # Set sns plot style back to 'poster'\n",
    "    # This will make bars wide on plot\n",
    "    sns.set_context(\"poster\")\n",
    "    # Define figure, axes, and plot\n",
    "    fig, ax = plt.subplots(figsize=(15, 5))\n",
    "    # Error bars for 95% confidence interval\n",
    "    # Can increase capsize to add whiskers\n",
    "    coef_df.plot(x='variables', y='coef', kind='bar',\n",
    "                 ax=ax, color='none', fontsize=12, \n",
    "                 ecolor='steelblue',capsize=0,\n",
    "                 yerr='errors', legend=False)\n",
    "    # Set title & labels\n",
    "    plt.title('Coefficients of Features w/ 95% Confidence Intervals',fontsize=14)\n",
    "    ax.set_ylabel('Coefficients',fontsize=12)\n",
    "    ax.set_xlabel('',fontsize=12)\n",
    "    # Coefficients\n",
    "    ax.scatter(x=pd.np.arange(coef_df.shape[0]), \n",
    "               marker='o', s=20, \n",
    "               y=coef_df['coef'], color='steelblue')\n",
    "    # Line to define zero on the y-axis\n",
    "    ax.grid(True, color='#E8E8E8')\n",
    "    ax.axhline(y=0, linestyle='--', color='red', linewidth=1)\n",
    "    \n",
    "    return plt.show()"
   ]
  },
  {
   "cell_type": "markdown",
   "id": "b257bc15",
   "metadata": {},
   "source": [
    "Посмотрим на то, насколько разные регрессоры влияют на вероятность дефолта: поскольку переменные отмасштабированы, коэффициенты можно сравнивать между собой."
   ]
  },
  {
   "cell_type": "code",
   "execution_count": 114,
   "id": "6ad396b1",
   "metadata": {},
   "outputs": [
    {
     "name": "stderr",
     "output_type": "stream",
     "text": [
      "/tmp/ipykernel_38/3988240061.py:44: FutureWarning: The pandas.np module is deprecated and will be removed from pandas in a future version. Import numpy directly instead\n",
      "  ax.scatter(x=pd.np.arange(coef_df.shape[0]),\n"
     ]
    },
    {
     "data": {
      "image/png": "[encoded data removed]",
      "text/plain": [
       "<Figure size 1080x360 with 1 Axes>"
      ]
     },
     "metadata": {
      "needs_background": "light"
     },
     "output_type": "display_data"
    }
   ],
   "source": [
    "coefplot(res)"
   ]
  },
  {
   "cell_type": "code",
   "execution_count": null,
   "id": "006cd5be",
   "metadata": {},
   "outputs": [],
   "source": []
  },
  {
   "cell_type": "code",
   "execution_count": null,
   "id": "341fed74",
   "metadata": {},
   "outputs": [],
   "source": []
  },
  {
   "cell_type": "code",
   "execution_count": null,
   "id": "9ff50b19",
   "metadata": {},
   "outputs": [],
   "source": []
  },
  {
   "cell_type": "code",
   "execution_count": null,
   "id": "1bf55249",
   "metadata": {},
   "outputs": [],
   "source": []
  },
  {
   "cell_type": "markdown",
   "id": "e8db128b",
   "metadata": {},
   "source": [
    "#### 2.2 Категориальные признаки.\n",
    "\n",
    "Посмотрим, что из себя представляют два строковых признака, которые у нас есть:"
   ]
  },
  {
   "cell_type": "code",
   "execution_count": 36,
   "id": "7cedf9ec",
   "metadata": {},
   "outputs": [
    {
     "data": {
      "image/png": "[encoded data removed]",
      "text/plain": [
       "<Figure size 1296x360 with 2 Axes>"
      ]
     },
     "metadata": {
      "needs_background": "light"
     },
     "output_type": "display_data"
    }
   ],
   "source": [
    "fig, ax = plt.subplots(nrows=1, ncols=2, figsize=(18, 5))\n",
    "fig.subplots_adjust(top=0.8)\n",
    "\n",
    "ax[0].bar(X_train.moodys.value_counts().index, \n",
    "          (X_train.moodys.value_counts()/len(data)*100).values, color='darkorange')\n",
    "ax[0].set_title(\"Рейтинг  Moody's\")\n",
    "ax[0].set_xlabel('Категория рейтинга')\n",
    "ax[0].set_ylabel('Доля наблюдений, %')\n",
    "ax[0].grid(True)\n",
    "\n",
    "ax[1].bar(X_train.expertra.value_counts().index, \n",
    "          (X_train.expertra.value_counts()/len(data)*100).values, color='green')\n",
    "ax[1].set_title(\"Рейтинг  Эксперт РА\")\n",
    "ax[1].set_xlabel('Категория рейтинга')\n",
    "ax[1].set_ylabel('Доля наблюдений, %')\n",
    "ax[1].grid(True)\n",
    "\n",
    "fig.suptitle('Распределение наблюдений по рейтингам\\n различных рейтинговых агентств', \n",
    "             y=0.98, fontsize=14)\n",
    "fig.show();"
   ]
  },
  {
   "cell_type": "markdown",
   "id": "a22705c6",
   "metadata": {},
   "source": [
    "Посмотрим на распределения всех числовых признаков:"
   ]
  }
 ],
 "metadata": {
  "kernelspec": {
   "display_name": "Python 3 (ipykernel)",
   "language": "python",
   "name": "python3"
  },
  "language_info": {
   "codemirror_mode": {
    "name": "ipython",
    "version": 3
   },
   "file_extension": ".py",
   "mimetype": "text/x-python",
   "name": "python",
   "nbconvert_exporter": "python",
   "pygments_lexer": "ipython3",
   "version": "3.8.10"
  }
 },
 "nbformat": 4,
 "nbformat_minor": 5
}
