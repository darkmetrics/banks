{
 "cells": [
  {
   "cell_type": "markdown",
   "id": "3a14ad06",
   "metadata": {},
   "source": [
    "[![Open In Colab](https://colab.research.google.com/assets/colab-badge.svg)](https://colab.research.google.com/github/darkmetrics/banks/blob/main/code/demonstration.ipynb)"
   ]
  },
  {
   "cell_type": "markdown",
   "id": "c69a9426",
   "metadata": {},
   "source": [
    "## Прогнозирование вероятности дефолта для российских банков.\n",
    "\n",
    "**Авторы**:\n",
    "* **Волкова Анастасия**\n",
    "* **Дубленский Иван**\n",
    "* **Лозовой Владимир**\n",
    "* **Тельман Куан**"
   ]
  },
  {
   "cell_type": "code",
   "execution_count": 1,
   "id": "e5934b17",
   "metadata": {},
   "outputs": [],
   "source": [
    "import numpy as np\n",
    "import pandas as pd"
   ]
  },
  {
   "cell_type": "markdown",
   "id": "7f47b406",
   "metadata": {},
   "source": [
    "Слава богу, `pandas` умеет читать данные с интернет-страниц. Важно, что на Гитхабе на страничке файла с данными надо нажать кнопку `raw`, и тогда `url`-ссылка на файл с данными изменится, в тексте ссылки появится слово `raw`. Именно такую ссылку и надо использовать для чтения данных."
   ]
  },
  {
   "cell_type": "code",
   "execution_count": 6,
   "id": "deb9cca3",
   "metadata": {},
   "outputs": [
    {
     "data": {
      "text/html": [
       "<div>\n",
       "<style scoped>\n",
       "    .dataframe tbody tr th:only-of-type {\n",
       "        vertical-align: middle;\n",
       "    }\n",
       "\n",
       "    .dataframe tbody tr th {\n",
       "        vertical-align: top;\n",
       "    }\n",
       "\n",
       "    .dataframe thead th {\n",
       "        text-align: right;\n",
       "    }\n",
       "</style>\n",
       "<table border=\"1\" class=\"dataframe\">\n",
       "  <thead>\n",
       "    <tr style=\"text-align: right;\">\n",
       "      <th></th>\n",
       "      <th>Unnamed: 0</th>\n",
       "      <th>a</th>\n",
       "      <th>b</th>\n",
       "      <th>c</th>\n",
       "      <th>d</th>\n",
       "      <th>e</th>\n",
       "      <th>f</th>\n",
       "    </tr>\n",
       "  </thead>\n",
       "  <tbody>\n",
       "    <tr>\n",
       "      <th>0</th>\n",
       "      <td>0</td>\n",
       "      <td>0.170005</td>\n",
       "      <td>-0.282006</td>\n",
       "      <td>0.190983</td>\n",
       "      <td>-0.780052</td>\n",
       "      <td>0.224055</td>\n",
       "      <td>-0.828520</td>\n",
       "    </tr>\n",
       "    <tr>\n",
       "      <th>1</th>\n",
       "      <td>1</td>\n",
       "      <td>1.224042</td>\n",
       "      <td>1.236147</td>\n",
       "      <td>1.020564</td>\n",
       "      <td>0.630617</td>\n",
       "      <td>-0.189325</td>\n",
       "      <td>0.424144</td>\n",
       "    </tr>\n",
       "    <tr>\n",
       "      <th>2</th>\n",
       "      <td>2</td>\n",
       "      <td>2.880965</td>\n",
       "      <td>-0.221410</td>\n",
       "      <td>0.254339</td>\n",
       "      <td>-1.111479</td>\n",
       "      <td>-0.715635</td>\n",
       "      <td>-0.266713</td>\n",
       "    </tr>\n",
       "    <tr>\n",
       "      <th>3</th>\n",
       "      <td>3</td>\n",
       "      <td>1.518513</td>\n",
       "      <td>-0.778474</td>\n",
       "      <td>-0.472262</td>\n",
       "      <td>0.059446</td>\n",
       "      <td>-0.968341</td>\n",
       "      <td>-2.188352</td>\n",
       "    </tr>\n",
       "    <tr>\n",
       "      <th>4</th>\n",
       "      <td>4</td>\n",
       "      <td>1.575064</td>\n",
       "      <td>0.635546</td>\n",
       "      <td>-0.076690</td>\n",
       "      <td>-0.585092</td>\n",
       "      <td>-0.694676</td>\n",
       "      <td>1.512727</td>\n",
       "    </tr>\n",
       "  </tbody>\n",
       "</table>\n",
       "</div>"
      ],
      "text/plain": [
       "   Unnamed: 0         a         b         c         d         e         f\n",
       "0           0  0.170005 -0.282006  0.190983 -0.780052  0.224055 -0.828520\n",
       "1           1  1.224042  1.236147  1.020564  0.630617 -0.189325  0.424144\n",
       "2           2  2.880965 -0.221410  0.254339 -1.111479 -0.715635 -0.266713\n",
       "3           3  1.518513 -0.778474 -0.472262  0.059446 -0.968341 -2.188352\n",
       "4           4  1.575064  0.635546 -0.076690 -0.585092 -0.694676  1.512727"
      ]
     },
     "execution_count": 6,
     "metadata": {},
     "output_type": "execute_result"
    }
   ],
   "source": [
    "data = pd.read_csv('https://raw.githubusercontent.com/darkmetrics/banks/main/data/data.csv')\n",
    "data.head(5)"
   ]
  },
  {
   "cell_type": "code",
   "execution_count": null,
   "id": "e7d4c930",
   "metadata": {},
   "outputs": [],
   "source": []
  }
 ],
 "metadata": {
  "kernelspec": {
   "display_name": "Python 3 (ipykernel)",
   "language": "python",
   "name": "python3"
  },
  "language_info": {
   "codemirror_mode": {
    "name": "ipython",
    "version": 3
   },
   "file_extension": ".py",
   "mimetype": "text/x-python",
   "name": "python",
   "nbconvert_exporter": "python",
   "pygments_lexer": "ipython3",
   "version": "3.8.8"
  }
 },
 "nbformat": 4,
 "nbformat_minor": 5
}
