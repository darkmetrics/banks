{
 "cells": [
  {
   "cell_type": "markdown",
   "id": "ff789d1d",
   "metadata": {},
   "source": [
    "[![Open In Colab](https://colab.research.google.com/assets/colab-badge.svg)](https://colab.research.google.com/github/darkmetrics/banks/blob/main/code/demonstration.ipynb)"
   ]
  },
  {
   "cell_type": "markdown",
   "id": "4f5c084c",
   "metadata": {},
   "source": [
    "## Прогнозирование вероятности дефолта для российских банков.\n",
    "\n",
    "**Авторы**:\n",
    "* **Волкова Анастасия**\n",
    "* **Дубленский Иван**\n",
    "* **Лозовой Владимир**\n",
    "* **Тельман Куан**"
   ]
  },
  {
   "cell_type": "markdown",
   "id": "2c34a0fa",
   "metadata": {},
   "source": [
    "### 1. Загрузка данных и первое знакомство с ними."
   ]
  },
  {
   "cell_type": "code",
   "execution_count": 75,
   "id": "e6443f1d",
   "metadata": {},
   "outputs": [],
   "source": [
    "import numpy as np\n",
    "import pandas as pd\n",
    "import matplotlib.pyplot as plt \n",
    "import seaborn as sns\n",
    "\n",
    "# включение множественного вывода для Google Colab\n",
    "from IPython.core.interactiveshell import InteractiveShell\n",
    "InteractiveShell.ast_node_interactivity = \"all\""
   ]
  },
  {
   "cell_type": "markdown",
   "id": "d0e823bd",
   "metadata": {},
   "source": [
    "Слава богу, `pandas` умеет читать данные с интернет-страниц. Важно, что на Гитхабе на страничке файла с данными надо нажать кнопку `raw`, и тогда `url`-ссылка на файл с данными изменится, в тексте ссылки появится слово `raw`. Именно такую ссылку и надо использовать для чтения данных."
   ]
  },
  {
   "cell_type": "code",
   "execution_count": 76,
   "id": "a6686a85",
   "metadata": {},
   "outputs": [
    {
     "name": "stdout",
     "output_type": "stream",
     "text": [
      "Head of table with bank metrics:\n",
      "\n"
     ]
    },
    {
     "data": {
      "text/html": [
       "<div>\n",
       "<style scoped>\n",
       "    .dataframe tbody tr th:only-of-type {\n",
       "        vertical-align: middle;\n",
       "    }\n",
       "\n",
       "    .dataframe tbody tr th {\n",
       "        vertical-align: top;\n",
       "    }\n",
       "\n",
       "    .dataframe thead th {\n",
       "        text-align: right;\n",
       "    }\n",
       "</style>\n",
       "<table border=\"1\" class=\"dataframe\">\n",
       "  <thead>\n",
       "    <tr style=\"text-align: right;\">\n",
       "      <th></th>\n",
       "      <th>REGN</th>\n",
       "      <th>Year</th>\n",
       "      <th>Month</th>\n",
       "      <th>NetIncome</th>\n",
       "      <th>NetSecurityIncome</th>\n",
       "      <th>NetDerivativeIncome</th>\n",
       "      <th>NetFeeIncome</th>\n",
       "      <th>NetInvestmentIncome</th>\n",
       "      <th>NetInterestIncome</th>\n",
       "      <th>Assets</th>\n",
       "      <th>...</th>\n",
       "      <th>InterbankShareInLiabs</th>\n",
       "      <th>CreditsRetail_Me</th>\n",
       "      <th>ownership_state</th>\n",
       "      <th>form_public</th>\n",
       "      <th>region_notmoscow</th>\n",
       "      <th>Moodys</th>\n",
       "      <th>ExpertRA</th>\n",
       "      <th>DefaultIn365Days</th>\n",
       "      <th>DefaultIn730Days</th>\n",
       "      <th>DefaultIn10000Days</th>\n",
       "    </tr>\n",
       "    <tr>\n",
       "      <th>date</th>\n",
       "      <th></th>\n",
       "      <th></th>\n",
       "      <th></th>\n",
       "      <th></th>\n",
       "      <th></th>\n",
       "      <th></th>\n",
       "      <th></th>\n",
       "      <th></th>\n",
       "      <th></th>\n",
       "      <th></th>\n",
       "      <th></th>\n",
       "      <th></th>\n",
       "      <th></th>\n",
       "      <th></th>\n",
       "      <th></th>\n",
       "      <th></th>\n",
       "      <th></th>\n",
       "      <th></th>\n",
       "      <th></th>\n",
       "      <th></th>\n",
       "      <th></th>\n",
       "    </tr>\n",
       "  </thead>\n",
       "  <tbody>\n",
       "    <tr>\n",
       "      <th>2015-01-01</th>\n",
       "      <td>1</td>\n",
       "      <td>2015</td>\n",
       "      <td>1</td>\n",
       "      <td>0.007337</td>\n",
       "      <td>-0.080195</td>\n",
       "      <td>1.821275</td>\n",
       "      <td>1.003520</td>\n",
       "      <td>1.127056e-07</td>\n",
       "      <td>3.267442</td>\n",
       "      <td>1.209364e+09</td>\n",
       "      <td>...</td>\n",
       "      <td>0.105845</td>\n",
       "      <td>147875391.0</td>\n",
       "      <td>0</td>\n",
       "      <td>0</td>\n",
       "      <td>0</td>\n",
       "      <td>no</td>\n",
       "      <td>no</td>\n",
       "      <td>0</td>\n",
       "      <td>0</td>\n",
       "      <td>0</td>\n",
       "    </tr>\n",
       "    <tr>\n",
       "      <th>2015-02-01</th>\n",
       "      <td>1</td>\n",
       "      <td>2015</td>\n",
       "      <td>2</td>\n",
       "      <td>0.006679</td>\n",
       "      <td>-0.080195</td>\n",
       "      <td>1.821275</td>\n",
       "      <td>1.003520</td>\n",
       "      <td>1.127056e-07</td>\n",
       "      <td>3.267442</td>\n",
       "      <td>1.328361e+09</td>\n",
       "      <td>...</td>\n",
       "      <td>0.112639</td>\n",
       "      <td>145009568.0</td>\n",
       "      <td>0</td>\n",
       "      <td>0</td>\n",
       "      <td>0</td>\n",
       "      <td>no</td>\n",
       "      <td>no</td>\n",
       "      <td>0</td>\n",
       "      <td>0</td>\n",
       "      <td>0</td>\n",
       "    </tr>\n",
       "    <tr>\n",
       "      <th>2015-03-01</th>\n",
       "      <td>1</td>\n",
       "      <td>2015</td>\n",
       "      <td>3</td>\n",
       "      <td>0.007374</td>\n",
       "      <td>-0.080195</td>\n",
       "      <td>1.821275</td>\n",
       "      <td>1.003520</td>\n",
       "      <td>1.127056e-07</td>\n",
       "      <td>3.267442</td>\n",
       "      <td>1.203223e+09</td>\n",
       "      <td>...</td>\n",
       "      <td>0.119042</td>\n",
       "      <td>139987699.0</td>\n",
       "      <td>0</td>\n",
       "      <td>0</td>\n",
       "      <td>0</td>\n",
       "      <td>no</td>\n",
       "      <td>no</td>\n",
       "      <td>0</td>\n",
       "      <td>0</td>\n",
       "      <td>0</td>\n",
       "    </tr>\n",
       "    <tr>\n",
       "      <th>2015-04-01</th>\n",
       "      <td>1</td>\n",
       "      <td>2015</td>\n",
       "      <td>4</td>\n",
       "      <td>0.002215</td>\n",
       "      <td>-0.075207</td>\n",
       "      <td>1.304973</td>\n",
       "      <td>0.607162</td>\n",
       "      <td>-0.000000e+00</td>\n",
       "      <td>1.858185</td>\n",
       "      <td>1.167734e+09</td>\n",
       "      <td>...</td>\n",
       "      <td>0.096728</td>\n",
       "      <td>135048179.0</td>\n",
       "      <td>0</td>\n",
       "      <td>0</td>\n",
       "      <td>0</td>\n",
       "      <td>no</td>\n",
       "      <td>no</td>\n",
       "      <td>0</td>\n",
       "      <td>0</td>\n",
       "      <td>0</td>\n",
       "    </tr>\n",
       "    <tr>\n",
       "      <th>2015-05-01</th>\n",
       "      <td>1</td>\n",
       "      <td>2015</td>\n",
       "      <td>5</td>\n",
       "      <td>0.002413</td>\n",
       "      <td>-0.075207</td>\n",
       "      <td>1.304973</td>\n",
       "      <td>0.607162</td>\n",
       "      <td>-0.000000e+00</td>\n",
       "      <td>1.858185</td>\n",
       "      <td>1.072174e+09</td>\n",
       "      <td>...</td>\n",
       "      <td>0.122466</td>\n",
       "      <td>130841858.0</td>\n",
       "      <td>0</td>\n",
       "      <td>0</td>\n",
       "      <td>0</td>\n",
       "      <td>no</td>\n",
       "      <td>no</td>\n",
       "      <td>0</td>\n",
       "      <td>0</td>\n",
       "      <td>0</td>\n",
       "    </tr>\n",
       "  </tbody>\n",
       "</table>\n",
       "<p>5 rows × 108 columns</p>\n",
       "</div>"
      ],
      "text/plain": [
       "            REGN  Year  Month  NetIncome  NetSecurityIncome  \\\n",
       "date                                                          \n",
       "2015-01-01     1  2015      1   0.007337          -0.080195   \n",
       "2015-02-01     1  2015      2   0.006679          -0.080195   \n",
       "2015-03-01     1  2015      3   0.007374          -0.080195   \n",
       "2015-04-01     1  2015      4   0.002215          -0.075207   \n",
       "2015-05-01     1  2015      5   0.002413          -0.075207   \n",
       "\n",
       "            NetDerivativeIncome  NetFeeIncome  NetInvestmentIncome  \\\n",
       "date                                                                 \n",
       "2015-01-01             1.821275      1.003520         1.127056e-07   \n",
       "2015-02-01             1.821275      1.003520         1.127056e-07   \n",
       "2015-03-01             1.821275      1.003520         1.127056e-07   \n",
       "2015-04-01             1.304973      0.607162        -0.000000e+00   \n",
       "2015-05-01             1.304973      0.607162        -0.000000e+00   \n",
       "\n",
       "            NetInterestIncome        Assets  ...  InterbankShareInLiabs  \\\n",
       "date                                         ...                          \n",
       "2015-01-01           3.267442  1.209364e+09  ...               0.105845   \n",
       "2015-02-01           3.267442  1.328361e+09  ...               0.112639   \n",
       "2015-03-01           3.267442  1.203223e+09  ...               0.119042   \n",
       "2015-04-01           1.858185  1.167734e+09  ...               0.096728   \n",
       "2015-05-01           1.858185  1.072174e+09  ...               0.122466   \n",
       "\n",
       "            CreditsRetail_Me  ownership_state  form_public  region_notmoscow  \\\n",
       "date                                                                           \n",
       "2015-01-01       147875391.0                0            0                 0   \n",
       "2015-02-01       145009568.0                0            0                 0   \n",
       "2015-03-01       139987699.0                0            0                 0   \n",
       "2015-04-01       135048179.0                0            0                 0   \n",
       "2015-05-01       130841858.0                0            0                 0   \n",
       "\n",
       "            Moodys  ExpertRA  DefaultIn365Days  DefaultIn730Days  \\\n",
       "date                                                               \n",
       "2015-01-01      no        no                 0                 0   \n",
       "2015-02-01      no        no                 0                 0   \n",
       "2015-03-01      no        no                 0                 0   \n",
       "2015-04-01      no        no                 0                 0   \n",
       "2015-05-01      no        no                 0                 0   \n",
       "\n",
       "            DefaultIn10000Days  \n",
       "date                            \n",
       "2015-01-01                   0  \n",
       "2015-02-01                   0  \n",
       "2015-03-01                   0  \n",
       "2015-04-01                   0  \n",
       "2015-05-01                   0  \n",
       "\n",
       "[5 rows x 108 columns]"
      ]
     },
     "execution_count": 76,
     "metadata": {},
     "output_type": "execute_result"
    },
    {
     "name": "stdout",
     "output_type": "stream",
     "text": [
      "\n",
      "Head of table with bank defaults:\n",
      "\n"
     ]
    },
    {
     "data": {
      "text/html": [
       "<div>\n",
       "<style scoped>\n",
       "    .dataframe tbody tr th:only-of-type {\n",
       "        vertical-align: middle;\n",
       "    }\n",
       "\n",
       "    .dataframe tbody tr th {\n",
       "        vertical-align: top;\n",
       "    }\n",
       "\n",
       "    .dataframe thead th {\n",
       "        text-align: right;\n",
       "    }\n",
       "</style>\n",
       "<table border=\"1\" class=\"dataframe\">\n",
       "  <thead>\n",
       "    <tr style=\"text-align: right;\">\n",
       "      <th></th>\n",
       "      <th>name</th>\n",
       "      <th>REGN</th>\n",
       "      <th>type</th>\n",
       "      <th>region</th>\n",
       "    </tr>\n",
       "    <tr>\n",
       "      <th>date</th>\n",
       "      <th></th>\n",
       "      <th></th>\n",
       "      <th></th>\n",
       "      <th></th>\n",
       "    </tr>\n",
       "  </thead>\n",
       "  <tbody>\n",
       "    <tr>\n",
       "      <th>2021-09-17</th>\n",
       "      <td>Платина</td>\n",
       "      <td>2347</td>\n",
       "      <td>отозв.</td>\n",
       "      <td>Москва</td>\n",
       "    </tr>\n",
       "    <tr>\n",
       "      <th>2021-08-06</th>\n",
       "      <td>КС Банк</td>\n",
       "      <td>1752</td>\n",
       "      <td>отозв.</td>\n",
       "      <td>Саранск (Республика Мордовия)</td>\n",
       "    </tr>\n",
       "    <tr>\n",
       "      <th>2021-07-23</th>\n",
       "      <td>Руна-Банк</td>\n",
       "      <td>3207</td>\n",
       "      <td>отозв.</td>\n",
       "      <td>Москва</td>\n",
       "    </tr>\n",
       "    <tr>\n",
       "      <th>2021-07-23</th>\n",
       "      <td>Русское Финансовое Общество</td>\n",
       "      <td>3427</td>\n",
       "      <td>отозв.</td>\n",
       "      <td>Москва</td>\n",
       "    </tr>\n",
       "    <tr>\n",
       "      <th>2021-06-25</th>\n",
       "      <td>Актив Банк</td>\n",
       "      <td>2529</td>\n",
       "      <td>отозв.</td>\n",
       "      <td>Саранск (Республика Мордовия)</td>\n",
       "    </tr>\n",
       "  </tbody>\n",
       "</table>\n",
       "</div>"
      ],
      "text/plain": [
       "                                   name  REGN    type  \\\n",
       "date                                                    \n",
       "2021-09-17                      Платина  2347  отозв.   \n",
       "2021-08-06                      КС Банк  1752  отозв.   \n",
       "2021-07-23                    Руна-Банк  3207  отозв.   \n",
       "2021-07-23  Русское Финансовое Общество  3427  отозв.   \n",
       "2021-06-25                   Актив Банк  2529  отозв.   \n",
       "\n",
       "                                   region  \n",
       "date                                       \n",
       "2021-09-17                         Москва  \n",
       "2021-08-06  Саранск (Республика Мордовия)  \n",
       "2021-07-23                         Москва  \n",
       "2021-07-23                         Москва  \n",
       "2021-06-25  Саранск (Республика Мордовия)  "
      ]
     },
     "execution_count": 76,
     "metadata": {},
     "output_type": "execute_result"
    }
   ],
   "source": [
    "url = \"https://raw.githubusercontent.com/darkmetrics/banks/main/data/metrics.csv\"\n",
    "url2 = \"https://raw.githubusercontent.com/darkmetrics/banks/main/data/defaults.csv\"\n",
    "data = pd.read_csv(url, parse_dates=True, index_col='date')\n",
    "defaults = pd.read_csv(url2, parse_dates=True, index_col='date')\n",
    "\n",
    "print('Head of table with bank metrics:\\n')\n",
    "data.head(5)\n",
    "print('\\nHead of table with bank defaults:\\n')\n",
    "defaults.head(5)"
   ]
  },
  {
   "cell_type": "markdown",
   "id": "3e8adbce",
   "metadata": {},
   "source": [
    "Сначала выберем нужные столбцы из метрик."
   ]
  },
  {
   "cell_type": "code",
   "execution_count": 77,
   "id": "1337f06c",
   "metadata": {},
   "outputs": [
    {
     "data": {
      "text/plain": [
       "35"
      ]
     },
     "execution_count": 77,
     "metadata": {},
     "output_type": "execute_result"
    }
   ],
   "source": [
    "cols = ['REGN','Assets','personal_page','app','CapitalAdequacy_norm','LiquidityMonth_norm',\n",
    "        'LiquidityDay_norm','LiquidityLong_norm','CreditsToInsidersCoefficient_norm',\n",
    "        'ROE','ROA','ReservesChange', 'EquityToImmobilizedAssets', \n",
    "        'CreditsReturnCorporates','DepositsInterestCorporates','CreditsReturnRetail','DepositsInterestRetail',\n",
    "        'CostOfRisk', 'InterbankShareInLiabs','ownership_state','form_public','region_notmoscow',\n",
    "        'Moodys','ExpertRA',\n",
    "        # эти столбцы для расчета дополнительных метрик - сами по себе они не нужны\n",
    "        'Credits_Me','Deposits_Me', 'CreditsCorporates_Me', 'CreditsRetail_Me',\n",
    "        'IncomeRetail_Me','IncomeCorporates_Me','ExpenditureRetail_Me','ExpenditureCorporates_Me',\n",
    "        'ExpendituresReserves_Me', 'DepositsRetail_Me','DepositsCorporates_Me']\n",
    "len(cols)"
   ]
  },
  {
   "cell_type": "code",
   "execution_count": 78,
   "id": "72aa08f5",
   "metadata": {},
   "outputs": [],
   "source": [
    "data = data[cols]"
   ]
  },
  {
   "cell_type": "markdown",
   "id": "2908b0ed",
   "metadata": {},
   "source": [
    "Посмотрим на содержимое таблички: типы данных, количество пропусков."
   ]
  },
  {
   "cell_type": "code",
   "execution_count": 79,
   "id": "59fe3381",
   "metadata": {},
   "outputs": [
    {
     "name": "stdout",
     "output_type": "stream",
     "text": [
      "<class 'pandas.core.frame.DataFrame'>\n",
      "DatetimeIndex: 40885 entries, 2015-01-01 to 2016-12-01\n",
      "Data columns (total 35 columns):\n",
      " #   Column                             Non-Null Count  Dtype  \n",
      "---  ------                             --------------  -----  \n",
      " 0   REGN                               40885 non-null  int64  \n",
      " 1   Assets                             40885 non-null  float64\n",
      " 2   personal_page                      40885 non-null  float64\n",
      " 3   app                                40885 non-null  float64\n",
      " 4   CapitalAdequacy_norm               40885 non-null  float64\n",
      " 5   LiquidityMonth_norm                40885 non-null  float64\n",
      " 6   LiquidityDay_norm                  40885 non-null  float64\n",
      " 7   LiquidityLong_norm                 40885 non-null  float64\n",
      " 8   CreditsToInsidersCoefficient_norm  40885 non-null  float64\n",
      " 9   ROE                                40885 non-null  float64\n",
      " 10  ROA                                40885 non-null  float64\n",
      " 11  ReservesChange                     40885 non-null  float64\n",
      " 12  EquityToImmobilizedAssets          40831 non-null  float64\n",
      " 13  CreditsReturnCorporates            38190 non-null  float64\n",
      " 14  DepositsInterestCorporates         38670 non-null  float64\n",
      " 15  CreditsReturnRetail                37346 non-null  float64\n",
      " 16  DepositsInterestRetail             37462 non-null  float64\n",
      " 17  CostOfRisk                         40885 non-null  float64\n",
      " 18  InterbankShareInLiabs              40885 non-null  float64\n",
      " 19  ownership_state                    40885 non-null  int64  \n",
      " 20  form_public                        40885 non-null  int64  \n",
      " 21  region_notmoscow                   40885 non-null  int64  \n",
      " 22  Moodys                             40885 non-null  object \n",
      " 23  ExpertRA                           40885 non-null  object \n",
      " 24  Credits_Me                         40885 non-null  float64\n",
      " 25  Deposits_Me                        40885 non-null  float64\n",
      " 26  CreditsCorporates_Me               40885 non-null  float64\n",
      " 27  CreditsRetail_Me                   40885 non-null  float64\n",
      " 28  IncomeRetail_Me                    40885 non-null  float64\n",
      " 29  IncomeCorporates_Me                40885 non-null  float64\n",
      " 30  ExpenditureRetail_Me               40885 non-null  float64\n",
      " 31  ExpenditureCorporates_Me           40885 non-null  float64\n",
      " 32  ExpendituresReserves_Me            40885 non-null  float64\n",
      " 33  DepositsRetail_Me                  40885 non-null  float64\n",
      " 34  DepositsCorporates_Me              40885 non-null  float64\n",
      "dtypes: float64(29), int64(4), object(2)\n",
      "memory usage: 11.2+ MB\n"
     ]
    }
   ],
   "source": [
    "data.info()"
   ]
  },
  {
   "cell_type": "markdown",
   "id": "60492da1",
   "metadata": {},
   "source": [
    "И заменим некоторые названия столбцов в данных - с исходными названиями трудновато будет работать."
   ]
  },
  {
   "cell_type": "code",
   "execution_count": 80,
   "id": "3c91e420",
   "metadata": {},
   "outputs": [],
   "source": [
    "new_names = {'CapitalAdequacy_norm':'n_1_0',\n",
    "             'LiquidityMonth_norm':'n3',\n",
    "             'LiquidityDay_norm':'n2',\n",
    "             'LiquidityLong_norm':'n4',\n",
    "             'CreditsToInsidersCoefficient_norm':'n_10_1',\n",
    "             'ReservesChange':'reserv_chng',\n",
    "             'EquityToImmobilizedAssets':'equity_immobil',\n",
    "             'CreditsReturnCorporates':'corp_loan',\n",
    "             'DepositsInterestCorporates':'corp_depo',\n",
    "             'CreditsReturnRetail':'retail_loan',\n",
    "             'DepositsInterestRetail':'retail_depo',\n",
    "             'CostOfRisk':'cor',\n",
    "             'InterbankShareInLiabs':'mbk_share', \n",
    "             'ownership_state':'owner', \n",
    "             'form_public':'public',\n",
    "             'region_notmoscow':'notmoscow',\n",
    "             'CreditsCorporates_Me':'corp_loan_abs',\n",
    "             'CreditsRetail_Me':'retail_loans_abs',\n",
    "             'DepositsRetail_Me':'retail_depo_abs',\n",
    "             'DepositsCorporates_Me':'corp_depo_abs',\n",
    "             'IncomeRetail_Me':'retail_inc',\n",
    "             'IncomeCorporates_Me':'corp_inc',\n",
    "             'ExpenditureRetail_Me':'retail_cost',\n",
    "             'ExpenditureCorporates_Me':'corp_cost',\n",
    "             'ExpendituresReserves_Me':'reserv_cost'}\n",
    "\n",
    "data.rename(columns=new_names, inplace=True)\n",
    "data.columns = [x.lower().replace('_me', '') for x in data.columns]"
   ]
  },
  {
   "cell_type": "markdown",
   "id": "4446d33e",
   "metadata": {},
   "source": [
    "Посмотрим на детальные описания регрессоров:"
   ]
  },
  {
   "cell_type": "code",
   "execution_count": 81,
   "id": "f6cd8df0",
   "metadata": {},
   "outputs": [
    {
     "data": {
      "text/html": [
       "<style type=\"text/css\">\n",
       "#T_93f42_ td:hover {\n",
       "  background-color: #ffffb3;\n",
       "}\n",
       "#T_93f42_ .index_name {\n",
       "  background-color: #cc7000;\n",
       "  color: white;\n",
       "}\n",
       "#T_93f42_ th:not(.index_name) {\n",
       "  background-color: #cc7000;\n",
       "  color: white;\n",
       "}\n",
       "#T_93f42_row0_col0, #T_93f42_row0_col1, #T_93f42_row2_col0, #T_93f42_row2_col1, #T_93f42_row4_col0, #T_93f42_row4_col1, #T_93f42_row6_col0, #T_93f42_row6_col1, #T_93f42_row8_col0, #T_93f42_row8_col1, #T_93f42_row10_col0, #T_93f42_row10_col1, #T_93f42_row12_col0, #T_93f42_row12_col1, #T_93f42_row14_col0, #T_93f42_row14_col1, #T_93f42_row16_col0, #T_93f42_row16_col1, #T_93f42_row18_col0, #T_93f42_row18_col1, #T_93f42_row20_col0, #T_93f42_row20_col1, #T_93f42_row22_col0, #T_93f42_row22_col1, #T_93f42_row24_col0, #T_93f42_row24_col1 {\n",
       "  background-color: #FCD299;\n",
       "  axis: 0;\n",
       "}\n",
       "</style>\n",
       "<table id=\"T_93f42_\">\n",
       "  <thead>\n",
       "    <tr>\n",
       "      <th class=\"blank level0\" >&nbsp;</th>\n",
       "      <th class=\"col_heading level0 col0\" >Краткое название</th>\n",
       "      <th class=\"col_heading level0 col1\" >Содержание</th>\n",
       "    </tr>\n",
       "    <tr>\n",
       "      <th class=\"index_name level0\" >Название</th>\n",
       "      <th class=\"blank col0\" >&nbsp;</th>\n",
       "      <th class=\"blank col1\" >&nbsp;</th>\n",
       "    </tr>\n",
       "  </thead>\n",
       "  <tbody>\n",
       "    <tr>\n",
       "      <th id=\"T_93f42_level0_row0\" class=\"row_heading level0 row0\" >CapitalAdequacy_norm</th>\n",
       "      <td id=\"T_93f42_row0_col0\" class=\"data row0 col0\" >n_1_0</td>\n",
       "      <td id=\"T_93f42_row0_col1\" class=\"data row0 col1\" >Достаточность капитала</td>\n",
       "    </tr>\n",
       "    <tr>\n",
       "      <th id=\"T_93f42_level0_row1\" class=\"row_heading level0 row1\" >LiquidityMonth_norm</th>\n",
       "      <td id=\"T_93f42_row1_col0\" class=\"data row1 col0\" >n3</td>\n",
       "      <td id=\"T_93f42_row1_col1\" class=\"data row1 col1\" >Норматив текущей ликвидности</td>\n",
       "    </tr>\n",
       "    <tr>\n",
       "      <th id=\"T_93f42_level0_row2\" class=\"row_heading level0 row2\" >LiquidityDay_norm</th>\n",
       "      <td id=\"T_93f42_row2_col0\" class=\"data row2 col0\" >n2</td>\n",
       "      <td id=\"T_93f42_row2_col1\" class=\"data row2 col1\" >Норматив мгновенной ликвидности</td>\n",
       "    </tr>\n",
       "    <tr>\n",
       "      <th id=\"T_93f42_level0_row3\" class=\"row_heading level0 row3\" >LiquidityLong_norm</th>\n",
       "      <td id=\"T_93f42_row3_col0\" class=\"data row3 col0\" >n4</td>\n",
       "      <td id=\"T_93f42_row3_col1\" class=\"data row3 col1\" >Норматив долгосрочной ликвидности</td>\n",
       "    </tr>\n",
       "    <tr>\n",
       "      <th id=\"T_93f42_level0_row4\" class=\"row_heading level0 row4\" >CreditsToInsidersCoefficient_norm</th>\n",
       "      <td id=\"T_93f42_row4_col0\" class=\"data row4 col0\" >n_10_1</td>\n",
       "      <td id=\"T_93f42_row4_col1\" class=\"data row4 col1\" >Норматив совокупной величины риска по инсайдерам банка</td>\n",
       "    </tr>\n",
       "    <tr>\n",
       "      <th id=\"T_93f42_level0_row5\" class=\"row_heading level0 row5\" >ReservesChange</th>\n",
       "      <td id=\"T_93f42_row5_col0\" class=\"data row5 col0\" >reserv_chng</td>\n",
       "      <td id=\"T_93f42_row5_col1\" class=\"data row5 col1\" >Изменение резрвов за период</td>\n",
       "    </tr>\n",
       "    <tr>\n",
       "      <th id=\"T_93f42_level0_row6\" class=\"row_heading level0 row6\" >EquityToImmobilizedAssets</th>\n",
       "      <td id=\"T_93f42_row6_col0\" class=\"data row6 col0\" >equity_immobil</td>\n",
       "      <td id=\"T_93f42_row6_col1\" class=\"data row6 col1\" >Отношение капитала к иммобилизованным активам</td>\n",
       "    </tr>\n",
       "    <tr>\n",
       "      <th id=\"T_93f42_level0_row7\" class=\"row_heading level0 row7\" >CreditsReturnCorporates</th>\n",
       "      <td id=\"T_93f42_row7_col0\" class=\"data row7 col0\" >corp_loan</td>\n",
       "      <td id=\"T_93f42_row7_col1\" class=\"data row7 col1\" >Ставки по корпоративным кредитам</td>\n",
       "    </tr>\n",
       "    <tr>\n",
       "      <th id=\"T_93f42_level0_row8\" class=\"row_heading level0 row8\" >DepositsInterestCorporates</th>\n",
       "      <td id=\"T_93f42_row8_col0\" class=\"data row8 col0\" >retail_depo</td>\n",
       "      <td id=\"T_93f42_row8_col1\" class=\"data row8 col1\" >Ставки по депозитам для корпоратов</td>\n",
       "    </tr>\n",
       "    <tr>\n",
       "      <th id=\"T_93f42_level0_row9\" class=\"row_heading level0 row9\" >CreditsReturnRetail</th>\n",
       "      <td id=\"T_93f42_row9_col0\" class=\"data row9 col0\" >retail_loan</td>\n",
       "      <td id=\"T_93f42_row9_col1\" class=\"data row9 col1\" >Ставки по розничным кредитам</td>\n",
       "    </tr>\n",
       "    <tr>\n",
       "      <th id=\"T_93f42_level0_row10\" class=\"row_heading level0 row10\" >DepositsInterestRetail</th>\n",
       "      <td id=\"T_93f42_row10_col0\" class=\"data row10 col0\" >retail_depo</td>\n",
       "      <td id=\"T_93f42_row10_col1\" class=\"data row10 col1\" >Ставки по розничным депозитам</td>\n",
       "    </tr>\n",
       "    <tr>\n",
       "      <th id=\"T_93f42_level0_row11\" class=\"row_heading level0 row11\" >CostOfRisk</th>\n",
       "      <td id=\"T_93f42_row11_col0\" class=\"data row11 col0\" >cor</td>\n",
       "      <td id=\"T_93f42_row11_col1\" class=\"data row11 col1\" >Стоимость риска</td>\n",
       "    </tr>\n",
       "    <tr>\n",
       "      <th id=\"T_93f42_level0_row12\" class=\"row_heading level0 row12\" >InterbankShareInLiabs</th>\n",
       "      <td id=\"T_93f42_row12_col0\" class=\"data row12 col0\" >mbk_share</td>\n",
       "      <td id=\"T_93f42_row12_col1\" class=\"data row12 col1\" >Доля межбанковских кредитов</td>\n",
       "    </tr>\n",
       "    <tr>\n",
       "      <th id=\"T_93f42_level0_row13\" class=\"row_heading level0 row13\" >ownership_state</th>\n",
       "      <td id=\"T_93f42_row13_col0\" class=\"data row13 col0\" >owner</td>\n",
       "      <td id=\"T_93f42_row13_col1\" class=\"data row13 col1\" >Признак государственного банка</td>\n",
       "    </tr>\n",
       "    <tr>\n",
       "      <th id=\"T_93f42_level0_row14\" class=\"row_heading level0 row14\" >orm_public</th>\n",
       "      <td id=\"T_93f42_row14_col0\" class=\"data row14 col0\" >public</td>\n",
       "      <td id=\"T_93f42_row14_col1\" class=\"data row14 col1\" >Признак публичности</td>\n",
       "    </tr>\n",
       "    <tr>\n",
       "      <th id=\"T_93f42_level0_row15\" class=\"row_heading level0 row15\" >region_notmoscow</th>\n",
       "      <td id=\"T_93f42_row15_col0\" class=\"data row15 col0\" >notmoscow</td>\n",
       "      <td id=\"T_93f42_row15_col1\" class=\"data row15 col1\" >Региональные банки</td>\n",
       "    </tr>\n",
       "    <tr>\n",
       "      <th id=\"T_93f42_level0_row16\" class=\"row_heading level0 row16\" >CreditsCorporates_Me</th>\n",
       "      <td id=\"T_93f42_row16_col0\" class=\"data row16 col0\" >corp_loan_abs</td>\n",
       "      <td id=\"T_93f42_row16_col1\" class=\"data row16 col1\" >Корпоративные кредиты</td>\n",
       "    </tr>\n",
       "    <tr>\n",
       "      <th id=\"T_93f42_level0_row17\" class=\"row_heading level0 row17\" >CreditsRetail_Me</th>\n",
       "      <td id=\"T_93f42_row17_col0\" class=\"data row17 col0\" >retail_loans_abs</td>\n",
       "      <td id=\"T_93f42_row17_col1\" class=\"data row17 col1\" >Розничные кредиты</td>\n",
       "    </tr>\n",
       "    <tr>\n",
       "      <th id=\"T_93f42_level0_row18\" class=\"row_heading level0 row18\" >DepositsRetail_Me</th>\n",
       "      <td id=\"T_93f42_row18_col0\" class=\"data row18 col0\" >retail_depo_abs</td>\n",
       "      <td id=\"T_93f42_row18_col1\" class=\"data row18 col1\" >Розничные депозиты</td>\n",
       "    </tr>\n",
       "    <tr>\n",
       "      <th id=\"T_93f42_level0_row19\" class=\"row_heading level0 row19\" >DepositsCorporates_Me</th>\n",
       "      <td id=\"T_93f42_row19_col0\" class=\"data row19 col0\" >corp_depo_abs</td>\n",
       "      <td id=\"T_93f42_row19_col1\" class=\"data row19 col1\" >Корпоративные депозиты</td>\n",
       "    </tr>\n",
       "    <tr>\n",
       "      <th id=\"T_93f42_level0_row20\" class=\"row_heading level0 row20\" >IncomeRetail_Me</th>\n",
       "      <td id=\"T_93f42_row20_col0\" class=\"data row20 col0\" >retail_inc</td>\n",
       "      <td id=\"T_93f42_row20_col1\" class=\"data row20 col1\" >Процентный доход по кредитам выданным физическим лицам</td>\n",
       "    </tr>\n",
       "    <tr>\n",
       "      <th id=\"T_93f42_level0_row21\" class=\"row_heading level0 row21\" >IncomeCorporates_Me</th>\n",
       "      <td id=\"T_93f42_row21_col0\" class=\"data row21 col0\" >corp_inc</td>\n",
       "      <td id=\"T_93f42_row21_col1\" class=\"data row21 col1\" >Процентный доход по кредитам выданным юридическим лицам</td>\n",
       "    </tr>\n",
       "    <tr>\n",
       "      <th id=\"T_93f42_level0_row22\" class=\"row_heading level0 row22\" >ExpenditureRetail_Me</th>\n",
       "      <td id=\"T_93f42_row22_col0\" class=\"data row22 col0\" >retail_cost</td>\n",
       "      <td id=\"T_93f42_row22_col1\" class=\"data row22 col1\" >Процентные расходы по депозитам выданным физическим лицам</td>\n",
       "    </tr>\n",
       "    <tr>\n",
       "      <th id=\"T_93f42_level0_row23\" class=\"row_heading level0 row23\" >ExpenditureCorporates_Me</th>\n",
       "      <td id=\"T_93f42_row23_col0\" class=\"data row23 col0\" >corp_cost</td>\n",
       "      <td id=\"T_93f42_row23_col1\" class=\"data row23 col1\" >Процентные расходы по депозитам выданным юридическим лицам</td>\n",
       "    </tr>\n",
       "    <tr>\n",
       "      <th id=\"T_93f42_level0_row24\" class=\"row_heading level0 row24\" >ExpendituresReserves_Me</th>\n",
       "      <td id=\"T_93f42_row24_col0\" class=\"data row24 col0\" >reserv_cost</td>\n",
       "      <td id=\"T_93f42_row24_col1\" class=\"data row24 col1\" >Расходы на создание резервов</td>\n",
       "    </tr>\n",
       "  </tbody>\n",
       "</table>\n"
      ],
      "text/plain": [
       "<pandas.io.formats.style.Styler at 0x7f5d653901f0>"
      ]
     },
     "execution_count": 81,
     "metadata": {},
     "output_type": "execute_result"
    }
   ],
   "source": [
    "meta_url = 'https://raw.githubusercontent.com/darkmetrics/banks/main/data/metadata.csv'\n",
    "meta = pd.DataFrame(pd.read_csv(meta_url, index_col=0))\n",
    "meta.index = meta['Название']\n",
    "meta.drop(columns='Название', inplace=True)\n",
    "m = meta.style.format()\n",
    "cell_hover = {  # for row hover use <tr> instead of <td>\n",
    "    'selector': 'td:hover',\n",
    "    'props': [('background-color', '#ffffb3')]\n",
    "}\n",
    "index_names = {\n",
    "    'selector': '.index_name',\n",
    "    'props': 'background-color: #cc7000; color: white;'\n",
    "}\n",
    "headers = {\n",
    "    'selector': 'th:not(.index_name)',\n",
    "    'props': 'background-color: #cc7000; color: white;'\n",
    "}\n",
    "id = list(range(0, 25, 2))\n",
    "idx = pd.IndexSlice\n",
    "slice_ = idx[idx[meta.index[id]], idx[:]]\n",
    "meta = meta.style.set_properties(**{'background-color': '#FCD299'}, subset=slice_, axis=0)\n",
    "meta.set_table_styles([cell_hover, index_names, headers])"
   ]
  },
  {
   "cell_type": "code",
   "execution_count": 82,
   "id": "aed43d30",
   "metadata": {},
   "outputs": [
    {
     "name": "stdout",
     "output_type": "stream",
     "text": [
      "<class 'pandas.core.frame.DataFrame'>\n",
      "DatetimeIndex: 2205 entries, 2021-09-17 to 2015-12-25\n",
      "Data columns (total 4 columns):\n",
      " #   Column  Non-Null Count  Dtype \n",
      "---  ------  --------------  ----- \n",
      " 0   name    2205 non-null   object\n",
      " 1   REGN    2205 non-null   int64 \n",
      " 2   type    2205 non-null   object\n",
      " 3   region  2205 non-null   object\n",
      "dtypes: int64(1), object(3)\n",
      "memory usage: 86.1+ KB\n"
     ]
    }
   ],
   "source": [
    "defaults.info()"
   ]
  },
  {
   "cell_type": "markdown",
   "id": "14c70d99",
   "metadata": {},
   "source": [
    "Теперь посмотрим, совпадают ли даты для наборов данных с дефолтами и с метриками."
   ]
  },
  {
   "cell_type": "code",
   "execution_count": 83,
   "id": "c2cb607d",
   "metadata": {},
   "outputs": [
    {
     "name": "stdout",
     "output_type": "stream",
     "text": [
      "Самая ранняя дата в метриках: 2015-01-01 00:00:00\n",
      "Самая ранняя дата в дефолтах: 1991-01-22 00:00:00\n"
     ]
    }
   ],
   "source": [
    "print(f\"Самая ранняя дата в метриках: {data.index.min()}\")\n",
    "print(f\"Самая ранняя дата в дефолтах: {defaults.index.min()}\")"
   ]
  },
  {
   "cell_type": "markdown",
   "id": "e850c36a",
   "metadata": {},
   "source": [
    "Так не годится, отберем данные о дефолтах с 2015 года."
   ]
  },
  {
   "cell_type": "code",
   "execution_count": 84,
   "id": "3c6bf7d1",
   "metadata": {},
   "outputs": [
    {
     "data": {
      "text/html": [
       "<div>\n",
       "<style scoped>\n",
       "    .dataframe tbody tr th:only-of-type {\n",
       "        vertical-align: middle;\n",
       "    }\n",
       "\n",
       "    .dataframe tbody tr th {\n",
       "        vertical-align: top;\n",
       "    }\n",
       "\n",
       "    .dataframe thead th {\n",
       "        text-align: right;\n",
       "    }\n",
       "</style>\n",
       "<table border=\"1\" class=\"dataframe\">\n",
       "  <thead>\n",
       "    <tr style=\"text-align: right;\">\n",
       "      <th></th>\n",
       "      <th>name</th>\n",
       "      <th>REGN</th>\n",
       "      <th>type</th>\n",
       "      <th>region</th>\n",
       "    </tr>\n",
       "    <tr>\n",
       "      <th>date</th>\n",
       "      <th></th>\n",
       "      <th></th>\n",
       "      <th></th>\n",
       "      <th></th>\n",
       "    </tr>\n",
       "  </thead>\n",
       "  <tbody>\n",
       "    <tr>\n",
       "      <th>2021-09-17</th>\n",
       "      <td>Платина</td>\n",
       "      <td>2347</td>\n",
       "      <td>отозв.</td>\n",
       "      <td>Москва</td>\n",
       "    </tr>\n",
       "    <tr>\n",
       "      <th>2021-08-06</th>\n",
       "      <td>КС Банк</td>\n",
       "      <td>1752</td>\n",
       "      <td>отозв.</td>\n",
       "      <td>Саранск (Республика Мордовия)</td>\n",
       "    </tr>\n",
       "    <tr>\n",
       "      <th>2021-07-23</th>\n",
       "      <td>Руна-Банк</td>\n",
       "      <td>3207</td>\n",
       "      <td>отозв.</td>\n",
       "      <td>Москва</td>\n",
       "    </tr>\n",
       "  </tbody>\n",
       "</table>\n",
       "</div>"
      ],
      "text/plain": [
       "                 name  REGN    type                         region\n",
       "date                                                              \n",
       "2021-09-17    Платина  2347  отозв.                         Москва\n",
       "2021-08-06    КС Банк  1752  отозв.  Саранск (Республика Мордовия)\n",
       "2021-07-23  Руна-Банк  3207  отозв.                         Москва"
      ]
     },
     "execution_count": 84,
     "metadata": {},
     "output_type": "execute_result"
    }
   ],
   "source": [
    "defaults = defaults[defaults.index.year>=2015]\n",
    "defaults.head(3)"
   ]
  },
  {
   "cell_type": "markdown",
   "id": "dfc7900a",
   "metadata": {},
   "source": [
    "### 2. Предобработка данных и создание новых признаков."
   ]
  },
  {
   "cell_type": "markdown",
   "id": "b7c43737",
   "metadata": {},
   "source": [
    "#### 2.1 Числовые признаки.\n",
    "\n",
    "Для начала нам надо создать новые признаки на основе старых."
   ]
  },
  {
   "cell_type": "markdown",
   "id": "62a06bd2",
   "metadata": {},
   "source": [
    "Сначала рассчитаем средние ставки по банковской системе. Также сразу посчитаем совокупные активы банковской системы - этот показатель нам тоже пригодится."
   ]
  },
  {
   "cell_type": "code",
   "execution_count": 86,
   "id": "ae6f8f51",
   "metadata": {},
   "outputs": [],
   "source": [
    "avg_cols = ['assets','corp_loan_abs', 'retail_loans_abs',\n",
    "            'retail_inc','corp_inc','retail_cost', \n",
    "            'corp_cost', 'retail_depo_abs','corp_depo_abs']\n",
    "\n",
    "group_dict = dict(zip(avg_cols, ['sum']*len(avg_cols)))\n",
    "avg = data.groupby(data.index).agg(group_dict).reset_index()\n",
    "avg.index = avg['date']\n",
    "# посчитаем собственно средние ставки\n",
    "avg['avg_corp_loan'] = avg['corp_inc']/avg['corp_loan_abs']\n",
    "avg['avg_retail_loan'] = avg['retail_inc']/avg['retail_loans_abs']\n",
    "avg['avg_corp_depo'] = avg['corp_cost']/avg['corp_depo_abs']\n",
    "avg['avg_retail_depo'] = avg['retail_cost']/avg['retail_depo_abs']"
   ]
  },
  {
   "cell_type": "markdown",
   "id": "ac3d06a1",
   "metadata": {},
   "source": [
    "Нарисуем средние ставки по кредитам и депозитам, это само по себе любопытно и информативно."
   ]
  },
  {
   "cell_type": "code",
   "execution_count": 87,
   "id": "a070f520",
   "metadata": {},
   "outputs": [
    {
     "data": {
      "image/png": "[encoded data removed]",
      "text/plain": [
       "<Figure size 1008x432 with 1 Axes>"
      ]
     },
     "metadata": {
      "needs_background": "light"
     },
     "output_type": "display_data"
    }
   ],
   "source": [
    "fig, ax = plt.subplots(figsize=(14, 6))\n",
    "ax.plot(avg.avg_corp_loan*100, color='red', label='Корпоративные кредиты')\n",
    "ax.plot(avg.avg_corp_depo*100, color='green', label='Корпоративные депозиты')\n",
    "ax.plot(avg.avg_retail_loan*100, color='darkorange', label='Розничные кредиты')\n",
    "ax.plot(avg.avg_retail_depo*100, color='steelblue', label='Розничные депозиты')\n",
    "ax.set_xlabel('Дата')\n",
    "ax.set_ylabel('Ставка, %')\n",
    "ax.set_title('Средние ставки по банковским продуктам, %')\n",
    "ax.legend()\n",
    "ax.grid(True)\n",
    "fig.show();"
   ]
  },
  {
   "cell_type": "markdown",
   "id": "87719daa",
   "metadata": {},
   "source": [
    "Странновато, конечно, ну да ладно. Теперь приклеим сгруппированный набор данных к основному, чтобы посчитать отклонения от средних ставок по разным продуктам для каждого банка."
   ]
  },
  {
   "cell_type": "code",
   "execution_count": 88,
   "id": "455d79c1",
   "metadata": {},
   "outputs": [],
   "source": [
    "avg.rename(columns={'assets':'total_assets'}, inplace=True)\n",
    "\n",
    "data = pd.merge(left=data, \n",
    "                right=avg[['total_assets', 'avg_corp_loan', 'avg_retail_loan', \n",
    "                           'avg_corp_depo','avg_retail_depo']],\n",
    "                how='left',\n",
    "                left_index=True, right_index=True)"
   ]
  },
  {
   "cell_type": "markdown",
   "id": "90a3a6b0",
   "metadata": {},
   "source": [
    "Посчитаем \n",
    "1. Разницу между ставками конкретного банка и средними по системе ставками для\n",
    "  * Корпоративных кредитов\n",
    "  * Корпоративных депозитов\n",
    "  * Розничных кредитов\n",
    "  * Розничных депозитов\n",
    "2. Отношение кредитов к депозитам (Loan-Deposit Ratio)\n",
    "3. Доли кредитов в пассивах:\n",
    "  * Долю всего кредитного портфеля в пассивах\n",
    "  * Долю корпоративных кредитов в пассивах\n",
    "  * Долю розничных кредитов в пассивах\n",
    "4. Отношение активов банка к активам всей банковской системы на соответствующую дату\n",
    "5. Дисперсию\n",
    "  * Активов банка\n",
    "  * Кредитного портфеля банка\n",
    "  * Корпоративного кредитного портфеля банка"
   ]
  },
  {
   "cell_type": "code",
   "execution_count": 89,
   "id": "116af860",
   "metadata": {},
   "outputs": [],
   "source": [
    "# 1 дифференциалы процентных ставок\n",
    "data['corp_loan_spread'] = data['avg_corp_loan']-data['corp_loan']\n",
    "data['retail_loan_spread'] = data['avg_retail_loan']-data['retail_loan']\n",
    "data['corp_depo_spread'] = data['avg_corp_depo']-data['corp_depo']\n",
    "data['retail_depo_spread'] = data['avg_retail_depo']-data['retail_depo']\n",
    "# 2 loan-deposit ratio\n",
    "data['ldr'] = data['credits']/data['deposits']\n",
    "# 3 доли кредитов в пассивах\n",
    "data['loan_share'] = data['credits']/data['assets']\n",
    "data['ret_loan_share'] = data['retail_loans_abs']/data['assets']\n",
    "data['corp_loan_share'] = data['corp_loan_abs']/data['assets']\n",
    "# 4 доля активов банка в активах всей банковской системы\n",
    "data['size'] = data['assets']/data['total_assets']"
   ]
  },
  {
   "cell_type": "markdown",
   "id": "9d8cda15",
   "metadata": {},
   "source": [
    "В отдельной ячейке посчитаем три дисперсии. Будем считать их скользящим окном в 12 наблюдений, так как для балансовых показателей у нас месячные данные. "
   ]
  },
  {
   "cell_type": "code",
   "execution_count": 90,
   "id": "5e88e7bc",
   "metadata": {},
   "outputs": [],
   "source": [
    "data['asset_var'] = data.groupby('regn')['assets'].\\\n",
    "                         transform(lambda x: x.rolling(12, 1).var())\n",
    "data['loan_var'] = data.groupby('regn')['credits'].\\\n",
    "                        transform(lambda x: x.rolling(12, 1).var())\n",
    "data['corp_loan_var'] = data.groupby('regn')['corp_loan_abs'].\\\n",
    "                             transform(lambda x: x.rolling(12, 1).var())"
   ]
  },
  {
   "cell_type": "markdown",
   "id": "2ddc12d4",
   "metadata": {},
   "source": [
    "Посмотрим, остались ли у нас пропуски, если да, то в каких столбцах."
   ]
  },
  {
   "cell_type": "code",
   "execution_count": 104,
   "id": "804d439f",
   "metadata": {},
   "outputs": [
    {
     "data": {
      "image/png": "[encoded data removed]",
      "text/plain": [
       "<Figure size 720x432 with 1 Axes>"
      ]
     },
     "metadata": {
      "needs_background": "light"
     },
     "output_type": "display_data"
    }
   ],
   "source": [
    "nans = data.isna().sum()[data.isna().sum()!=0]/len(data)\n",
    "nans = nans.sort_values()\n",
    "\n",
    "plt.figure(figsize=(10, 6))\n",
    "plt.barh(nans.index, nans.values*100,  color='steelblue');\n",
    "plt.xlabel('Название столбца');\n",
    "plt.ylabel('Доля пропусков, %');\n",
    "plt.title('Доля пропусков в % от наблюдений');"
   ]
  },
  {
   "cell_type": "markdown",
   "id": "d55b0df1",
   "metadata": {},
   "source": [
    "Какие столбцы нам важны?\n",
    "* Все столбцы со `spread` - заполним их средними значениями по системе.\n",
    "* `ldr` - Loan-to-Deposit Ratio.\n",
    "* Столбцы с дисперсиями `var`- заполним их средними значениями по системе.\n",
    "* `equity_immobil`, но в нем мало пропусков, эти наблюдения можно удалить.\n",
    "\n",
    "Наверно, оптимальный вариант - это заполнить пропущенные ставки значениями, средними по банковской системе на дату пропуска. "
   ]
  },
  {
   "cell_type": "code",
   "execution_count": null,
   "id": "a55e5879",
   "metadata": {},
   "outputs": [],
   "source": []
  },
  {
   "cell_type": "code",
   "execution_count": null,
   "id": "b229a6fe",
   "metadata": {},
   "outputs": [],
   "source": []
  },
  {
   "cell_type": "code",
   "execution_count": null,
   "id": "e643805e",
   "metadata": {},
   "outputs": [],
   "source": []
  },
  {
   "cell_type": "markdown",
   "id": "56f0232d",
   "metadata": {},
   "source": [
    "Теперь все необходимые признаки получены, можно удалить ненужны столбцы из выборки."
   ]
  },
  {
   "cell_type": "code",
   "execution_count": 93,
   "id": "7343a8a9",
   "metadata": {},
   "outputs": [
    {
     "data": {
      "text/plain": [
       "['corp_loan_spread',\n",
       " 'retail_loan_spread',\n",
       " 'corp_depo_spread',\n",
       " 'retail_depo_spread']"
      ]
     },
     "execution_count": 93,
     "metadata": {},
     "output_type": "execute_result"
    }
   ],
   "source": [
    "to_drop = ['assets', 'corp_loan', 'corp_depo', 'retail_loan', 'retail_depo',\n",
    "           'credits', 'deposits', 'corp_loan_abs', 'retail_loans_abs',\n",
    "           'retail_depo_abs', 'corp_depo_abs', 'total_assets',\n",
    "           'retail_inc', 'corp_inc', 'retail_cost', 'corp_cost',\n",
    "           'reserv_cost', 'avg_corp_loan', 'avg_retail_loan', 'avg_corp_depo', \n",
    "           'avg_retail_depo', 'reserv_chng']\n",
    "data = data[[x for x in data.columns if x not in to_drop]]\n",
    "data.info()"
   ]
  },
  {
   "cell_type": "markdown",
   "id": "e8db128b",
   "metadata": {},
   "source": [
    "#### 2.2 Категориальные признаки.\n",
    "\n",
    "Посмотрим, что из себя представляют два строковых признака, которые у нас есть:"
   ]
  },
  {
   "cell_type": "code",
   "execution_count": 94,
   "id": "7cedf9ec",
   "metadata": {},
   "outputs": [
    {
     "data": {
      "image/png": "[encoded data removed]",
      "text/plain": [
       "<Figure size 1296x360 with 2 Axes>"
      ]
     },
     "metadata": {
      "needs_background": "light"
     },
     "output_type": "display_data"
    }
   ],
   "source": [
    "fig, ax = plt.subplots(nrows=1, ncols=2, figsize=(18, 5))\n",
    "fig.subplots_adjust(top=0.8)\n",
    "\n",
    "ax[0].bar(data.moodys.value_counts().index, \n",
    "          (data.moodys.value_counts()/len(data)*100).values, color='darkorange')\n",
    "ax[0].set_title(\"Рейтинг  Moody's\")\n",
    "ax[0].set_xlabel('Категория рейтинга')\n",
    "ax[0].set_ylabel('Доля наблюдений, %')\n",
    "ax[0].grid(True)\n",
    "\n",
    "ax[1].bar(data.expertra.value_counts().index, \n",
    "          (data.expertra.value_counts()/len(data)*100).values, color='green')\n",
    "ax[1].set_title(\"Рейтинг  Эксперт РА\")\n",
    "ax[1].set_xlabel('Категория рейтинга')\n",
    "ax[1].set_ylabel('Доля наблюдений, %')\n",
    "ax[1].grid(True)\n",
    "\n",
    "fig.suptitle('Распределение наблюдений по рейтингам\\n различных рейтинговых агентств', \n",
    "             y=0.98, fontsize=14)\n",
    "fig.show();"
   ]
  },
  {
   "cell_type": "markdown",
   "id": "a22705c6",
   "metadata": {},
   "source": [
    "Посмотрим на распределения всех числовых признаков:"
   ]
  }
 ],
 "metadata": {
  "kernelspec": {
   "display_name": "Python 3 (ipykernel)",
   "language": "python",
   "name": "python3"
  },
  "language_info": {
   "codemirror_mode": {
    "name": "ipython",
    "version": 3
   },
   "file_extension": ".py",
   "mimetype": "text/x-python",
   "name": "python",
   "nbconvert_exporter": "python",
   "pygments_lexer": "ipython3",
   "version": "3.8.10"
  }
 },
 "nbformat": 4,
 "nbformat_minor": 5
}
