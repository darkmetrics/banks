{
 "cells": [
  {
   "cell_type": "code",
   "execution_count": 1,
   "id": "e5934b17",
   "metadata": {},
   "outputs": [],
   "source": [
    "import numpy as np\n",
    "import pandas as pd"
   ]
  },
  {
   "cell_type": "markdown",
   "id": "7f47b406",
   "metadata": {},
   "source": [
    "Попробуем с помощью утилиты `wget` получить данные по ссылке на датасет на Гитхабе. Поскольку Колабовские машины работают на Linux, это должно сработать."
   ]
  },
  {
   "cell_type": "code",
   "execution_count": null,
   "id": "deb9cca3",
   "metadata": {},
   "outputs": [],
   "source": []
  }
 ],
 "metadata": {
  "kernelspec": {
   "display_name": "Python 3 (ipykernel)",
   "language": "python",
   "name": "python3"
  },
  "language_info": {
   "codemirror_mode": {
    "name": "ipython",
    "version": 3
   },
   "file_extension": ".py",
   "mimetype": "text/x-python",
   "name": "python",
   "nbconvert_exporter": "python",
   "pygments_lexer": "ipython3",
   "version": "3.8.8"
  }
 },
 "nbformat": 4,
 "nbformat_minor": 5
}
