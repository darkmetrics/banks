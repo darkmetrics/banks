{
 "cells": [
  {
   "cell_type": "markdown",
   "metadata": {},
   "source": [
    "[![Open In Colab](https://colab.research.google.com/assets/colab-badge.svg)](https://colab.research.google.com/github/darkmetrics/banks/blob/main/code/demonstration.ipynb)"
   ]
  },
  {
   "cell_type": "markdown",
   "metadata": {},
   "source": [
    "## Прогнозирование вероятности дефолта для российских банков.\n",
    "\n",
    "**Авторы**:\n",
    "* **Волкова Анастасия**\n",
    "* **Дубленский Иван**\n",
    "* **Лозовой Владимир**\n",
    "* **Тельман Куан**"
   ]
  },
  {
   "cell_type": "markdown",
   "metadata": {},
   "source": [
    "### 1. Загрузка данных и первое знакомство с ними."
   ]
  },
  {
   "cell_type": "code",
   "execution_count": 5,
   "metadata": {},
   "outputs": [],
   "source": [
    "import numpy as np\n",
    "import pandas as pd\n",
    "import matplotlib.pyplot as plt \n",
    "import seaborn as sns\n",
    "\n",
    "# включение множественного вывода для Google Colab\n",
    "from IPython.core.interactiveshell import InteractiveShell\n",
    "InteractiveShell.ast_node_interactivity = \"all\""
   ]
  },
  {
   "cell_type": "markdown",
   "metadata": {},
   "source": [
    "Слава богу, `pandas` умеет читать данные с интернет-страниц. Важно, что на Гитхабе на страничке файла с данными надо нажать кнопку `raw`, и тогда `url`-ссылка на файл с данными изменится, в тексте ссылки появится слово `raw`. Именно такую ссылку и надо использовать для чтения данных."
   ]
  },
  {
   "cell_type": "code",
   "execution_count": null,
   "metadata": {},
   "outputs": [],
   "source": [
    "url = \"https://raw.githubusercontent.com/darkmetrics/banks/main/data/metrics.csv\"\n",
    "url2 = \"https://raw.githubusercontent.com/darkmetrics/banks/main/data/defaults.csv\"\n",
    "data = pd.read_csv(url, parse_dates=True, index_col='date')\n",
    "defaults = pd.read_csv(url2, parse_dates=True, index_col='date')\n",
    "\n",
    "print('Head of table with bank metrics:\\n')\n",
    "data.head(5)\n",
    "print('\\nHead of table with bank defaults:\\n')\n",
    "defaults.head(5)"
   ]
  },
  {
   "cell_type": "markdown",
   "metadata": {},
   "source": [
    "Сначала выберем нужные столбцы из метрик."
   ]
  },
  {
   "cell_type": "code",
   "execution_count": null,
   "metadata": {},
   "outputs": [],
   "source": [
    "cols = ['REGN','Assets','personal_page','app','CapitalAdequacy_norm','LiquidityMonth_norm',\n",
    "        'LiquidityDay_norm','LiquidityLong_norm','CreditsToInsidersCoefficient_norm',\n",
    "        'ROE','ROA','ReservesChange', 'EquityToImmobilizedAssets', \n",
    "        'CreditsReturnCorporates','DepositsInterestCorporates','CreditsReturnRetail','DepositsInterestRetail',\n",
    "        'CostOfRisk', 'InterbankShareInLiabs','ownership_state','form_public','region_notmoscow',\n",
    "        'Moodys','ExpertRA',\n",
    "        # эти столбцы для расчета дополнительных метрик - сами по себе они не нужны\n",
    "        'Credits_Me','Deposits_Me', 'CreditsCorporates_Me', 'CreditsRetail_Me',\n",
    "        'IncomeRetail_Me','IncomeCorporates_Me','ExpenditureRetail_Me','ExpenditureCorporates_Me',\n",
    "        'ExpendituresReserves_Me', 'DepositsRetail_Me','DepositsCorporates_Me']\n",
    "len(cols)"
   ]
  },
  {
   "cell_type": "code",
   "execution_count": null,
   "metadata": {},
   "outputs": [],
   "source": [
    "data = data[cols]"
   ]
  },
  {
   "cell_type": "markdown",
   "metadata": {},
   "source": [
    "Посмотрим на содержимое таблички: типы данных, количество пропусков."
   ]
  },
  {
   "cell_type": "code",
   "execution_count": null,
   "metadata": {},
   "outputs": [],
   "source": [
    "data.info()"
   ]
  },
  {
   "cell_type": "markdown",
   "metadata": {},
   "source": [
    "И заменим некоторые названия столбцов в данных - с исходными названиями трудновато будет работать."
   ]
  },
  {
   "cell_type": "code",
   "execution_count": null,
   "metadata": {},
   "outputs": [],
   "source": [
    "new_names = {'CapitalAdequacy_norm':'n_1_0',\n",
    "             'LiquidityMonth_norm':'n3',\n",
    "             'LiquidityDay_norm':'n2',\n",
    "             'LiquidityLong_norm':'n4',\n",
    "             'CreditsToInsidersCoefficient_norm':'n_10_1',\n",
    "             'ReservesChange':'reserv_chng',\n",
    "             'EquityToImmobilizedAssets':'equity_immobil',\n",
    "             'CreditsReturnCorporates':'corp_loan',\n",
    "             'DepositsInterestCorporates':'corp_depo',\n",
    "             'CreditsReturnRetail':'retail_loan',\n",
    "             'DepositsInterestRetail':'retail_depo',\n",
    "             'CostOfRisk':'cor',\n",
    "             'InterbankShareInLiabs':'mbk_share', \n",
    "             'ownership_state':'owner', \n",
    "             'form_public':'public',\n",
    "             'region_notmoscow':'notmoscow',\n",
    "             'CreditsCorporates_Me':'corp_loan_abs',\n",
    "             'CreditsRetail_Me':'retail_loans_abs',\n",
    "             'DepositsRetail_Me':'retail_depo_abs',\n",
    "             'DepositsCorporates_Me':'corp_depo_abs',\n",
    "             'IncomeRetail_Me':'retail_inc',\n",
    "             'IncomeCorporates_Me':'corp_inc',\n",
    "             'ExpenditureRetail_Me':'retail_cost',\n",
    "             'ExpenditureCorporates_Me':'corp_cost',\n",
    "             'ExpendituresReserves_Me':'reserv_cost'}\n",
    "\n",
    "data.rename(columns=new_names, inplace=True)\n",
    "data.columns = [x.lower().replace('_me', '') for x in data.columns]"
   ]
  },
  {
   "cell_type": "markdown",
   "metadata": {},
   "source": [
    "Посмотрим на таблицу признаков"
   ]
  },
  {
   "cell_type": "code",
   "execution_count": 17,
   "metadata": {},
   "outputs": [],
   "source": [
    "names = {\n",
    "    'Название': ['CapitalAdequacy_norm','LiquidityMonth_norm','LiquidityDay_norm','LiquidityLong_norm',\n",
    "                 'CreditsToInsidersCoefficient_norm','ReservesChange','EquityToImmobilizedAssets',\n",
    "                 'CreditsReturnCorporates','DepositsInterestCorporates','CreditsReturnRetail',\n",
    "                 'DepositsInterestRetail','CostOfRisk','InterbankShareInLiabs','ownership_state','orm_public',\n",
    "                 'region_notmoscow','CreditsCorporates_Me','CreditsRetail_Me','DepositsRetail_Me','DepositsCorporates_Me',\n",
    "                 'IncomeRetail_Me','IncomeCorporates_Me','ExpenditureRetail_Me','ExpenditureCorporates_Me',\n",
    "                 'ExpendituresReserves_Me'],\n",
    "    'Краткое название' : ['n_1_0','n3','n2','n4','n_10_1','reserv_chng','equity_immobil','corp_loan','retail_depo','retail_loan',\n",
    "                          'retail_depo','cor','mbk_share','owner','public','notmoscow','corp_loan_abs','retail_loans_abs',\n",
    "                          'retail_depo_abs','corp_depo_abs','retail_inc','corp_inc','retail_cost','corp_cost','reserv_cost'],\n",
    "    'Содержание': ['Достаточность капитала','Норматив текущей ликвидности','Норматив мгновенной ликвидности',\n",
    "                   'Норматив долгосрочной ликвидности','Норматив совокупной величины риска по инсайдерам банка',\n",
    "                   'Изменение резрвов за период','Отношение капитала к иммобилизованным активам',\n",
    "                   'Ставки по корпоративным кредитам','Ставки по депозитам для корпоратов',\n",
    "                   'Ставки по розничным кредитам','Ставки по розничным депозитам','Стоимость риска',\n",
    "                   'Доля межбанковских кредитов','Признак государственного банка','Признак публичности',\n",
    "                   'Региональные банки','Корпоративные кредиты','Розничные кредиты','Розничные депозиты',\n",
    "                   'Корпоративные депозиты','Процентный доход по кредитам выданным физическим лицам',\n",
    "                   'Процентный доход по кредитам выданным юридическим лицам',\n",
    "                   'Процентные расходы по депозитам выданным физическим лицам',\n",
    "                   'Процентные расходы по депозитам выданным юридическим лицам','Расходы на создание резервов']  \n",
    "}"
   ]
  },
  {
   "cell_type": "code",
   "execution_count": 19,
   "metadata": {},
   "outputs": [
    {
     "data": {
      "text/html": [
       "<div>\n",
       "<style scoped>\n",
       "    .dataframe tbody tr th:only-of-type {\n",
       "        vertical-align: middle;\n",
       "    }\n",
       "\n",
       "    .dataframe tbody tr th {\n",
       "        vertical-align: top;\n",
       "    }\n",
       "\n",
       "    .dataframe thead th {\n",
       "        text-align: right;\n",
       "    }\n",
       "</style>\n",
       "<table border=\"1\" class=\"dataframe\">\n",
       "  <thead>\n",
       "    <tr style=\"text-align: right;\">\n",
       "      <th></th>\n",
       "      <th>Название</th>\n",
       "      <th>Краткое название</th>\n",
       "      <th>Содержание</th>\n",
       "    </tr>\n",
       "  </thead>\n",
       "  <tbody>\n",
       "    <tr>\n",
       "      <th>0</th>\n",
       "      <td>CapitalAdequacy_norm</td>\n",
       "      <td>n_1_0</td>\n",
       "      <td>Достаточность капитала</td>\n",
       "    </tr>\n",
       "    <tr>\n",
       "      <th>1</th>\n",
       "      <td>LiquidityMonth_norm</td>\n",
       "      <td>n3</td>\n",
       "      <td>Норматив текущей ликвидности</td>\n",
       "    </tr>\n",
       "    <tr>\n",
       "      <th>2</th>\n",
       "      <td>LiquidityDay_norm</td>\n",
       "      <td>n2</td>\n",
       "      <td>Норматив мгновенной ликвидности</td>\n",
       "    </tr>\n",
       "    <tr>\n",
       "      <th>3</th>\n",
       "      <td>LiquidityLong_norm</td>\n",
       "      <td>n4</td>\n",
       "      <td>Норматив долгосрочной ликвидности</td>\n",
       "    </tr>\n",
       "    <tr>\n",
       "      <th>4</th>\n",
       "      <td>CreditsToInsidersCoefficient_norm</td>\n",
       "      <td>n_10_1</td>\n",
       "      <td>Норматив совокупной величины риска по инсайдер...</td>\n",
       "    </tr>\n",
       "    <tr>\n",
       "      <th>5</th>\n",
       "      <td>ReservesChange</td>\n",
       "      <td>reserv_chng</td>\n",
       "      <td>Изменение резрвов за период</td>\n",
       "    </tr>\n",
       "    <tr>\n",
       "      <th>6</th>\n",
       "      <td>EquityToImmobilizedAssets</td>\n",
       "      <td>equity_immobil</td>\n",
       "      <td>Отношение капитала к иммобилизованным активам</td>\n",
       "    </tr>\n",
       "    <tr>\n",
       "      <th>7</th>\n",
       "      <td>CreditsReturnCorporates</td>\n",
       "      <td>corp_loan</td>\n",
       "      <td>Ставки по корпоративным кредитам</td>\n",
       "    </tr>\n",
       "    <tr>\n",
       "      <th>8</th>\n",
       "      <td>DepositsInterestCorporates</td>\n",
       "      <td>retail_depo</td>\n",
       "      <td>Ставки по депозитам для корпоратов</td>\n",
       "    </tr>\n",
       "    <tr>\n",
       "      <th>9</th>\n",
       "      <td>CreditsReturnRetail</td>\n",
       "      <td>retail_loan</td>\n",
       "      <td>Ставки по розничным кредитам</td>\n",
       "    </tr>\n",
       "    <tr>\n",
       "      <th>10</th>\n",
       "      <td>DepositsInterestRetail</td>\n",
       "      <td>retail_depo</td>\n",
       "      <td>Ставки по розничным депозитам</td>\n",
       "    </tr>\n",
       "    <tr>\n",
       "      <th>11</th>\n",
       "      <td>CostOfRisk</td>\n",
       "      <td>cor</td>\n",
       "      <td>Стоимость риска</td>\n",
       "    </tr>\n",
       "    <tr>\n",
       "      <th>12</th>\n",
       "      <td>InterbankShareInLiabs</td>\n",
       "      <td>mbk_share</td>\n",
       "      <td>Доля межбанковских кредитов</td>\n",
       "    </tr>\n",
       "    <tr>\n",
       "      <th>13</th>\n",
       "      <td>ownership_state</td>\n",
       "      <td>owner</td>\n",
       "      <td>Признак государственного банка</td>\n",
       "    </tr>\n",
       "    <tr>\n",
       "      <th>14</th>\n",
       "      <td>orm_public</td>\n",
       "      <td>public</td>\n",
       "      <td>Признак публичности</td>\n",
       "    </tr>\n",
       "    <tr>\n",
       "      <th>15</th>\n",
       "      <td>region_notmoscow</td>\n",
       "      <td>notmoscow</td>\n",
       "      <td>Региональные банки</td>\n",
       "    </tr>\n",
       "    <tr>\n",
       "      <th>16</th>\n",
       "      <td>CreditsCorporates_Me</td>\n",
       "      <td>corp_loan_abs</td>\n",
       "      <td>Корпоративные кредиты</td>\n",
       "    </tr>\n",
       "    <tr>\n",
       "      <th>17</th>\n",
       "      <td>CreditsRetail_Me</td>\n",
       "      <td>retail_loans_abs</td>\n",
       "      <td>Розничные кредиты</td>\n",
       "    </tr>\n",
       "    <tr>\n",
       "      <th>18</th>\n",
       "      <td>DepositsRetail_Me</td>\n",
       "      <td>retail_depo_abs</td>\n",
       "      <td>Розничные депозиты</td>\n",
       "    </tr>\n",
       "    <tr>\n",
       "      <th>19</th>\n",
       "      <td>DepositsCorporates_Me</td>\n",
       "      <td>corp_depo_abs</td>\n",
       "      <td>Корпоративные депозиты</td>\n",
       "    </tr>\n",
       "    <tr>\n",
       "      <th>20</th>\n",
       "      <td>IncomeRetail_Me</td>\n",
       "      <td>retail_inc</td>\n",
       "      <td>Процентный доход по кредитам выданным физическ...</td>\n",
       "    </tr>\n",
       "    <tr>\n",
       "      <th>21</th>\n",
       "      <td>IncomeCorporates_Me</td>\n",
       "      <td>corp_inc</td>\n",
       "      <td>Процентный доход по кредитам выданным юридичес...</td>\n",
       "    </tr>\n",
       "    <tr>\n",
       "      <th>22</th>\n",
       "      <td>ExpenditureRetail_Me</td>\n",
       "      <td>retail_cost</td>\n",
       "      <td>Процентные расходы по депозитам выданным физич...</td>\n",
       "    </tr>\n",
       "    <tr>\n",
       "      <th>23</th>\n",
       "      <td>ExpenditureCorporates_Me</td>\n",
       "      <td>corp_cost</td>\n",
       "      <td>Процентные расходы по депозитам выданным юриди...</td>\n",
       "    </tr>\n",
       "    <tr>\n",
       "      <th>24</th>\n",
       "      <td>ExpendituresReserves_Me</td>\n",
       "      <td>reserv_cost</td>\n",
       "      <td>Расходы на создание резервов</td>\n",
       "    </tr>\n",
       "  </tbody>\n",
       "</table>\n",
       "</div>"
      ],
      "text/plain": [
       "                             Название  Краткое название  \\\n",
       "0                CapitalAdequacy_norm             n_1_0   \n",
       "1                 LiquidityMonth_norm                n3   \n",
       "2                   LiquidityDay_norm                n2   \n",
       "3                  LiquidityLong_norm                n4   \n",
       "4   CreditsToInsidersCoefficient_norm            n_10_1   \n",
       "5                      ReservesChange       reserv_chng   \n",
       "6           EquityToImmobilizedAssets    equity_immobil   \n",
       "7             CreditsReturnCorporates         corp_loan   \n",
       "8          DepositsInterestCorporates       retail_depo   \n",
       "9                 CreditsReturnRetail       retail_loan   \n",
       "10             DepositsInterestRetail       retail_depo   \n",
       "11                         CostOfRisk               cor   \n",
       "12              InterbankShareInLiabs         mbk_share   \n",
       "13                    ownership_state             owner   \n",
       "14                         orm_public            public   \n",
       "15                   region_notmoscow         notmoscow   \n",
       "16               CreditsCorporates_Me     corp_loan_abs   \n",
       "17                   CreditsRetail_Me  retail_loans_abs   \n",
       "18                  DepositsRetail_Me   retail_depo_abs   \n",
       "19              DepositsCorporates_Me     corp_depo_abs   \n",
       "20                    IncomeRetail_Me        retail_inc   \n",
       "21                IncomeCorporates_Me          corp_inc   \n",
       "22               ExpenditureRetail_Me       retail_cost   \n",
       "23           ExpenditureCorporates_Me         corp_cost   \n",
       "24            ExpendituresReserves_Me       reserv_cost   \n",
       "\n",
       "                                           Содержание  \n",
       "0                              Достаточность капитала  \n",
       "1                        Норматив текущей ликвидности  \n",
       "2                     Норматив мгновенной ликвидности  \n",
       "3                   Норматив долгосрочной ликвидности  \n",
       "4   Норматив совокупной величины риска по инсайдер...  \n",
       "5                         Изменение резрвов за период  \n",
       "6       Отношение капитала к иммобилизованным активам  \n",
       "7                    Ставки по корпоративным кредитам  \n",
       "8                  Ставки по депозитам для корпоратов  \n",
       "9                        Ставки по розничным кредитам  \n",
       "10                      Ставки по розничным депозитам  \n",
       "11                                    Стоимость риска  \n",
       "12                        Доля межбанковских кредитов  \n",
       "13                     Признак государственного банка  \n",
       "14                                Признак публичности  \n",
       "15                                 Региональные банки  \n",
       "16                              Корпоративные кредиты  \n",
       "17                                  Розничные кредиты  \n",
       "18                                 Розничные депозиты  \n",
       "19                             Корпоративные депозиты  \n",
       "20  Процентный доход по кредитам выданным физическ...  \n",
       "21  Процентный доход по кредитам выданным юридичес...  \n",
       "22  Процентные расходы по депозитам выданным физич...  \n",
       "23  Процентные расходы по депозитам выданным юриди...  \n",
       "24                       Расходы на создание резервов  "
      ]
     },
     "execution_count": 19,
     "metadata": {},
     "output_type": "execute_result"
    }
   ],
   "source": [
    "pd.DataFrame(names)"
   ]
  },
  {
   "cell_type": "code",
   "execution_count": null,
   "metadata": {},
   "outputs": [],
   "source": [
    "defaults.info()"
   ]
  },
  {
   "cell_type": "markdown",
   "metadata": {},
   "source": [
    "Теперь посмотрим, совпадают ли даты для наборов данных с дефолтами и с метриками."
   ]
  },
  {
   "cell_type": "code",
   "execution_count": null,
   "metadata": {},
   "outputs": [],
   "source": [
    "print(f\"Самая ранняя дата в метриках: {data.index.min()}\")\n",
    "print(f\"Самая ранняя дата в дефолтах: {defaults.index.min()}\")"
   ]
  },
  {
   "cell_type": "markdown",
   "metadata": {},
   "source": [
    "Так не годится, отберем данные о дефолтах с 2015 года."
   ]
  },
  {
   "cell_type": "code",
   "execution_count": null,
   "metadata": {},
   "outputs": [],
   "source": [
    "defaults = defaults[defaults.index.year>=2015]\n",
    "defaults.head(3)"
   ]
  },
  {
   "cell_type": "markdown",
   "metadata": {},
   "source": [
    "### 2. Предобработка данных и создание новых признаков."
   ]
  },
  {
   "cell_type": "markdown",
   "metadata": {},
   "source": [
    "#### 2.1 Числовые признаки.\n",
    "\n",
    "Для начала нам надо заполнить пропуски в данных. Посмотрим, в каких столбцах есть пропуски и сколько их:"
   ]
  },
  {
   "cell_type": "code",
   "execution_count": null,
   "metadata": {},
   "outputs": [],
   "source": [
    "print('Доля пропусков от общего числа наблюдений')\n",
    "nans = data.isna().sum()[data.isna().sum()!=0]/len(data)\n",
    "plt.figure(figsize=(8, 4))\n",
    "plt.bar(nans.index, nans.values*100,  color='steelblue');\n",
    "plt.xlabel('Название столбца');\n",
    "plt.ylabel('Доля пропусков, %');\n",
    "plt.title('Доля пропусков в % от наблюдений');"
   ]
  },
  {
   "cell_type": "markdown",
   "metadata": {},
   "source": [
    "Теперь нам надо выбрать стратегию, как заполнять пропуски. Заметно, что больше всего пропусков для столбцов со ставками - эти пропуски мы точно будем заполнять, наблюдения с пропусками в других столбцах выкинем. \n",
    "\n",
    "Наверно, оптимальный вариант - это заполнить пропущенные ставки значениями, средними по банковской системе на дату пропуска. Поэтому сначала рассчитаем средние ставки по банковской системе. Также сразу посчитаем совокупные активы банковской системы - этот показатель нам тоже пригодится."
   ]
  },
  {
   "cell_type": "code",
   "execution_count": null,
   "metadata": {},
   "outputs": [],
   "source": [
    "avg_cols = ['assets','corp_loan_abs', 'retail_loans_abs',\n",
    "            'retail_inc','corp_inc','retail_cost', \n",
    "            'corp_cost', 'retail_depo_abs','corp_depo_abs']\n",
    "\n",
    "group_dict = dict(zip(avg_cols, ['sum']*len(avg_cols)))\n",
    "avg = data.groupby(data.index).agg(group_dict).reset_index()\n",
    "avg.index = avg['date']\n",
    "# посчитаем собственно средние ставки\n",
    "avg['avg_corp_loan'] = avg['corp_inc']/avg['corp_loan_abs']\n",
    "avg['avg_retail_loan'] = avg['retail_inc']/avg['retail_loans_abs']\n",
    "avg['avg_corp_depo'] = avg['corp_cost']/avg['corp_depo_abs']\n",
    "avg['avg_retail_depo'] = avg['retail_cost']/avg['retail_depo_abs']"
   ]
  },
  {
   "cell_type": "markdown",
   "metadata": {},
   "source": [
    "Нарисуем средние ставки по кредитам и депозитам, это само по себе любопытно и информативно."
   ]
  },
  {
   "cell_type": "code",
   "execution_count": null,
   "metadata": {},
   "outputs": [],
   "source": [
    "fig, ax = plt.subplots(figsize=(14, 6))\n",
    "ax.plot(avg.avg_corp_loan*100, color='red', label='Корпоративные кредиты')\n",
    "ax.plot(avg.avg_corp_depo*100, color='green', label='Корпоративные депозиты')\n",
    "ax.plot(avg.avg_retail_loan*100, color='darkorange', label='Розничные кредиты')\n",
    "ax.plot(avg.avg_retail_depo*100, color='steelblue', label='Розничные депозиты')\n",
    "ax.set_xlabel('Дата')\n",
    "ax.set_ylabel('Ставка, %')\n",
    "ax.set_title('Средние ставки по банковским продуктам, %')\n",
    "ax.legend()\n",
    "ax.grid(True)\n",
    "fig.show();"
   ]
  },
  {
   "cell_type": "markdown",
   "metadata": {},
   "source": [
    "Странновато, конечно, ну да ладно. Теперь приклеим сгруппированный набор данных к основному, чтобы посчитать отклонения от средних ставок по разным продуктам для каждого банка."
   ]
  },
  {
   "cell_type": "code",
   "execution_count": null,
   "metadata": {},
   "outputs": [],
   "source": [
    "avg.rename(columns={'assets':'total_assets'}, inplace=True)\n",
    "\n",
    "data = pd.merge(left=data, \n",
    "                right=avg[['total_assets', 'avg_corp_loan', 'avg_retail_loan', \n",
    "                           'avg_corp_depo','avg_retail_depo']],\n",
    "                how='left',\n",
    "                left_index=True, right_index=True)"
   ]
  },
  {
   "cell_type": "markdown",
   "metadata": {},
   "source": [
    "Посчитаем \n",
    "1. Разницу между ставками конкретного банка и средними по системе ставками для\n",
    "  * Корпоративных кредитов\n",
    "  * Корпоративных депозитов\n",
    "  * Розничных кредитов\n",
    "  * Розничных депозитов\n",
    "2. Отношение кредитов к депозитам (Loan-Deposit Ratio)\n",
    "3. Доли кредитов в пассивах:\n",
    "  * Долю всего кредитного портфеля в пассивах\n",
    "  * Долю корпоративных кредитов в пассивах\n",
    "  * Долю розничных кредитов в пассивах\n",
    "4. Отношение активов банка к активам всей банковской системы на соответствующую дату\n",
    "5. Дисперсию\n",
    "  * Активов банка\n",
    "  * Кредитного портфеля банка\n",
    "  * Корпоративного кредитного портфеля банка"
   ]
  },
  {
   "cell_type": "code",
   "execution_count": null,
   "metadata": {},
   "outputs": [],
   "source": [
    "data.columns"
   ]
  },
  {
   "cell_type": "code",
   "execution_count": null,
   "metadata": {},
   "outputs": [],
   "source": [
    "# 1 дифференциалы процентных ставок\n",
    "data['corp_loan_spread'] = data['avg_corp_loan']-data['corp_loan']\n",
    "data['retail_loan_spread'] = data['avg_retail_loan']-data['retail_loan']\n",
    "data['corp_depo_spread'] = data['avg_corp_depo']-data['corp_depo']\n",
    "data['corp_loan_spread'] = data['avg_retail_loan']-data['retail_depo']\n",
    "# 2 loan-deposit ratio\n",
    "data['ldr'] = data['credits']/data['deposits']\n",
    "# 3 доли кредитов в пассивах\n",
    "data['loan_share'] = data['credits']/data['assets']\n",
    "pass\n",
    "pass\n",
    "# 4 доля активов банка в активах всей банковской системы\n",
    "data['size'] = data['assets']/data['total_assets']"
   ]
  },
  {
   "cell_type": "code",
   "execution_count": null,
   "metadata": {},
   "outputs": [],
   "source": []
  },
  {
   "cell_type": "code",
   "execution_count": null,
   "metadata": {},
   "outputs": [],
   "source": []
  },
  {
   "cell_type": "code",
   "execution_count": null,
   "metadata": {},
   "outputs": [],
   "source": []
  },
  {
   "cell_type": "code",
   "execution_count": null,
   "metadata": {},
   "outputs": [],
   "source": []
  },
  {
   "cell_type": "code",
   "execution_count": null,
   "metadata": {},
   "outputs": [],
   "source": []
  },
  {
   "cell_type": "code",
   "execution_count": null,
   "metadata": {},
   "outputs": [],
   "source": []
  },
  {
   "cell_type": "code",
   "execution_count": null,
   "metadata": {},
   "outputs": [],
   "source": []
  },
  {
   "cell_type": "markdown",
   "metadata": {},
   "source": [
    "#### 2.2 Категориальные признаки.\n",
    "\n",
    "Посмотрим, что из себя представляют два строковых признака, которые у нас есть:"
   ]
  },
  {
   "cell_type": "code",
   "execution_count": null,
   "metadata": {},
   "outputs": [],
   "source": [
    "fig, ax = plt.subplots(nrows=1, ncols=2, figsize=(18, 5))\n",
    "fig.subplots_adjust(top=0.8)\n",
    "\n",
    "ax[0].bar(data.moodys.value_counts().index, \n",
    "          (data.moodys.value_counts()/len(data)*100).values, color='darkorange')\n",
    "ax[0].set_title(\"Рейтинг  Moody's\")\n",
    "ax[0].set_xlabel('Категория рейтинга')\n",
    "ax[0].set_ylabel('Доля наблюдений, %')\n",
    "ax[0].grid(True)\n",
    "\n",
    "ax[1].bar(data.expertra.value_counts().index, \n",
    "          (data.expertra.value_counts()/len(data)*100).values, color='green')\n",
    "ax[1].set_title(\"Рейтинг  Эксперт РА\")\n",
    "ax[1].set_xlabel('Категория рейтинга')\n",
    "ax[1].set_ylabel('Доля наблюдений, %')\n",
    "ax[1].grid(True)\n",
    "\n",
    "fig.suptitle('Распределение наблюдений по рейтингам\\n различных рейтинговых агентств', \n",
    "             y=0.98, fontsize=14)\n",
    "fig.show();"
   ]
  },
  {
   "cell_type": "markdown",
   "metadata": {},
   "source": [
    "Посмотрим на распределения всех числовых признаков:"
   ]
  }
 ],
 "metadata": {
  "kernelspec": {
   "display_name": "Python 3 (ipykernel)",
   "language": "python",
   "name": "python3"
  },
  "language_info": {
   "codemirror_mode": {
    "name": "ipython",
    "version": 3
   },
   "file_extension": ".py",
   "mimetype": "text/x-python",
   "name": "python",
   "nbconvert_exporter": "python",
   "pygments_lexer": "ipython3",
   "version": "3.9.5"
  }
 },
 "nbformat": 4,
 "nbformat_minor": 5
}
